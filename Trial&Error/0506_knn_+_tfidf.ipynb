{
  "nbformat": 4,
  "nbformat_minor": 0,
  "metadata": {
    "colab": {
      "name": "0506 knn + tfidf.ipynb",
      "provenance": [],
      "collapsed_sections": [],
      "machine_shape": "hm"
    },
    "kernelspec": {
      "name": "python3",
      "display_name": "Python 3"
    },
    "language_info": {
      "name": "python"
    },
    "accelerator": "GPU",
    "widgets": {
      "application/vnd.jupyter.widget-state+json": {
        "17165f7e606d46e8bc4271ee8bec4e6f": {
          "model_module": "@jupyter-widgets/controls",
          "model_name": "HBoxModel",
          "state": {
            "_view_name": "HBoxView",
            "_dom_classes": [],
            "_model_name": "HBoxModel",
            "_view_module": "@jupyter-widgets/controls",
            "_model_module_version": "1.5.0",
            "_view_count": null,
            "_view_module_version": "1.5.0",
            "box_style": "",
            "layout": "IPY_MODEL_e72299c8289449058ad1c90900a8bfb0",
            "_model_module": "@jupyter-widgets/controls",
            "children": [
              "IPY_MODEL_51c68af5c2f54b789df90008b37540c8",
              "IPY_MODEL_eeae65b8e2df4906a029139ba0099e1f"
            ]
          }
        },
        "e72299c8289449058ad1c90900a8bfb0": {
          "model_module": "@jupyter-widgets/base",
          "model_name": "LayoutModel",
          "state": {
            "_view_name": "LayoutView",
            "grid_template_rows": null,
            "right": null,
            "justify_content": null,
            "_view_module": "@jupyter-widgets/base",
            "overflow": null,
            "_model_module_version": "1.2.0",
            "_view_count": null,
            "flex_flow": null,
            "width": null,
            "min_width": null,
            "border": null,
            "align_items": null,
            "bottom": null,
            "_model_module": "@jupyter-widgets/base",
            "top": null,
            "grid_column": null,
            "overflow_y": null,
            "overflow_x": null,
            "grid_auto_flow": null,
            "grid_area": null,
            "grid_template_columns": null,
            "flex": null,
            "_model_name": "LayoutModel",
            "justify_items": null,
            "grid_row": null,
            "max_height": null,
            "align_content": null,
            "visibility": null,
            "align_self": null,
            "height": null,
            "min_height": null,
            "padding": null,
            "grid_auto_rows": null,
            "grid_gap": null,
            "max_width": null,
            "order": null,
            "_view_module_version": "1.2.0",
            "grid_template_areas": null,
            "object_position": null,
            "object_fit": null,
            "grid_auto_columns": null,
            "margin": null,
            "display": null,
            "left": null
          }
        },
        "51c68af5c2f54b789df90008b37540c8": {
          "model_module": "@jupyter-widgets/controls",
          "model_name": "FloatProgressModel",
          "state": {
            "_view_name": "ProgressView",
            "style": "IPY_MODEL_d950a54208e04c4a9a08b156aa1646c4",
            "_dom_classes": [],
            "description": "100%",
            "_model_name": "FloatProgressModel",
            "bar_style": "success",
            "max": 2000,
            "_view_module": "@jupyter-widgets/controls",
            "_model_module_version": "1.5.0",
            "value": 2000,
            "_view_count": null,
            "_view_module_version": "1.5.0",
            "orientation": "horizontal",
            "min": 0,
            "description_tooltip": null,
            "_model_module": "@jupyter-widgets/controls",
            "layout": "IPY_MODEL_88e12276a29e4fa6ac0cc0dcd35b05d2"
          }
        },
        "eeae65b8e2df4906a029139ba0099e1f": {
          "model_module": "@jupyter-widgets/controls",
          "model_name": "HTMLModel",
          "state": {
            "_view_name": "HTMLView",
            "style": "IPY_MODEL_cef85bfd71a34a8b85a680315ae1d803",
            "_dom_classes": [],
            "description": "",
            "_model_name": "HTMLModel",
            "placeholder": "​",
            "_view_module": "@jupyter-widgets/controls",
            "_model_module_version": "1.5.0",
            "value": " 2000/2000 [1:10:47&lt;00:00,  2.12s/it]",
            "_view_count": null,
            "_view_module_version": "1.5.0",
            "description_tooltip": null,
            "_model_module": "@jupyter-widgets/controls",
            "layout": "IPY_MODEL_1b46be02da5e4c97b8dd5473e1cef918"
          }
        },
        "d950a54208e04c4a9a08b156aa1646c4": {
          "model_module": "@jupyter-widgets/controls",
          "model_name": "ProgressStyleModel",
          "state": {
            "_view_name": "StyleView",
            "_model_name": "ProgressStyleModel",
            "description_width": "initial",
            "_view_module": "@jupyter-widgets/base",
            "_model_module_version": "1.5.0",
            "_view_count": null,
            "_view_module_version": "1.2.0",
            "bar_color": null,
            "_model_module": "@jupyter-widgets/controls"
          }
        },
        "88e12276a29e4fa6ac0cc0dcd35b05d2": {
          "model_module": "@jupyter-widgets/base",
          "model_name": "LayoutModel",
          "state": {
            "_view_name": "LayoutView",
            "grid_template_rows": null,
            "right": null,
            "justify_content": null,
            "_view_module": "@jupyter-widgets/base",
            "overflow": null,
            "_model_module_version": "1.2.0",
            "_view_count": null,
            "flex_flow": null,
            "width": null,
            "min_width": null,
            "border": null,
            "align_items": null,
            "bottom": null,
            "_model_module": "@jupyter-widgets/base",
            "top": null,
            "grid_column": null,
            "overflow_y": null,
            "overflow_x": null,
            "grid_auto_flow": null,
            "grid_area": null,
            "grid_template_columns": null,
            "flex": null,
            "_model_name": "LayoutModel",
            "justify_items": null,
            "grid_row": null,
            "max_height": null,
            "align_content": null,
            "visibility": null,
            "align_self": null,
            "height": null,
            "min_height": null,
            "padding": null,
            "grid_auto_rows": null,
            "grid_gap": null,
            "max_width": null,
            "order": null,
            "_view_module_version": "1.2.0",
            "grid_template_areas": null,
            "object_position": null,
            "object_fit": null,
            "grid_auto_columns": null,
            "margin": null,
            "display": null,
            "left": null
          }
        },
        "cef85bfd71a34a8b85a680315ae1d803": {
          "model_module": "@jupyter-widgets/controls",
          "model_name": "DescriptionStyleModel",
          "state": {
            "_view_name": "StyleView",
            "_model_name": "DescriptionStyleModel",
            "description_width": "",
            "_view_module": "@jupyter-widgets/base",
            "_model_module_version": "1.5.0",
            "_view_count": null,
            "_view_module_version": "1.2.0",
            "_model_module": "@jupyter-widgets/controls"
          }
        },
        "1b46be02da5e4c97b8dd5473e1cef918": {
          "model_module": "@jupyter-widgets/base",
          "model_name": "LayoutModel",
          "state": {
            "_view_name": "LayoutView",
            "grid_template_rows": null,
            "right": null,
            "justify_content": null,
            "_view_module": "@jupyter-widgets/base",
            "overflow": null,
            "_model_module_version": "1.2.0",
            "_view_count": null,
            "flex_flow": null,
            "width": null,
            "min_width": null,
            "border": null,
            "align_items": null,
            "bottom": null,
            "_model_module": "@jupyter-widgets/base",
            "top": null,
            "grid_column": null,
            "overflow_y": null,
            "overflow_x": null,
            "grid_auto_flow": null,
            "grid_area": null,
            "grid_template_columns": null,
            "flex": null,
            "_model_name": "LayoutModel",
            "justify_items": null,
            "grid_row": null,
            "max_height": null,
            "align_content": null,
            "visibility": null,
            "align_self": null,
            "height": null,
            "min_height": null,
            "padding": null,
            "grid_auto_rows": null,
            "grid_gap": null,
            "max_width": null,
            "order": null,
            "_view_module_version": "1.2.0",
            "grid_template_areas": null,
            "object_position": null,
            "object_fit": null,
            "grid_auto_columns": null,
            "margin": null,
            "display": null,
            "left": null
          }
        }
      }
    }
  },
  "cells": [
    {
      "cell_type": "code",
      "metadata": {
        "id": "tyO_zrv_JaOZ"
      },
      "source": [
        "import pandas as pd\n",
        "from collections import Counter\n",
        "from pprint import pprint\n",
        "\n",
        "from sklearn.feature_extraction.text import TfidfVectorizer\n",
        "from sklearn.preprocessing import LabelEncoder\n",
        "from sklearn.metrics import accuracy_score\n",
        "from sklearn.model_selection import train_test_split\n",
        "from sklearn.metrics import confusion_matrix\n",
        "from sklearn.metrics import precision_score, recall_score, f1_score\n",
        "\n",
        "import time\n",
        "import matplotlib.pyplot as plt\n",
        "%config InlineBackend.figure_format = 'retina' \n",
        "plt.style.use('seaborn')\n",
        "import seaborn as sns\n",
        "sns.set_style('whitegrid')\n",
        "plt.style.use(\"fivethirtyeight\")\n",
        "%matplotlib inline"
      ],
      "execution_count": null,
      "outputs": []
    },
    {
      "cell_type": "code",
      "metadata": {
        "id": "oWsj7hLJJf1k"
      },
      "source": [
        "data = pd.read_pickle('/content/drive/MyDrive/Colab Notebooks/Competition/KED 대상팀/data/0504_alltoken.pkl')"
      ],
      "execution_count": null,
      "outputs": []
    },
    {
      "cell_type": "code",
      "metadata": {
        "colab": {
          "base_uri": "https://localhost:8080/"
        },
        "id": "dmwWospcJfvy",
        "outputId": "a8bec40b-0df9-4223-f251-a409827f021e"
      },
      "source": [
        "data.shape  # 150만개,,"
      ],
      "execution_count": null,
      "outputs": [
        {
          "output_type": "execute_result",
          "data": {
            "text/plain": [
              "(1579169, 8)"
            ]
          },
          "metadata": {
            "tags": []
          },
          "execution_count": 3
        }
      ]
    },
    {
      "cell_type": "code",
      "metadata": {
        "id": "7INnZfpcJfrF"
      },
      "source": [
        "## 자주 등장하는 단어 제거\n",
        "stopwords = ['부대사업', '사업', '각호', '에게'] \n",
        "\n",
        "def trash(x):\n",
        "    x = [word for word in x if not word in stopwords]\n",
        "    return list(set(x)) # 중복토큰도 제거\n",
        "\n",
        "data['clean_토큰'] = data['token'].apply(trash)"
      ],
      "execution_count": null,
      "outputs": []
    },
    {
      "cell_type": "code",
      "metadata": {
        "id": "rQQaAkl8Jfeu"
      },
      "source": [
        "# 길이 추가\n",
        "data['token_len'] = data['token'].apply(len)\n",
        "data['clean_token_len'] = data['clean_토큰'].apply(len)"
      ],
      "execution_count": null,
      "outputs": []
    },
    {
      "cell_type": "code",
      "metadata": {
        "colab": {
          "base_uri": "https://localhost:8080/",
          "height": 261
        },
        "id": "n7wLf9aJJfbe",
        "outputId": "dcc759a9-5101-4351-b299-d083014b1007"
      },
      "source": [
        "data.head(1)"
      ],
      "execution_count": null,
      "outputs": [
        {
          "output_type": "execute_result",
          "data": {
            "text/html": [
              "<div>\n",
              "<style scoped>\n",
              "    .dataframe tbody tr th:only-of-type {\n",
              "        vertical-align: middle;\n",
              "    }\n",
              "\n",
              "    .dataframe tbody tr th {\n",
              "        vertical-align: top;\n",
              "    }\n",
              "\n",
              "    .dataframe thead th {\n",
              "        text-align: right;\n",
              "    }\n",
              "</style>\n",
              "<table border=\"1\" class=\"dataframe\">\n",
              "  <thead>\n",
              "    <tr style=\"text-align: right;\">\n",
              "      <th></th>\n",
              "      <th>company</th>\n",
              "      <th>industry_code</th>\n",
              "      <th>big</th>\n",
              "      <th>middle</th>\n",
              "      <th>small</th>\n",
              "      <th>least</th>\n",
              "      <th>leastleast</th>\n",
              "      <th>token</th>\n",
              "      <th>clean_토큰</th>\n",
              "      <th>token_len</th>\n",
              "      <th>clean_token_len</th>\n",
              "    </tr>\n",
              "  </thead>\n",
              "  <tbody>\n",
              "    <tr>\n",
              "      <th>0</th>\n",
              "      <td>1000000</td>\n",
              "      <td>F41121</td>\n",
              "      <td>F</td>\n",
              "      <td>41</td>\n",
              "      <td>411</td>\n",
              "      <td>4112</td>\n",
              "      <td>41121</td>\n",
              "      <td>[토목, 건축, 사업, 주택, 분양, 임대업, 경공, 사업, 산업, 설비, 사업, ...</td>\n",
              "      <td>[유지관리, 산업, 시설물, 설계, 처리, 부대, 토건업, 채취, 폐수, 분양, 주...</td>\n",
              "      <td>29</td>\n",
              "      <td>22</td>\n",
              "    </tr>\n",
              "  </tbody>\n",
              "</table>\n",
              "</div>"
            ],
            "text/plain": [
              "   company industry_code  ... token_len clean_token_len\n",
              "0  1000000        F41121  ...        29              22\n",
              "\n",
              "[1 rows x 11 columns]"
            ]
          },
          "metadata": {
            "tags": []
          },
          "execution_count": 6
        }
      ]
    },
    {
      "cell_type": "code",
      "metadata": {
        "colab": {
          "base_uri": "https://localhost:8080/",
          "height": 391
        },
        "id": "UUPzJzsvJfYk",
        "outputId": "db856b84-e368-4f35-d30a-8921feb140f8"
      },
      "source": [
        "# token_len box-plot\n",
        "plt.figure(figsize=(16,5))\n",
        "sns.boxplot(data['clean_token_len'])\n",
        "plt.show()  "
      ],
      "execution_count": null,
      "outputs": [
        {
          "output_type": "stream",
          "text": [
            "/usr/local/lib/python3.7/dist-packages/seaborn/_decorators.py:43: FutureWarning: Pass the following variable as a keyword arg: x. From version 0.12, the only valid positional argument will be `data`, and passing other arguments without an explicit keyword will result in an error or misinterpretation.\n",
            "  FutureWarning\n"
          ],
          "name": "stderr"
        },
        {
          "output_type": "display_data",
          "data": {
            "image/png": "[encoded data removed]",
            "text/plain": [
              "<Figure size 1152x360 with 1 Axes>"
            ]
          },
          "metadata": {
            "tags": [],
            "image/png": {
              "width": 1016,
              "height": 319
            },
            "needs_background": "light"
          }
        }
      ]
    },
    {
      "cell_type": "markdown",
      "metadata": {
        "id": "cvWAHAMUPKr7"
      },
      "source": [
        "## TF-IDF"
      ]
    },
    {
      "cell_type": "code",
      "metadata": {
        "colab": {
          "base_uri": "https://localhost:8080/"
        },
        "id": "hFQbOaCajhkx",
        "outputId": "3e074af0-427c-41dc-ee5d-a5f69404512d"
      },
      "source": [
        "data[:1263335].big.value_counts()"
      ],
      "execution_count": null,
      "outputs": [
        {
          "output_type": "execute_result",
          "data": {
            "text/plain": [
              "C    325449\n",
              "F    175328\n",
              "G    154749\n",
              "L    111351\n",
              "J    109556\n",
              "N     75069\n",
              "K     56952\n",
              "S     56807\n",
              "A     46741\n",
              "M     40982\n",
              "H     28471\n",
              "P     22254\n",
              "I     21588\n",
              "R     14584\n",
              "E     13861\n",
              "Q      6530\n",
              "D      2668\n",
              "O       367\n",
              "T        17\n",
              "U        11\n",
              "Name: big, dtype: int64"
            ]
          },
          "metadata": {
            "tags": []
          },
          "execution_count": 8
        }
      ]
    },
    {
      "cell_type": "code",
      "metadata": {
        "id": "vcvDjef_MHC9"
      },
      "source": [
        "X = [' '.join(x) for x in data.iloc[:,-3]]\n",
        "y = data.big.tolist()\n",
        "# split\n",
        "# X_train, X_test, y_train, y_test = train_test_split(X, y, test_size=0.2, random_state=1214, stratify=y)"
      ],
      "execution_count": null,
      "outputs": []
    },
    {
      "cell_type": "code",
      "metadata": {
        "colab": {
          "base_uri": "https://localhost:8080/"
        },
        "id": "20i1xWPzwScD",
        "outputId": "dee3ba41-181d-423a-c385-dffbdd911c60"
      },
      "source": [
        "len(X)"
      ],
      "execution_count": null,
      "outputs": [
        {
          "output_type": "execute_result",
          "data": {
            "text/plain": [
              "1579169"
            ]
          },
          "metadata": {
            "tags": []
          },
          "execution_count": 10
        }
      ]
    },
    {
      "cell_type": "code",
      "metadata": {
        "id": "aKCE0aT1j_L5"
      },
      "source": [
        "# 8:2로 임의로 자름\n",
        "X_train = X[:1263335]    # 그냥 우선 순서대로 잘라봄(인덱스 원래 data랑 매칭할라고)\n",
        "y_train = y[:1263335]    # 셔플은 X 자체를 셔플하면됨 \n",
        "X_test = X[1263335:]\n",
        "y_test = y[1263335:]"
      ],
      "execution_count": null,
      "outputs": []
    },
    {
      "cell_type": "code",
      "metadata": {
        "colab": {
          "base_uri": "https://localhost:8080/",
          "height": 52
        },
        "id": "J3TCNy4ljf-m",
        "outputId": "ef6855e7-c945-4b7a-a3bf-c42251abd337"
      },
      "source": [
        "X[0]"
      ],
      "execution_count": null,
      "outputs": [
        {
          "output_type": "execute_result",
          "data": {
            "application/vnd.google.colaboratory.intrinsic+json": {
              "type": "string"
            },
            "text/plain": [
              "'유지관리 산업 시설물 설계 처리 부대 토건업 채취 폐수 분양 주택 분뇨 건축 임대업 판매 경공 축산 장비 골재 공업 설비 토목'"
            ]
          },
          "metadata": {
            "tags": []
          },
          "execution_count": 12
        }
      ]
    },
    {
      "cell_type": "code",
      "metadata": {
        "colab": {
          "base_uri": "https://localhost:8080/"
        },
        "id": "9GzYjklrMHAc",
        "outputId": "7a665f57-08d0-4afe-8b7b-a029116abbdb"
      },
      "source": [
        "print(len(X_train), len(X_test))"
      ],
      "execution_count": null,
      "outputs": [
        {
          "output_type": "stream",
          "text": [
            "1263335 315834\n"
          ],
          "name": "stdout"
        }
      ]
    },
    {
      "cell_type": "code",
      "metadata": {
        "colab": {
          "base_uri": "https://localhost:8080/"
        },
        "id": "lCEL2OGQMG-T",
        "outputId": "2e98186a-e88b-42be-8aff-dbae2fddda81"
      },
      "source": [
        "%%time\n",
        "preprocessor = TfidfVectorizer(max_features=500)   # tf-idf\n",
        "X_train_p = preprocessor.fit_transform(X_train, y_train).toarray()\n",
        "X_test_p = preprocessor.transform(X_test).toarray()    "
      ],
      "execution_count": null,
      "outputs": [
        {
          "output_type": "stream",
          "text": [
            "CPU times: user 40.5 s, sys: 2.69 s, total: 43.2 s\n",
            "Wall time: 43 s\n"
          ],
          "name": "stdout"
        }
      ]
    },
    {
      "cell_type": "code",
      "metadata": {
        "colab": {
          "base_uri": "https://localhost:8080/"
        },
        "id": "5D9omD_UQPhu",
        "outputId": "c36dd0d4-51be-4684-a269-c80c02407891"
      },
      "source": [
        "X_train_p.shape   # 빈도수 행렬로 바뀜"
      ],
      "execution_count": null,
      "outputs": [
        {
          "output_type": "execute_result",
          "data": {
            "text/plain": [
              "(1263335, 500)"
            ]
          },
          "metadata": {
            "tags": []
          },
          "execution_count": 15
        }
      ]
    },
    {
      "cell_type": "code",
      "metadata": {
        "colab": {
          "base_uri": "https://localhost:8080/"
        },
        "id": "-OFcXZLrQT0k",
        "outputId": "5ef22f98-813b-4b98-f566-a666a12e499d"
      },
      "source": [
        "X_train_p[0]"
      ],
      "execution_count": null,
      "outputs": [
        {
          "output_type": "execute_result",
          "data": {
            "text/plain": [
              "array([0.        , 0.        , 0.        , 0.        , 0.        ,\n",
              "       0.        , 0.        , 0.        , 0.        , 0.        ,\n",
              "       0.        , 0.        , 0.        , 0.        , 0.        ,\n",
              "       0.        , 0.        , 0.        , 0.        , 0.        ,\n",
              "       0.18638762, 0.        , 0.        , 0.        , 0.30765501,\n",
              "       0.        , 0.        , 0.        , 0.        , 0.        ,\n",
              "       0.        , 0.        , 0.        , 0.        , 0.        ,\n",
              "       0.        , 0.31478761, 0.        , 0.        , 0.        ,\n",
              "       0.        , 0.        , 0.21427358, 0.        , 0.        ,\n",
              "       0.        , 0.        , 0.        , 0.        , 0.        ,\n",
              "       0.        , 0.        , 0.        , 0.        , 0.        ,\n",
              "       0.        , 0.        , 0.        , 0.        , 0.        ,\n",
              "       0.        , 0.        , 0.        , 0.        , 0.        ,\n",
              "       0.        , 0.        , 0.        , 0.        , 0.        ,\n",
              "       0.        , 0.        , 0.        , 0.        , 0.        ,\n",
              "       0.        , 0.        , 0.        , 0.        , 0.        ,\n",
              "       0.        , 0.        , 0.        , 0.        , 0.        ,\n",
              "       0.        , 0.        , 0.        , 0.        , 0.        ,\n",
              "       0.        , 0.        , 0.        , 0.        , 0.        ,\n",
              "       0.        , 0.        , 0.        , 0.        , 0.        ,\n",
              "       0.        , 0.        , 0.        , 0.        , 0.        ,\n",
              "       0.        , 0.        , 0.        , 0.        , 0.        ,\n",
              "       0.        , 0.        , 0.        , 0.        , 0.        ,\n",
              "       0.        , 0.        , 0.        , 0.        , 0.        ,\n",
              "       0.        , 0.        , 0.        , 0.        , 0.        ,\n",
              "       0.        , 0.        , 0.        , 0.        , 0.        ,\n",
              "       0.        , 0.        , 0.        , 0.        , 0.        ,\n",
              "       0.        , 0.        , 0.        , 0.        , 0.        ,\n",
              "       0.        , 0.        , 0.        , 0.        , 0.        ,\n",
              "       0.        , 0.        , 0.        , 0.        , 0.        ,\n",
              "       0.        , 0.        , 0.        , 0.        , 0.        ,\n",
              "       0.        , 0.        , 0.        , 0.        , 0.        ,\n",
              "       0.        , 0.        , 0.        , 0.        , 0.        ,\n",
              "       0.        , 0.        , 0.        , 0.13716157, 0.        ,\n",
              "       0.        , 0.        , 0.        , 0.        , 0.20777885,\n",
              "       0.        , 0.        , 0.        , 0.        , 0.        ,\n",
              "       0.        , 0.        , 0.        , 0.        , 0.        ,\n",
              "       0.        , 0.        , 0.        , 0.22083805, 0.        ,\n",
              "       0.        , 0.        , 0.        , 0.        , 0.        ,\n",
              "       0.        , 0.        , 0.        , 0.        , 0.        ,\n",
              "       0.        , 0.        , 0.        , 0.        , 0.        ,\n",
              "       0.        , 0.25228596, 0.        , 0.        , 0.21875292,\n",
              "       0.        , 0.        , 0.        , 0.        , 0.        ,\n",
              "       0.        , 0.        , 0.        , 0.        , 0.        ,\n",
              "       0.        , 0.        , 0.        , 0.        , 0.        ,\n",
              "       0.        , 0.        , 0.        , 0.        , 0.        ,\n",
              "       0.        , 0.        , 0.        , 0.        , 0.        ,\n",
              "       0.        , 0.        , 0.        , 0.        , 0.23080871,\n",
              "       0.        , 0.        , 0.        , 0.        , 0.        ,\n",
              "       0.        , 0.        , 0.        , 0.        , 0.        ,\n",
              "       0.        , 0.        , 0.        , 0.        , 0.        ,\n",
              "       0.        , 0.        , 0.        , 0.        , 0.        ,\n",
              "       0.        , 0.        , 0.        , 0.        , 0.        ,\n",
              "       0.        , 0.        , 0.        , 0.        , 0.        ,\n",
              "       0.        , 0.        , 0.        , 0.        , 0.        ,\n",
              "       0.        , 0.        , 0.        , 0.        , 0.        ,\n",
              "       0.        , 0.        , 0.        , 0.        , 0.        ,\n",
              "       0.        , 0.        , 0.        , 0.        , 0.        ,\n",
              "       0.        , 0.        , 0.        , 0.        , 0.        ,\n",
              "       0.27022946, 0.        , 0.        , 0.        , 0.        ,\n",
              "       0.        , 0.        , 0.        , 0.        , 0.        ,\n",
              "       0.        , 0.        , 0.        , 0.        , 0.        ,\n",
              "       0.        , 0.        , 0.        , 0.        , 0.        ,\n",
              "       0.        , 0.        , 0.        , 0.        , 0.        ,\n",
              "       0.        , 0.        , 0.        , 0.        , 0.13360301,\n",
              "       0.        , 0.        , 0.        , 0.        , 0.        ,\n",
              "       0.        , 0.        , 0.        , 0.        , 0.        ,\n",
              "       0.        , 0.        , 0.        , 0.        , 0.        ,\n",
              "       0.        , 0.21961651, 0.        , 0.        , 0.        ,\n",
              "       0.        , 0.        , 0.        , 0.        , 0.        ,\n",
              "       0.        , 0.        , 0.        , 0.        , 0.        ,\n",
              "       0.        , 0.        , 0.        , 0.        , 0.        ,\n",
              "       0.        , 0.        , 0.        , 0.        , 0.        ,\n",
              "       0.        , 0.        , 0.        , 0.        , 0.        ,\n",
              "       0.        , 0.        , 0.        , 0.        , 0.        ,\n",
              "       0.        , 0.        , 0.        , 0.        , 0.        ,\n",
              "       0.        , 0.        , 0.        , 0.        , 0.        ,\n",
              "       0.        , 0.        , 0.        , 0.        , 0.        ,\n",
              "       0.        , 0.20785861, 0.        , 0.        , 0.        ,\n",
              "       0.        , 0.        , 0.        , 0.        , 0.        ,\n",
              "       0.        , 0.        , 0.        , 0.        , 0.        ,\n",
              "       0.        , 0.        , 0.        , 0.        , 0.        ,\n",
              "       0.        , 0.        , 0.        , 0.        , 0.23109252,\n",
              "       0.        , 0.        , 0.        , 0.        , 0.        ,\n",
              "       0.        , 0.        , 0.        , 0.        , 0.        ,\n",
              "       0.        , 0.34520239, 0.        , 0.        , 0.        ,\n",
              "       0.        , 0.        , 0.        , 0.        , 0.        ,\n",
              "       0.        , 0.        , 0.        , 0.        , 0.        ,\n",
              "       0.        , 0.        , 0.        , 0.        , 0.25784162,\n",
              "       0.        , 0.        , 0.        , 0.        , 0.        ,\n",
              "       0.        , 0.        , 0.        , 0.        , 0.16945223,\n",
              "       0.        , 0.        , 0.        , 0.        , 0.        ,\n",
              "       0.        , 0.        , 0.        , 0.        , 0.        ,\n",
              "       0.        , 0.        , 0.        , 0.        , 0.        ,\n",
              "       0.        , 0.        , 0.        , 0.        , 0.        ,\n",
              "       0.        , 0.        , 0.        , 0.        , 0.        ,\n",
              "       0.        , 0.        , 0.        , 0.        , 0.        ,\n",
              "       0.        , 0.        , 0.        , 0.        , 0.        ,\n",
              "       0.        , 0.        , 0.        , 0.        , 0.        ,\n",
              "       0.        , 0.        , 0.        , 0.        , 0.        ])"
            ]
          },
          "metadata": {
            "tags": []
          },
          "execution_count": 16
        }
      ]
    },
    {
      "cell_type": "code",
      "metadata": {
        "id": "Zay5KmacMG75"
      },
      "source": [
        "# 대분류 라벨링 \n",
        "label_enc = LabelEncoder()    \n",
        "y_train_p = label_enc.fit_transform(y_train)\n",
        "y_test_p = label_enc.transform(y_test)"
      ],
      "execution_count": null,
      "outputs": []
    },
    {
      "cell_type": "markdown",
      "metadata": {
        "id": "q-W8XFHIlxAF"
      },
      "source": [
        "# Similarity\n",
        "\n",
        "- KNN"
      ]
    },
    {
      "cell_type": "code",
      "metadata": {
        "colab": {
          "base_uri": "https://localhost:8080/"
        },
        "id": "p8ioY67BeDRD",
        "outputId": "5ce98d3f-f3e8-4b8f-b7fc-846a5e6ed774"
      },
      "source": [
        "%%time\n",
        "from sklearn.neighbors import NearestNeighbors    # knn neighbors\n",
        "neigh = NearestNeighbors(metric='minkowski', algorithm='brute', n_neighbors=10, n_jobs=-1)\n",
        "neigh.fit(X_train_p)   # minkowski 이것도 좋음\n",
        "\n",
        "## X_train을 neighbor로 학습"
      ],
      "execution_count": null,
      "outputs": [
        {
          "output_type": "stream",
          "text": [
            "CPU times: user 604 ms, sys: 14.9 ms, total: 619 ms\n",
            "Wall time: 632 ms\n"
          ],
          "name": "stdout"
        }
      ]
    },
    {
      "cell_type": "code",
      "metadata": {
        "id": "KcjalsZzgp7l"
      },
      "source": [
        "x_train_data = pd.DataFrame(X_train, columns=['token'])"
      ],
      "execution_count": null,
      "outputs": []
    },
    {
      "cell_type": "code",
      "metadata": {
        "colab": {
          "base_uri": "https://localhost:8080/",
          "height": 197
        },
        "id": "3UOQKGKaku0y",
        "outputId": "bace5809-f7f5-4ccc-e78d-455a0868f6b0"
      },
      "source": [
        "x_train_data.head()"
      ],
      "execution_count": null,
      "outputs": [
        {
          "output_type": "execute_result",
          "data": {
            "text/html": [
              "<div>\n",
              "<style scoped>\n",
              "    .dataframe tbody tr th:only-of-type {\n",
              "        vertical-align: middle;\n",
              "    }\n",
              "\n",
              "    .dataframe tbody tr th {\n",
              "        vertical-align: top;\n",
              "    }\n",
              "\n",
              "    .dataframe thead th {\n",
              "        text-align: right;\n",
              "    }\n",
              "</style>\n",
              "<table border=\"1\" class=\"dataframe\">\n",
              "  <thead>\n",
              "    <tr style=\"text-align: right;\">\n",
              "      <th></th>\n",
              "      <th>token</th>\n",
              "    </tr>\n",
              "  </thead>\n",
              "  <tbody>\n",
              "    <tr>\n",
              "      <th>0</th>\n",
              "      <td>유지관리 산업 시설물 설계 처리 부대 토건업 채취 폐수 분양 주택 분뇨 건축 임대업...</td>\n",
              "    </tr>\n",
              "    <tr>\n",
              "      <th>1</th>\n",
              "      <td>부착물 부동산 제작 소매업 사항 포함 건축 기설 매매 판매 일반 판넬 재자 임대 부...</td>\n",
              "    </tr>\n",
              "    <tr>\n",
              "      <th>2</th>\n",
              "      <td>부동산 건설업 대지 주택 건축 임대업 조경 목공 조성업 부대</td>\n",
              "    </tr>\n",
              "    <tr>\n",
              "      <th>3</th>\n",
              "      <td>창호 제조업</td>\n",
              "    </tr>\n",
              "    <tr>\n",
              "      <th>4</th>\n",
              "      <td>비공 석산 주택공사 건설 목공 개발 토사 방지 정보통 환경 부동산 채취 재판매 오염...</td>\n",
              "    </tr>\n",
              "  </tbody>\n",
              "</table>\n",
              "</div>"
            ],
            "text/plain": [
              "                                               token\n",
              "0  유지관리 산업 시설물 설계 처리 부대 토건업 채취 폐수 분양 주택 분뇨 건축 임대업...\n",
              "1  부착물 부동산 제작 소매업 사항 포함 건축 기설 매매 판매 일반 판넬 재자 임대 부...\n",
              "2                  부동산 건설업 대지 주택 건축 임대업 조경 목공 조성업 부대\n",
              "3                                             창호 제조업\n",
              "4  비공 석산 주택공사 건설 목공 개발 토사 방지 정보통 환경 부동산 채취 재판매 오염..."
            ]
          },
          "metadata": {
            "tags": []
          },
          "execution_count": 20
        }
      ]
    },
    {
      "cell_type": "code",
      "metadata": {
        "colab": {
          "base_uri": "https://localhost:8080/"
        },
        "id": "HbckywZowz6N",
        "outputId": "3799d91a-32c0-44d1-a3c5-c4635b66fb04"
      },
      "source": [
        "data[1263335:].iloc[0,:]"
      ],
      "execution_count": null,
      "outputs": [
        {
          "output_type": "execute_result",
          "data": {
            "text/plain": [
              "company                                       7601103\n",
              "industry_code                                  G46203\n",
              "big                                                 G\n",
              "middle                                             46\n",
              "small                                             462\n",
              "least                                            4620\n",
              "leastleast                                      46203\n",
              "token              [사료, 제조, 판매업, 무역업, 부동산, 임대업, 부대사업]\n",
              "clean_토큰                 [부동산, 무역업, 사료, 제조, 임대업, 판매업]\n",
              "token_len                                           7\n",
              "clean_token_len                                     6\n",
              "Name: 280152, dtype: object"
            ]
          },
          "metadata": {
            "tags": []
          },
          "execution_count": 21
        }
      ]
    },
    {
      "cell_type": "code",
      "metadata": {
        "id": "KoxhSNhsfn6l"
      },
      "source": [
        "p = X_test_p[0]   # test도 체크\n",
        "p = p.reshape(-1, 1) "
      ],
      "execution_count": null,
      "outputs": []
    },
    {
      "cell_type": "code",
      "metadata": {
        "colab": {
          "base_uri": "https://localhost:8080/"
        },
        "id": "V4qjGoMkgUYV",
        "outputId": "5ec7d42a-f866-42d9-f47b-70d22fd2a96a"
      },
      "source": [
        "neigh.kneighbors(p.T)   # X_train에서 유사한 애들이 나옴 "
      ],
      "execution_count": null,
      "outputs": [
        {
          "output_type": "execute_result",
          "data": {
            "text/plain": [
              "(array([[0.        , 0.47729543, 0.48087008, 0.48318438, 0.51288334,\n",
              "         0.51288334, 0.52856881, 0.53184829, 0.55113151, 0.55113151]]),\n",
              " array([[ 984113,  969503, 1107794, 1051152, 1113707, 1125443,  461402,\n",
              "          390066,  589083,  401935]]))"
            ]
          },
          "metadata": {
            "tags": []
          },
          "execution_count": 23
        }
      ]
    },
    {
      "cell_type": "code",
      "metadata": {
        "colab": {
          "base_uri": "https://localhost:8080/"
        },
        "id": "b-JMaSfvxVlU",
        "outputId": "b8984d09-49cd-4328-8800-171b42472c63"
      },
      "source": [
        "neigh.kneighbors(p.T)[0][0][0]"
      ],
      "execution_count": null,
      "outputs": [
        {
          "output_type": "execute_result",
          "data": {
            "text/plain": [
              "0.0"
            ]
          },
          "metadata": {
            "tags": []
          },
          "execution_count": 24
        }
      ]
    },
    {
      "cell_type": "markdown",
      "metadata": {
        "id": "n4WlGYzsxPoW"
      },
      "source": [
        "아예 토큰이 같으면 거리가 0임 !! \n",
        "> 0인게 나오면 무조건 투표 안하고 그걸로 분류??? "
      ]
    },
    {
      "cell_type": "code",
      "metadata": {
        "colab": {
          "base_uri": "https://localhost:8080/",
          "height": 347
        },
        "id": "7Md3_UgeeDJB",
        "outputId": "0e7451f9-bf5e-4bcc-f796-a39d9e50ae47"
      },
      "source": [
        "x_train_data.iloc[neigh.kneighbors(p.T)[1][0]]     # 왜 인덱스가 다르지...... "
      ],
      "execution_count": null,
      "outputs": [
        {
          "output_type": "execute_result",
          "data": {
            "text/html": [
              "<div>\n",
              "<style scoped>\n",
              "    .dataframe tbody tr th:only-of-type {\n",
              "        vertical-align: middle;\n",
              "    }\n",
              "\n",
              "    .dataframe tbody tr th {\n",
              "        vertical-align: top;\n",
              "    }\n",
              "\n",
              "    .dataframe thead th {\n",
              "        text-align: right;\n",
              "    }\n",
              "</style>\n",
              "<table border=\"1\" class=\"dataframe\">\n",
              "  <thead>\n",
              "    <tr style=\"text-align: right;\">\n",
              "      <th></th>\n",
              "      <th>token</th>\n",
              "    </tr>\n",
              "  </thead>\n",
              "  <tbody>\n",
              "    <tr>\n",
              "      <th>984113</th>\n",
              "      <td>부동산 무역업 사료 제조 임대업 판매업</td>\n",
              "    </tr>\n",
              "    <tr>\n",
              "      <th>969503</th>\n",
              "      <td>부동산 사료 제조 임대업 위호 동물 부대 판매업</td>\n",
              "    </tr>\n",
              "    <tr>\n",
              "      <th>1107794</th>\n",
              "      <td>무역업 사료 제조 양어 부동산업 부대 판매업</td>\n",
              "    </tr>\n",
              "    <tr>\n",
              "      <th>1051152</th>\n",
              "      <td>소매업 무역업 단미사료 사료 비료 제조 판매업</td>\n",
              "    </tr>\n",
              "    <tr>\n",
              "      <th>1113707</th>\n",
              "      <td>부동산 무역업 소매업 사료 임대업</td>\n",
              "    </tr>\n",
              "    <tr>\n",
              "      <th>1125443</th>\n",
              "      <td>부동산 무역업 소매업 사료 임대업</td>\n",
              "    </tr>\n",
              "    <tr>\n",
              "      <th>461402</th>\n",
              "      <td>부동산 사료 수출입 제조 임대업 부동산업 판매업</td>\n",
              "    </tr>\n",
              "    <tr>\n",
              "      <th>390066</th>\n",
              "      <td>부동산 무역업 사료 제조 식용유 임대업 위항 부수 단미 판매업</td>\n",
              "    </tr>\n",
              "    <tr>\n",
              "      <th>589083</th>\n",
              "      <td>유기질 비료 단비 사료 제조 농자 판매업</td>\n",
              "    </tr>\n",
              "    <tr>\n",
              "      <th>401935</th>\n",
              "      <td>사료 단백질 제조 첨가제 판매업</td>\n",
              "    </tr>\n",
              "  </tbody>\n",
              "</table>\n",
              "</div>"
            ],
            "text/plain": [
              "                                      token\n",
              "984113                부동산 무역업 사료 제조 임대업 판매업\n",
              "969503           부동산 사료 제조 임대업 위호 동물 부대 판매업\n",
              "1107794            무역업 사료 제조 양어 부동산업 부대 판매업\n",
              "1051152           소매업 무역업 단미사료 사료 비료 제조 판매업\n",
              "1113707                  부동산 무역업 소매업 사료 임대업\n",
              "1125443                  부동산 무역업 소매업 사료 임대업\n",
              "461402           부동산 사료 수출입 제조 임대업 부동산업 판매업\n",
              "390066   부동산 무역업 사료 제조 식용유 임대업 위항 부수 단미 판매업\n",
              "589083               유기질 비료 단비 사료 제조 농자 판매업\n",
              "401935                    사료 단백질 제조 첨가제 판매업"
            ]
          },
          "metadata": {
            "tags": []
          },
          "execution_count": 25
        }
      ]
    },
    {
      "cell_type": "markdown",
      "metadata": {
        "id": "Ipq4H8cYtixQ"
      },
      "source": [
        "- 중복돼서 많이 등장하는 단어 노이즈 제거 필요"
      ]
    },
    {
      "cell_type": "code",
      "metadata": {
        "id": "CGvWNlwvlCEs"
      },
      "source": [
        "# 실제 데이터에서 유사한 것 확인\n",
        "vote = data[:1263335].iloc[neigh.kneighbors(p.T)[1][0]][['big', 'middle', 'small', 'least']]  "
      ],
      "execution_count": null,
      "outputs": []
    },
    {
      "cell_type": "code",
      "metadata": {
        "colab": {
          "base_uri": "https://localhost:8080/",
          "height": 347
        },
        "id": "nyqMWxqJo3xh",
        "outputId": "5a63c4b9-e753-46a0-9534-ceff7c9fda1c"
      },
      "source": [
        "vote"
      ],
      "execution_count": null,
      "outputs": [
        {
          "output_type": "execute_result",
          "data": {
            "text/html": [
              "<div>\n",
              "<style scoped>\n",
              "    .dataframe tbody tr th:only-of-type {\n",
              "        vertical-align: middle;\n",
              "    }\n",
              "\n",
              "    .dataframe tbody tr th {\n",
              "        vertical-align: top;\n",
              "    }\n",
              "\n",
              "    .dataframe thead th {\n",
              "        text-align: right;\n",
              "    }\n",
              "</style>\n",
              "<table border=\"1\" class=\"dataframe\">\n",
              "  <thead>\n",
              "    <tr style=\"text-align: right;\">\n",
              "      <th></th>\n",
              "      <th>big</th>\n",
              "      <th>middle</th>\n",
              "      <th>small</th>\n",
              "      <th>least</th>\n",
              "    </tr>\n",
              "  </thead>\n",
              "  <tbody>\n",
              "    <tr>\n",
              "      <th>930</th>\n",
              "      <td>G</td>\n",
              "      <td>46</td>\n",
              "      <td>462</td>\n",
              "      <td>4620</td>\n",
              "    </tr>\n",
              "    <tr>\n",
              "      <th>589162</th>\n",
              "      <td>C</td>\n",
              "      <td>10</td>\n",
              "      <td>102</td>\n",
              "      <td>1021</td>\n",
              "    </tr>\n",
              "    <tr>\n",
              "      <th>124611</th>\n",
              "      <td>A</td>\n",
              "      <td>03</td>\n",
              "      <td>032</td>\n",
              "      <td>0322</td>\n",
              "    </tr>\n",
              "    <tr>\n",
              "      <th>67969</th>\n",
              "      <td>G</td>\n",
              "      <td>46</td>\n",
              "      <td>462</td>\n",
              "      <td>4620</td>\n",
              "    </tr>\n",
              "    <tr>\n",
              "      <th>130524</th>\n",
              "      <td>G</td>\n",
              "      <td>46</td>\n",
              "      <td>462</td>\n",
              "      <td>4620</td>\n",
              "    </tr>\n",
              "    <tr>\n",
              "      <th>142260</th>\n",
              "      <td>G</td>\n",
              "      <td>46</td>\n",
              "      <td>462</td>\n",
              "      <td>4620</td>\n",
              "    </tr>\n",
              "    <tr>\n",
              "      <th>81061</th>\n",
              "      <td>C</td>\n",
              "      <td>10</td>\n",
              "      <td>108</td>\n",
              "      <td>1080</td>\n",
              "    </tr>\n",
              "    <tr>\n",
              "      <th>9725</th>\n",
              "      <td>C</td>\n",
              "      <td>10</td>\n",
              "      <td>104</td>\n",
              "      <td>1040</td>\n",
              "    </tr>\n",
              "    <tr>\n",
              "      <th>208742</th>\n",
              "      <td>C</td>\n",
              "      <td>20</td>\n",
              "      <td>203</td>\n",
              "      <td>2031</td>\n",
              "    </tr>\n",
              "    <tr>\n",
              "      <th>21594</th>\n",
              "      <td>C</td>\n",
              "      <td>21</td>\n",
              "      <td>212</td>\n",
              "      <td>2123</td>\n",
              "    </tr>\n",
              "  </tbody>\n",
              "</table>\n",
              "</div>"
            ],
            "text/plain": [
              "       big middle small least\n",
              "930      G     46   462  4620\n",
              "589162   C     10   102  1021\n",
              "124611   A     03   032  0322\n",
              "67969    G     46   462  4620\n",
              "130524   G     46   462  4620\n",
              "142260   G     46   462  4620\n",
              "81061    C     10   108  1080\n",
              "9725     C     10   104  1040\n",
              "208742   C     20   203  2031\n",
              "21594    C     21   212  2123"
            ]
          },
          "metadata": {
            "tags": []
          },
          "execution_count": 27
        }
      ]
    },
    {
      "cell_type": "code",
      "metadata": {
        "colab": {
          "base_uri": "https://localhost:8080/",
          "height": 34
        },
        "id": "UylTiBxWo3oo",
        "outputId": "554d4267-936f-4ca2-acb1-58c968419a93"
      },
      "source": [
        "pd.DataFrame(vote['big'].value_counts()).index[0]   # 가장 많은 보팅 출력"
      ],
      "execution_count": null,
      "outputs": [
        {
          "output_type": "execute_result",
          "data": {
            "application/vnd.google.colaboratory.intrinsic+json": {
              "type": "string"
            },
            "text/plain": [
              "'C'"
            ]
          },
          "metadata": {
            "tags": []
          },
          "execution_count": 28
        }
      ]
    },
    {
      "cell_type": "code",
      "metadata": {
        "colab": {
          "base_uri": "https://localhost:8080/",
          "height": 34
        },
        "id": "DsBLO3-VpFyP",
        "outputId": "3c2111fa-5246-44a1-a6a3-894ddbbdc67d"
      },
      "source": [
        "pd.DataFrame(vote['middle'].value_counts()).index[0]"
      ],
      "execution_count": null,
      "outputs": [
        {
          "output_type": "execute_result",
          "data": {
            "application/vnd.google.colaboratory.intrinsic+json": {
              "type": "string"
            },
            "text/plain": [
              "'46'"
            ]
          },
          "metadata": {
            "tags": []
          },
          "execution_count": 29
        }
      ]
    },
    {
      "cell_type": "code",
      "metadata": {
        "colab": {
          "base_uri": "https://localhost:8080/"
        },
        "id": "ge8FGh99pgXL",
        "outputId": "e55d64d0-b5b0-4509-f7b3-c96126ca64b4"
      },
      "source": [
        "data[1263335:].iloc[0,:]   # 오 맞는데? ㅋㅋㅋㅋㅋㅋㅋㅋ"
      ],
      "execution_count": null,
      "outputs": [
        {
          "output_type": "execute_result",
          "data": {
            "text/plain": [
              "company                                       7601103\n",
              "industry_code                                  G46203\n",
              "big                                                 G\n",
              "middle                                             46\n",
              "small                                             462\n",
              "least                                            4620\n",
              "leastleast                                      46203\n",
              "token              [사료, 제조, 판매업, 무역업, 부동산, 임대업, 부대사업]\n",
              "clean_토큰                 [부동산, 무역업, 사료, 제조, 임대업, 판매업]\n",
              "token_len                                           7\n",
              "clean_token_len                                     6\n",
              "Name: 280152, dtype: object"
            ]
          },
          "metadata": {
            "tags": []
          },
          "execution_count": 30
        }
      ]
    },
    {
      "cell_type": "code",
      "metadata": {
        "colab": {
          "base_uri": "https://localhost:8080/"
        },
        "id": "33qAn8YIxJPh",
        "outputId": "52bd1fbb-5571-4792-d895-cd9f5195270e"
      },
      "source": [
        "data[:1263335].iloc[neigh.kneighbors(p.T)[1][0]].head(1)['big'].values   # 첫번쨰 열이 test랑 아예 같음.."
      ],
      "execution_count": null,
      "outputs": [
        {
          "output_type": "execute_result",
          "data": {
            "text/plain": [
              "array(['G'], dtype=object)"
            ]
          },
          "metadata": {
            "tags": []
          },
          "execution_count": 31
        }
      ]
    },
    {
      "cell_type": "markdown",
      "metadata": {
        "id": "3Y1lU6jul_A8"
      },
      "source": [
        "데이터 row별로 knn으로 유사한애들 20개 뽑아서 보팅으로 분류하면 대분류는 뚝딱일거 같다는 생각이 확 들어버렸음......."
      ]
    },
    {
      "cell_type": "code",
      "metadata": {
        "colab": {
          "base_uri": "https://localhost:8080/"
        },
        "id": "sU6hAPG-qtjH",
        "outputId": "c5c948fa-ceb4-4881-eaf7-eccd3320cf03"
      },
      "source": [
        "len(X_test_p)"
      ],
      "execution_count": null,
      "outputs": [
        {
          "output_type": "execute_result",
          "data": {
            "text/plain": [
              "315834"
            ]
          },
          "metadata": {
            "tags": []
          },
          "execution_count": 32
        }
      ]
    },
    {
      "cell_type": "code",
      "metadata": {
        "id": "sncE9K8grTjP"
      },
      "source": [
        "x_test_data = pd.DataFrame(X_test, columns=['token'])"
      ],
      "execution_count": null,
      "outputs": []
    },
    {
      "cell_type": "code",
      "metadata": {
        "colab": {
          "base_uri": "https://localhost:8080/"
        },
        "id": "kq41UqeHrcDC",
        "outputId": "c7ef5f77-f5a2-4b47-f782-b30323eefec8"
      },
      "source": [
        "x_test_data.iloc[0,:]"
      ],
      "execution_count": null,
      "outputs": [
        {
          "output_type": "execute_result",
          "data": {
            "text/plain": [
              "token    부동산 무역업 사료 제조 임대업 판매업\n",
              "Name: 0, dtype: object"
            ]
          },
          "metadata": {
            "tags": []
          },
          "execution_count": 34
        }
      ]
    },
    {
      "cell_type": "code",
      "metadata": {
        "colab": {
          "base_uri": "https://localhost:8080/",
          "height": 407
        },
        "id": "B5_D-HWfrj6C",
        "outputId": "fcface84-6d84-4b57-e4d4-e65fcbeae967"
      },
      "source": [
        "x_test_data"
      ],
      "execution_count": null,
      "outputs": [
        {
          "output_type": "execute_result",
          "data": {
            "text/html": [
              "<div>\n",
              "<style scoped>\n",
              "    .dataframe tbody tr th:only-of-type {\n",
              "        vertical-align: middle;\n",
              "    }\n",
              "\n",
              "    .dataframe tbody tr th {\n",
              "        vertical-align: top;\n",
              "    }\n",
              "\n",
              "    .dataframe thead th {\n",
              "        text-align: right;\n",
              "    }\n",
              "</style>\n",
              "<table border=\"1\" class=\"dataframe\">\n",
              "  <thead>\n",
              "    <tr style=\"text-align: right;\">\n",
              "      <th></th>\n",
              "      <th>token</th>\n",
              "    </tr>\n",
              "  </thead>\n",
              "  <tbody>\n",
              "    <tr>\n",
              "      <th>0</th>\n",
              "      <td>부동산 무역업 사료 제조 임대업 판매업</td>\n",
              "    </tr>\n",
              "    <tr>\n",
              "      <th>1</th>\n",
              "      <td>수산물 매도 약서 대행업 통신 무역업 물류 용품 제조업 일반 부수 식품 부동산 임대...</td>\n",
              "    </tr>\n",
              "    <tr>\n",
              "      <th>2</th>\n",
              "      <td>통신 의류 부동산 신발 소매업 용품 임대업 각항 스포츠 판매업</td>\n",
              "    </tr>\n",
              "    <tr>\n",
              "      <th>3</th>\n",
              "      <td>수탁 운영 농지 유통 재배 산업 개발 통신 생산 임대 관계 부동산 친환경 매매 공동...</td>\n",
              "    </tr>\n",
              "    <tr>\n",
              "      <th>4</th>\n",
              "      <td>도급업 엘이디 임가공 단말기 통신 무선 기기 무역업 제조업 반도체 부동산 임대업 판...</td>\n",
              "    </tr>\n",
              "    <tr>\n",
              "      <th>...</th>\n",
              "      <td>...</td>\n",
              "    </tr>\n",
              "    <tr>\n",
              "      <th>315829</th>\n",
              "      <td>수리 중개 지도 기계 각항 통신 수수료 제조업 교육 부대 반도체 부동산 임대업 가공...</td>\n",
              "    </tr>\n",
              "    <tr>\n",
              "      <th>315830</th>\n",
              "      <td>영상 수출입 유통 가정용품 축산물 인터넷 개발 통신 기기 제작 음향 전자 해당 생산...</td>\n",
              "    </tr>\n",
              "    <tr>\n",
              "      <th>315831</th>\n",
              "      <td>골재 기계 납품 운송 토공사 아스 건설 대여 도급</td>\n",
              "    </tr>\n",
              "    <tr>\n",
              "      <th>315832</th>\n",
              "      <td>직무 업무 변호사 제조 공증인 제항 변호사법 부대</td>\n",
              "    </tr>\n",
              "    <tr>\n",
              "      <th>315833</th>\n",
              "      <td>약주 민속주 탁주 농민 생산자 주류 특정 판매업 단체 도매업 청주 부대 수입</td>\n",
              "    </tr>\n",
              "  </tbody>\n",
              "</table>\n",
              "<p>315834 rows × 1 columns</p>\n",
              "</div>"
            ],
            "text/plain": [
              "                                                    token\n",
              "0                                   부동산 무역업 사료 제조 임대업 판매업\n",
              "1       수산물 매도 약서 대행업 통신 무역업 물류 용품 제조업 일반 부수 식품 부동산 임대...\n",
              "2                      통신 의류 부동산 신발 소매업 용품 임대업 각항 스포츠 판매업\n",
              "3       수탁 운영 농지 유통 재배 산업 개발 통신 생산 임대 관계 부동산 친환경 매매 공동...\n",
              "4       도급업 엘이디 임가공 단말기 통신 무선 기기 무역업 제조업 반도체 부동산 임대업 판...\n",
              "...                                                   ...\n",
              "315829  수리 중개 지도 기계 각항 통신 수수료 제조업 교육 부대 반도체 부동산 임대업 가공...\n",
              "315830  영상 수출입 유통 가정용품 축산물 인터넷 개발 통신 기기 제작 음향 전자 해당 생산...\n",
              "315831                        골재 기계 납품 운송 토공사 아스 건설 대여 도급\n",
              "315832                        직무 업무 변호사 제조 공증인 제항 변호사법 부대\n",
              "315833         약주 민속주 탁주 농민 생산자 주류 특정 판매업 단체 도매업 청주 부대 수입\n",
              "\n",
              "[315834 rows x 1 columns]"
            ]
          },
          "metadata": {
            "tags": []
          },
          "execution_count": 35
        }
      ]
    },
    {
      "cell_type": "code",
      "metadata": {
        "id": "gSjE7Q3ZronF"
      },
      "source": [
        "x_test_data['big_pred'] = 0   # 우선 채워놓음 \n",
        "x_test_data['mid_pred'] = 0"
      ],
      "execution_count": null,
      "outputs": []
    },
    {
      "cell_type": "code",
      "metadata": {
        "id": "xZa9M4qCuW47"
      },
      "source": [
        "x_test_data['true_big'] = data[1263335:]['big'].values\n",
        "x_test_data['true_mid'] = data[1263335:]['middle'].values"
      ],
      "execution_count": null,
      "outputs": []
    },
    {
      "cell_type": "code",
      "metadata": {
        "colab": {
          "base_uri": "https://localhost:8080/",
          "height": 77
        },
        "id": "QWDA1LKVv3M3",
        "outputId": "7fbdaf6e-1ff0-4601-8666-cb889e8b8ec7"
      },
      "source": [
        "x_test_data.head(1)"
      ],
      "execution_count": null,
      "outputs": [
        {
          "output_type": "execute_result",
          "data": {
            "text/html": [
              "<div>\n",
              "<style scoped>\n",
              "    .dataframe tbody tr th:only-of-type {\n",
              "        vertical-align: middle;\n",
              "    }\n",
              "\n",
              "    .dataframe tbody tr th {\n",
              "        vertical-align: top;\n",
              "    }\n",
              "\n",
              "    .dataframe thead th {\n",
              "        text-align: right;\n",
              "    }\n",
              "</style>\n",
              "<table border=\"1\" class=\"dataframe\">\n",
              "  <thead>\n",
              "    <tr style=\"text-align: right;\">\n",
              "      <th></th>\n",
              "      <th>token</th>\n",
              "      <th>big_pred</th>\n",
              "      <th>mid_pred</th>\n",
              "      <th>true_big</th>\n",
              "      <th>true_mid</th>\n",
              "    </tr>\n",
              "  </thead>\n",
              "  <tbody>\n",
              "    <tr>\n",
              "      <th>0</th>\n",
              "      <td>부동산 무역업 사료 제조 임대업 판매업</td>\n",
              "      <td>0</td>\n",
              "      <td>0</td>\n",
              "      <td>G</td>\n",
              "      <td>46</td>\n",
              "    </tr>\n",
              "  </tbody>\n",
              "</table>\n",
              "</div>"
            ],
            "text/plain": [
              "                   token  big_pred  mid_pred true_big true_mid\n",
              "0  부동산 무역업 사료 제조 임대업 판매업         0         0        G       46"
            ]
          },
          "metadata": {
            "tags": []
          },
          "execution_count": 38
        }
      ]
    },
    {
      "cell_type": "code",
      "metadata": {
        "colab": {
          "base_uri": "https://localhost:8080/",
          "height": 139,
          "referenced_widgets": [
            "17165f7e606d46e8bc4271ee8bec4e6f",
            "e72299c8289449058ad1c90900a8bfb0",
            "51c68af5c2f54b789df90008b37540c8",
            "eeae65b8e2df4906a029139ba0099e1f",
            "d950a54208e04c4a9a08b156aa1646c4",
            "88e12276a29e4fa6ac0cc0dcd35b05d2",
            "cef85bfd71a34a8b85a680315ae1d803",
            "1b46be02da5e4c97b8dd5473e1cef918"
          ]
        },
        "id": "Ljm-apOzn-3Z",
        "outputId": "1a7a5931-a01b-458a-ea12-b6138c684b4f"
      },
      "source": [
        "## 반복문 딱 대...  \n",
        "## neigh : train 데이터로 이미 학습 (tf-idf 기반)\n",
        "\n",
        "## 260개에 약 10분 \n",
        "from tqdm import tqdm_notebook\n",
        "import sys\n",
        "\n",
        "find_data = data[:1263335]\n",
        "\n",
        "for i in tqdm_notebook(range(2000)):    # len(X_test_p)\n",
        "  p = X_test_p[i]   \n",
        "  p = p.reshape(-1, 1) \n",
        "\n",
        "  if neigh.kneighbors(p.T)[0][0][0]==0:    # 토큰이 train과 아예 같을 때는 투표 X \n",
        "    x_test_data.iloc[i,1] = find_data.iloc[neigh.kneighbors(p.T)[1][0]].head(1)['big'].values  # 가장 많이 등장하는 대분류 \n",
        "    x_test_data.iloc[i,2] = find_data.iloc[neigh.kneighbors(p.T)[1][0]].head(1)['middle'].values  # 가장 많이 등장하는 중분류\n",
        "    pass \n",
        "\n",
        "  else:\n",
        "    vote = find_data.iloc[neigh.kneighbors(p.T)[1][0]][['big', 'middle', 'small', 'least']]  \n",
        "    # votting\n",
        "    x_test_data.iloc[i,1] = pd.DataFrame(vote['big'].value_counts()).index[0]   # 가장 많이 등장하는 대분류 \n",
        "    x_test_data.iloc[i,2] = pd.DataFrame(vote['middle'].value_counts()).index[0]  # 가장 많이 등장하는 중분류"
      ],
      "execution_count": null,
      "outputs": [
        {
          "output_type": "stream",
          "text": [
            "/usr/local/lib/python3.7/dist-packages/ipykernel_launcher.py:10: TqdmDeprecationWarning: This function will be removed in tqdm==5.0.0\n",
            "Please use `tqdm.notebook.tqdm` instead of `tqdm.tqdm_notebook`\n",
            "  # Remove the CWD from sys.path while we load stuff.\n"
          ],
          "name": "stderr"
        },
        {
          "output_type": "display_data",
          "data": {
            "application/vnd.jupyter.widget-view+json": {
              "model_id": "17165f7e606d46e8bc4271ee8bec4e6f",
              "version_minor": 0,
              "version_major": 2
            },
            "text/plain": [
              "HBox(children=(FloatProgress(value=0.0, max=2000.0), HTML(value='')))"
            ]
          },
          "metadata": {
            "tags": []
          }
        },
        {
          "output_type": "stream",
          "text": [
            "\n"
          ],
          "name": "stdout"
        }
      ]
    },
    {
      "cell_type": "code",
      "metadata": {
        "colab": {
          "base_uri": "https://localhost:8080/",
          "height": 540
        },
        "id": "BI08qaD3g7hN",
        "outputId": "0c6ddd12-f223-4c39-87ba-15540bf91b9b"
      },
      "source": [
        "x_test_data.iloc[:2000,:]"
      ],
      "execution_count": null,
      "outputs": [
        {
          "output_type": "execute_result",
          "data": {
            "text/html": [
              "<div>\n",
              "<style scoped>\n",
              "    .dataframe tbody tr th:only-of-type {\n",
              "        vertical-align: middle;\n",
              "    }\n",
              "\n",
              "    .dataframe tbody tr th {\n",
              "        vertical-align: top;\n",
              "    }\n",
              "\n",
              "    .dataframe thead th {\n",
              "        text-align: right;\n",
              "    }\n",
              "</style>\n",
              "<table border=\"1\" class=\"dataframe\">\n",
              "  <thead>\n",
              "    <tr style=\"text-align: right;\">\n",
              "      <th></th>\n",
              "      <th>token</th>\n",
              "      <th>big_pred</th>\n",
              "      <th>mid_pred</th>\n",
              "      <th>true_big</th>\n",
              "      <th>true_mid</th>\n",
              "    </tr>\n",
              "  </thead>\n",
              "  <tbody>\n",
              "    <tr>\n",
              "      <th>0</th>\n",
              "      <td>부동산 무역업 사료 제조 임대업 판매업</td>\n",
              "      <td>[G]</td>\n",
              "      <td>[46]</td>\n",
              "      <td>G</td>\n",
              "      <td>46</td>\n",
              "    </tr>\n",
              "    <tr>\n",
              "      <th>1</th>\n",
              "      <td>수산물 매도 약서 대행업 통신 무역업 물류 용품 제조업 일반 부수 식품 부동산 임대...</td>\n",
              "      <td>G</td>\n",
              "      <td>46</td>\n",
              "      <td>G</td>\n",
              "      <td>46</td>\n",
              "    </tr>\n",
              "    <tr>\n",
              "      <th>2</th>\n",
              "      <td>통신 의류 부동산 신발 소매업 용품 임대업 각항 스포츠 판매업</td>\n",
              "      <td>G</td>\n",
              "      <td>46</td>\n",
              "      <td>G</td>\n",
              "      <td>46</td>\n",
              "    </tr>\n",
              "    <tr>\n",
              "      <th>3</th>\n",
              "      <td>수탁 운영 농지 유통 재배 산업 개발 통신 생산 임대 관계 부동산 친환경 매매 공동...</td>\n",
              "      <td>A</td>\n",
              "      <td>01</td>\n",
              "      <td>A</td>\n",
              "      <td>01</td>\n",
              "    </tr>\n",
              "    <tr>\n",
              "      <th>4</th>\n",
              "      <td>도급업 엘이디 임가공 단말기 통신 무선 기기 무역업 제조업 반도체 부동산 임대업 판...</td>\n",
              "      <td>C</td>\n",
              "      <td>26</td>\n",
              "      <td>G</td>\n",
              "      <td>46</td>\n",
              "    </tr>\n",
              "    <tr>\n",
              "      <th>...</th>\n",
              "      <td>...</td>\n",
              "      <td>...</td>\n",
              "      <td>...</td>\n",
              "      <td>...</td>\n",
              "      <td>...</td>\n",
              "    </tr>\n",
              "    <tr>\n",
              "      <th>1995</th>\n",
              "      <td>식점 홍보 기획 제작 서비스 무역업 광고 마케팅 작업 프랜차이즈 해당 외식 컨텐츠 ...</td>\n",
              "      <td>J</td>\n",
              "      <td>71</td>\n",
              "      <td>M</td>\n",
              "      <td>71</td>\n",
              "    </tr>\n",
              "    <tr>\n",
              "      <th>1996</th>\n",
              "      <td>구축 홍보 온라인 채소 음식 잡화 수출입 보조 생필품 경영 인터넷 대행업 통신 개발...</td>\n",
              "      <td>G</td>\n",
              "      <td>46</td>\n",
              "      <td>G</td>\n",
              "      <td>46</td>\n",
              "    </tr>\n",
              "    <tr>\n",
              "      <th>1997</th>\n",
              "      <td>기술 기존 중개 조기 필요 나노 진단 질병 개발 바이오센서 제품 제조업 업위 결합 ...</td>\n",
              "      <td>C</td>\n",
              "      <td>02</td>\n",
              "      <td>M</td>\n",
              "      <td>70</td>\n",
              "    </tr>\n",
              "    <tr>\n",
              "      <th>1998</th>\n",
              "      <td>계업 자재 국내외 토지 투자자 실내 엘이디 시행 일임 대행업 개발 기업 통신 제품 ...</td>\n",
              "      <td>J</td>\n",
              "      <td>58</td>\n",
              "      <td>G</td>\n",
              "      <td>46</td>\n",
              "    </tr>\n",
              "    <tr>\n",
              "      <th>1999</th>\n",
              "      <td>잡화 수출입 의료 관광업 방문 광산 영양 금융 개발 기기 전자 해외 업위 선업 즉석...</td>\n",
              "      <td>G</td>\n",
              "      <td>46</td>\n",
              "      <td>G</td>\n",
              "      <td>46</td>\n",
              "    </tr>\n",
              "  </tbody>\n",
              "</table>\n",
              "<p>2000 rows × 5 columns</p>\n",
              "</div>"
            ],
            "text/plain": [
              "                                                  token  ... true_mid\n",
              "0                                 부동산 무역업 사료 제조 임대업 판매업  ...       46\n",
              "1     수산물 매도 약서 대행업 통신 무역업 물류 용품 제조업 일반 부수 식품 부동산 임대...  ...       46\n",
              "2                    통신 의류 부동산 신발 소매업 용품 임대업 각항 스포츠 판매업  ...       46\n",
              "3     수탁 운영 농지 유통 재배 산업 개발 통신 생산 임대 관계 부동산 친환경 매매 공동...  ...       01\n",
              "4     도급업 엘이디 임가공 단말기 통신 무선 기기 무역업 제조업 반도체 부동산 임대업 판...  ...       46\n",
              "...                                                 ...  ...      ...\n",
              "1995  식점 홍보 기획 제작 서비스 무역업 광고 마케팅 작업 프랜차이즈 해당 외식 컨텐츠 ...  ...       71\n",
              "1996  구축 홍보 온라인 채소 음식 잡화 수출입 보조 생필품 경영 인터넷 대행업 통신 개발...  ...       46\n",
              "1997  기술 기존 중개 조기 필요 나노 진단 질병 개발 바이오센서 제품 제조업 업위 결합 ...  ...       70\n",
              "1998  계업 자재 국내외 토지 투자자 실내 엘이디 시행 일임 대행업 개발 기업 통신 제품 ...  ...       46\n",
              "1999  잡화 수출입 의료 관광업 방문 광산 영양 금융 개발 기기 전자 해외 업위 선업 즉석...  ...       46\n",
              "\n",
              "[2000 rows x 5 columns]"
            ]
          },
          "metadata": {
            "tags": []
          },
          "execution_count": 44
        }
      ]
    },
    {
      "cell_type": "code",
      "metadata": {
        "colab": {
          "base_uri": "https://localhost:8080/"
        },
        "id": "5EGjJwglfCtA",
        "outputId": "73be91c4-3a55-4b74-9efd-371f34c3d506"
      },
      "source": [
        "x_test_data.iloc[0,1]==x_test_data.iloc[0,3]"
      ],
      "execution_count": null,
      "outputs": [
        {
          "output_type": "execute_result",
          "data": {
            "text/plain": [
              "array([ True])"
            ]
          },
          "metadata": {
            "tags": []
          },
          "execution_count": 51
        }
      ]
    },
    {
      "cell_type": "code",
      "metadata": {
        "id": "wCmD9-6oeB_9"
      },
      "source": [
        "big = 0\n",
        "for i in range(len(x_test_data.iloc[:2000,:])):\n",
        "  if x_test_data.iloc[i,1]==x_test_data.iloc[i,3] or (x_test_data.iloc[i,1]==x_test_data.iloc[i,3])==[ True] :\n",
        "    big+=1"
      ],
      "execution_count": null,
      "outputs": []
    },
    {
      "cell_type": "code",
      "metadata": {
        "colab": {
          "base_uri": "https://localhost:8080/"
        },
        "id": "R1MiJMmxeKTd",
        "outputId": "6c3f8ee0-a7b9-41bc-baf7-8105cc7b5361"
      },
      "source": [
        "big"
      ],
      "execution_count": null,
      "outputs": [
        {
          "output_type": "execute_result",
          "data": {
            "text/plain": [
              "998"
            ]
          },
          "metadata": {
            "tags": []
          },
          "execution_count": 54
        }
      ]
    },
    {
      "cell_type": "code",
      "metadata": {
        "id": "k_LNwoFeeN10"
      },
      "source": [
        "mid = 0\n",
        "for i in range(len(x_test_data.iloc[:2000,:])):\n",
        "  if x_test_data.iloc[i,2]==x_test_data.iloc[i,4]:\n",
        "    mid+=1"
      ],
      "execution_count": null,
      "outputs": []
    },
    {
      "cell_type": "code",
      "metadata": {
        "colab": {
          "base_uri": "https://localhost:8080/"
        },
        "id": "JqnaOH3KeTOz",
        "outputId": "40437c92-95b4-40c3-8a22-5475e54d277e"
      },
      "source": [
        "mid"
      ],
      "execution_count": null,
      "outputs": [
        {
          "output_type": "execute_result",
          "data": {
            "text/plain": [
              "966"
            ]
          },
          "metadata": {
            "tags": []
          },
          "execution_count": 48
        }
      ]
    },
    {
      "cell_type": "code",
      "metadata": {
        "id": "HdB8Xhc3eVMR"
      },
      "source": [
        "all = 0\n",
        "for i in range(len(x_test_data.iloc[:2000,:])):\n",
        "  if x_test_data.iloc[i,2]==x_test_data.iloc[i,4] or x_test_data.iloc[i,1]==x_test_data.iloc[i,3] :\n",
        "    all+=1"
      ],
      "execution_count": null,
      "outputs": []
    },
    {
      "cell_type": "code",
      "metadata": {
        "colab": {
          "base_uri": "https://localhost:8080/"
        },
        "id": "SruYFGeZebUy",
        "outputId": "6e0a1db6-4705-48f2-a9b9-b755f8e49717"
      },
      "source": [
        "all"
      ],
      "execution_count": null,
      "outputs": [
        {
          "output_type": "execute_result",
          "data": {
            "text/plain": [
              "1093"
            ]
          },
          "metadata": {
            "tags": []
          },
          "execution_count": 50
        }
      ]
    },
    {
      "cell_type": "code",
      "metadata": {
        "colab": {
          "base_uri": "https://localhost:8080/",
          "height": 523
        },
        "id": "T3_nmrBizjNP",
        "outputId": "e95269d3-3af1-42b1-c3e2-d6359b8c3442"
      },
      "source": [
        "x_test_data.head()"
      ],
      "execution_count": null,
      "outputs": [
        {
          "output_type": "execute_result",
          "data": {
            "text/html": [
              "<div>\n",
              "<style scoped>\n",
              "    .dataframe tbody tr th:only-of-type {\n",
              "        vertical-align: middle;\n",
              "    }\n",
              "\n",
              "    .dataframe tbody tr th {\n",
              "        vertical-align: top;\n",
              "    }\n",
              "\n",
              "    .dataframe thead th {\n",
              "        text-align: right;\n",
              "    }\n",
              "</style>\n",
              "<table border=\"1\" class=\"dataframe\">\n",
              "  <thead>\n",
              "    <tr style=\"text-align: right;\">\n",
              "      <th></th>\n",
              "      <th>token</th>\n",
              "      <th>big_pred</th>\n",
              "      <th>mid_pred</th>\n",
              "      <th>true_big</th>\n",
              "      <th>true_mid</th>\n",
              "      <th>is_big</th>\n",
              "      <th>is_mid</th>\n",
              "    </tr>\n",
              "  </thead>\n",
              "  <tbody>\n",
              "    <tr>\n",
              "      <th>0</th>\n",
              "      <td>판매업 제조 무역업 부동산 임대업 사료</td>\n",
              "      <td>G</td>\n",
              "      <td>46</td>\n",
              "      <td>G</td>\n",
              "      <td>46</td>\n",
              "      <td>0</td>\n",
              "      <td>1</td>\n",
              "    </tr>\n",
              "    <tr>\n",
              "      <th>1</th>\n",
              "      <td>판매업 대행업 생활 디자인 임대업 약서 통신 소매업 식품 행업 부동산 서비스업 물류...</td>\n",
              "      <td>G</td>\n",
              "      <td>46</td>\n",
              "      <td>G</td>\n",
              "      <td>46</td>\n",
              "      <td>0</td>\n",
              "      <td>1</td>\n",
              "    </tr>\n",
              "    <tr>\n",
              "      <th>2</th>\n",
              "      <td>판매업 소매업 각항 신발 의류 부동산 용품 임대업 스포츠 통신</td>\n",
              "      <td>G</td>\n",
              "      <td>46</td>\n",
              "      <td>G</td>\n",
              "      <td>46</td>\n",
              "      <td>0</td>\n",
              "      <td>1</td>\n",
              "    </tr>\n",
              "    <tr>\n",
              "      <th>3</th>\n",
              "      <td>판매 판매업 계약 임대 관계 생산 임대업 운영 재배 소규모 통신 매매 공동 부동산 ...</td>\n",
              "      <td>A</td>\n",
              "      <td>01</td>\n",
              "      <td>A</td>\n",
              "      <td>01</td>\n",
              "      <td>0</td>\n",
              "      <td>1</td>\n",
              "    </tr>\n",
              "    <tr>\n",
              "      <th>4</th>\n",
              "      <td>판매업 엘이디 인력 임대업 제조 통신 부동산 서비스업 임가공 조명 부품 기기 반도체...</td>\n",
              "      <td>C</td>\n",
              "      <td>26</td>\n",
              "      <td>G</td>\n",
              "      <td>46</td>\n",
              "      <td>0</td>\n",
              "      <td>1</td>\n",
              "    </tr>\n",
              "    <tr>\n",
              "      <th>...</th>\n",
              "      <td>...</td>\n",
              "      <td>...</td>\n",
              "      <td>...</td>\n",
              "      <td>...</td>\n",
              "      <td>...</td>\n",
              "      <td>...</td>\n",
              "      <td>...</td>\n",
              "    </tr>\n",
              "    <tr>\n",
              "      <th>315829</th>\n",
              "      <td>판매업 장비 임대업 제조 통신 각항 지도 부대 부동산 서비스업 중개 공작 기계 가공...</td>\n",
              "      <td>0</td>\n",
              "      <td>0</td>\n",
              "      <td>G</td>\n",
              "      <td>46</td>\n",
              "      <td>0</td>\n",
              "      <td>1</td>\n",
              "    </tr>\n",
              "    <tr>\n",
              "      <th>315830</th>\n",
              "      <td>제작 영상 축산물 생산 임대업 제조 소매 통신 소매업 농수 수출입 전자 인터넷 부대...</td>\n",
              "      <td>0</td>\n",
              "      <td>0</td>\n",
              "      <td>G</td>\n",
              "      <td>47</td>\n",
              "      <td>0</td>\n",
              "      <td>1</td>\n",
              "    </tr>\n",
              "    <tr>\n",
              "      <th>315831</th>\n",
              "      <td>대여 운송 아스 골재 건설 도급 기계 토공사 납품</td>\n",
              "      <td>0</td>\n",
              "      <td>0</td>\n",
              "      <td>H</td>\n",
              "      <td>49</td>\n",
              "      <td>0</td>\n",
              "      <td>1</td>\n",
              "    </tr>\n",
              "    <tr>\n",
              "      <th>315832</th>\n",
              "      <td>업무 공증인 제항 부대 변호사법 직무 제조 변호사</td>\n",
              "      <td>0</td>\n",
              "      <td>0</td>\n",
              "      <td>M</td>\n",
              "      <td>71</td>\n",
              "      <td>0</td>\n",
              "      <td>1</td>\n",
              "    </tr>\n",
              "    <tr>\n",
              "      <th>315833</th>\n",
              "      <td>판매업 농민 민속주 단체 생산자 수입 부대 도매업 특정 약주 청주 주류 탁주</td>\n",
              "      <td>0</td>\n",
              "      <td>0</td>\n",
              "      <td>G</td>\n",
              "      <td>46</td>\n",
              "      <td>0</td>\n",
              "      <td>1</td>\n",
              "    </tr>\n",
              "  </tbody>\n",
              "</table>\n",
              "<p>315834 rows × 7 columns</p>\n",
              "</div>"
            ],
            "text/plain": [
              "                                                    token  ... is_mid\n",
              "0                                   판매업 제조 무역업 부동산 임대업 사료  ...      1\n",
              "1       판매업 대행업 생활 디자인 임대업 약서 통신 소매업 식품 행업 부동산 서비스업 물류...  ...      1\n",
              "2                      판매업 소매업 각항 신발 의류 부동산 용품 임대업 스포츠 통신  ...      1\n",
              "3       판매 판매업 계약 임대 관계 생산 임대업 운영 재배 소규모 통신 매매 공동 부동산 ...  ...      1\n",
              "4       판매업 엘이디 인력 임대업 제조 통신 부동산 서비스업 임가공 조명 부품 기기 반도체...  ...      1\n",
              "...                                                   ...  ...    ...\n",
              "315829  판매업 장비 임대업 제조 통신 각항 지도 부대 부동산 서비스업 중개 공작 기계 가공...  ...      1\n",
              "315830  제작 영상 축산물 생산 임대업 제조 소매 통신 소매업 농수 수출입 전자 인터넷 부대...  ...      1\n",
              "315831                        대여 운송 아스 골재 건설 도급 기계 토공사 납품  ...      1\n",
              "315832                        업무 공증인 제항 부대 변호사법 직무 제조 변호사  ...      1\n",
              "315833         판매업 농민 민속주 단체 생산자 수입 부대 도매업 특정 약주 청주 주류 탁주  ...      1\n",
              "\n",
              "[315834 rows x 7 columns]"
            ]
          },
          "metadata": {
            "tags": []
          },
          "execution_count": 69
        }
      ]
    },
    {
      "cell_type": "markdown",
      "metadata": {
        "id": "7vI3AGlfuy4y"
      },
      "source": [
        "- 이게 보팅시스템이라서 그런가 대분류는 틀리는데 중분류는 맞는경우도 있음! 이것도 고려해야할듯.  \n",
        "\n",
        "- 적절한 K 이웃 수, metric 같은것도 정해야함. \n",
        "\n",
        "- 너무 런타임이 오래걸리는 문제\n",
        "\n",
        "- 토큰과 겹치는걸 보기때문에 토큰을 쳐내는 키워드 추출이나 다른 방법이 필요해보이기도 함 ( 중복 토큰 제거 ) "
      ]
    },
    {
      "cell_type": "code",
      "metadata": {
        "id": "c53cZtAPlq0S"
      },
      "source": [
        ""
      ],
      "execution_count": null,
      "outputs": []
    },
    {
      "cell_type": "code",
      "metadata": {
        "id": "FZCo_pqMlqx1"
      },
      "source": [
        ""
      ],
      "execution_count": null,
      "outputs": []
    },
    {
      "cell_type": "code",
      "metadata": {
        "id": "M0pVvCrUp9JG"
      },
      "source": [
        ""
      ],
      "execution_count": null,
      "outputs": []
    },
    {
      "cell_type": "code",
      "metadata": {
        "id": "uJlWlNCUp9Gh"
      },
      "source": [
        ""
      ],
      "execution_count": null,
      "outputs": []
    },
    {
      "cell_type": "markdown",
      "metadata": {
        "id": "o76OtZ_ueDk9"
      },
      "source": [
        "## Modeling"
      ]
    },
    {
      "cell_type": "code",
      "metadata": {
        "id": "g3YpfDgGUuyb"
      },
      "source": [
        "from tensorflow import keras\n",
        "y_train_p = keras.utils.to_categorical(y_train_p)\n",
        "y_test_p = keras.utils.to_categorical(y_test_p)"
      ],
      "execution_count": null,
      "outputs": []
    },
    {
      "cell_type": "code",
      "metadata": {
        "id": "vgXfkXvMMG4A"
      },
      "source": [
        "n_features = 500      # tf-idf 차원\n",
        "n_classes = 20         # 대분류 개수\n",
        "\n",
        "## input (1263335, 500) output 1"
      ],
      "execution_count": null,
      "outputs": []
    },
    {
      "cell_type": "code",
      "metadata": {
        "colab": {
          "base_uri": "https://localhost:8080/"
        },
        "id": "rzM7f5LLTkJc",
        "outputId": "a39a98df-5141-466c-93c4-1d804b8dd793"
      },
      "source": [
        "from tensorflow.keras.models import Sequential\n",
        "from tensorflow.keras.layers import Embedding, Bidirectional, Dense, LSTM, SimpleRNN, Dropout\n",
        "\n",
        "model = Sequential()\n",
        "model.add(Dense(1000, kernel_initializer= 'he_normal', activation='relu', input_dim=500))\n",
        "# model.add(Dropout(0.8))\n",
        "\n",
        "model.add(Dense(50, kernel_initializer= 'he_normal', activation='relu'))\n",
        "model.add(Dropout(0.5))\n",
        "\n",
        "model.add(Dense(20, activation='softmax'))\n",
        "model.summary()"
      ],
      "execution_count": null,
      "outputs": [
        {
          "output_type": "stream",
          "text": [
            "Model: \"sequential_2\"\n",
            "_________________________________________________________________\n",
            "Layer (type)                 Output Shape              Param #   \n",
            "=================================================================\n",
            "dense_6 (Dense)              (None, 200)               60200     \n",
            "_________________________________________________________________\n",
            "dense_7 (Dense)              (None, 50)                10050     \n",
            "_________________________________________________________________\n",
            "dropout_3 (Dropout)          (None, 50)                0         \n",
            "_________________________________________________________________\n",
            "dense_8 (Dense)              (None, 20)                1020      \n",
            "=================================================================\n",
            "Total params: 71,270\n",
            "Trainable params: 71,270\n",
            "Non-trainable params: 0\n",
            "_________________________________________________________________\n"
          ],
          "name": "stdout"
        }
      ]
    },
    {
      "cell_type": "code",
      "metadata": {
        "id": "ukefCbFtMGyl"
      },
      "source": [
        "model.compile(optimizer='adam',\n",
        "              loss='categorical_crossentropy',\n",
        "              metrics=['accuracy'])"
      ],
      "execution_count": null,
      "outputs": []
    },
    {
      "cell_type": "code",
      "metadata": {
        "colab": {
          "base_uri": "https://localhost:8080/"
        },
        "id": "NuZ624ZOMGwO",
        "outputId": "f7f2811d-995f-42e8-ebb1-7dbb35ef60e4"
      },
      "source": [
        "history = model.fit(X_train_p, y_train_p, epochs=20, batch_size=512, validation_split=0.2)"
      ],
      "execution_count": null,
      "outputs": [
        {
          "output_type": "stream",
          "text": [
            "Epoch 1/20\n",
            "2221/2221 [==============================] - 6s 2ms/step - loss: 1.7375 - accuracy: 0.4563 - val_loss: 1.0697 - val_accuracy: 0.6608\n",
            "Epoch 2/20\n",
            "2221/2221 [==============================] - 5s 2ms/step - loss: 1.4021 - accuracy: 0.5502 - val_loss: 1.0235 - val_accuracy: 0.6693\n",
            "Epoch 3/20\n",
            "2221/2221 [==============================] - 5s 2ms/step - loss: 1.3561 - accuracy: 0.5628 - val_loss: 1.0051 - val_accuracy: 0.6718\n",
            "Epoch 4/20\n",
            "2221/2221 [==============================] - 5s 2ms/step - loss: 1.3331 - accuracy: 0.5690 - val_loss: 0.9823 - val_accuracy: 0.6771\n",
            "Epoch 5/20\n",
            "2221/2221 [==============================] - 5s 2ms/step - loss: 1.3099 - accuracy: 0.5762 - val_loss: 0.9757 - val_accuracy: 0.6792\n",
            "Epoch 6/20\n",
            "2221/2221 [==============================] - 5s 2ms/step - loss: 1.3029 - accuracy: 0.5776 - val_loss: 0.9755 - val_accuracy: 0.6788\n",
            "Epoch 7/20\n",
            "2221/2221 [==============================] - 5s 2ms/step - loss: 1.2942 - accuracy: 0.5806 - val_loss: 0.9719 - val_accuracy: 0.6805\n",
            "Epoch 8/20\n",
            "2221/2221 [==============================] - 5s 2ms/step - loss: 1.2871 - accuracy: 0.5827 - val_loss: 0.9667 - val_accuracy: 0.6812\n",
            "Epoch 9/20\n",
            "2221/2221 [==============================] - 5s 2ms/step - loss: 1.2816 - accuracy: 0.5840 - val_loss: 0.9654 - val_accuracy: 0.6812\n",
            "Epoch 10/20\n",
            "2221/2221 [==============================] - 5s 2ms/step - loss: 1.2788 - accuracy: 0.5862 - val_loss: 0.9628 - val_accuracy: 0.6832\n",
            "Epoch 11/20\n",
            "2221/2221 [==============================] - 5s 2ms/step - loss: 1.2756 - accuracy: 0.5868 - val_loss: 0.9650 - val_accuracy: 0.6809\n",
            "Epoch 12/20\n",
            "2221/2221 [==============================] - 5s 2ms/step - loss: 1.2727 - accuracy: 0.5876 - val_loss: 0.9647 - val_accuracy: 0.6824\n",
            "Epoch 13/20\n",
            "2221/2221 [==============================] - 5s 2ms/step - loss: 1.2676 - accuracy: 0.5885 - val_loss: 0.9636 - val_accuracy: 0.6821\n",
            "Epoch 14/20\n",
            "2221/2221 [==============================] - 5s 2ms/step - loss: 1.2670 - accuracy: 0.5884 - val_loss: 0.9629 - val_accuracy: 0.6832\n",
            "Epoch 15/20\n",
            "2221/2221 [==============================] - 5s 2ms/step - loss: 1.2640 - accuracy: 0.5901 - val_loss: 0.9623 - val_accuracy: 0.6837\n",
            "Epoch 16/20\n",
            "2221/2221 [==============================] - 5s 2ms/step - loss: 1.2632 - accuracy: 0.5899 - val_loss: 0.9653 - val_accuracy: 0.6822\n",
            "Epoch 17/20\n",
            "2221/2221 [==============================] - 5s 2ms/step - loss: 1.2572 - accuracy: 0.5914 - val_loss: 0.9655 - val_accuracy: 0.6807\n",
            "Epoch 18/20\n",
            "2221/2221 [==============================] - 5s 2ms/step - loss: 1.2581 - accuracy: 0.5913 - val_loss: 0.9624 - val_accuracy: 0.6839\n",
            "Epoch 19/20\n",
            "2221/2221 [==============================] - 5s 2ms/step - loss: 1.2562 - accuracy: 0.5917 - val_loss: 0.9633 - val_accuracy: 0.6827\n",
            "Epoch 20/20\n",
            "2221/2221 [==============================] - 5s 2ms/step - loss: 1.2545 - accuracy: 0.5928 - val_loss: 0.9604 - val_accuracy: 0.6833\n"
          ],
          "name": "stdout"
        }
      ]
    },
    {
      "cell_type": "code",
      "metadata": {
        "colab": {
          "base_uri": "https://localhost:8080/"
        },
        "id": "bor2sd5XMGuh",
        "outputId": "e1e6eb20-3da7-4947-ec32-9429005ac227"
      },
      "source": [
        "model.evaluate(X_test_p,y_test_p)  # 오버피팅은 없긴함...ㅋㅋ.ㅋ..ㅋ.ㅋ.ㅋ.ㅋ..."
      ],
      "execution_count": null,
      "outputs": [
        {
          "output_type": "stream",
          "text": [
            "9870/9870 [==============================] - 14s 1ms/step - loss: 0.9625 - accuracy: 0.6822\n"
          ],
          "name": "stdout"
        },
        {
          "output_type": "execute_result",
          "data": {
            "text/plain": [
              "[0.9625368714332581, 0.6821590065956116]"
            ]
          },
          "metadata": {
            "tags": []
          },
          "execution_count": 35
        }
      ]
    },
    {
      "cell_type": "code",
      "metadata": {
        "id": "fXdrRslGMGr2"
      },
      "source": [
        "import matplotlib.pyplot as plt\n",
        "acc=history.history['accuracy']\n",
        "val_acc=history.history['val_accuracy']\n",
        "loss=history.history['loss']\n",
        "val_loss=history.history['val_loss']\n",
        "epochs=range(1,len(acc)+1)\n",
        "\n",
        "plt.plot(epochs,acc,'g',label='training acc')\n",
        "plt.plot(epochs,val_acc,'ro',label='validation acc')\n",
        "plt.title('training and validation accuracy')\n",
        "plt.legend()\n",
        "plt.figure()\n",
        "plt.plot(epochs,loss,'g',label='training loss')\n",
        "plt.plot(epochs,val_loss,'ro',label='validation loss')\n",
        "plt.title('training and validation loss')\n",
        "plt.legend()\n",
        "plt.show()"
      ],
      "execution_count": null,
      "outputs": []
    },
    {
      "cell_type": "code",
      "metadata": {
        "id": "Mma8GDN7MGpg"
      },
      "source": [
        ""
      ],
      "execution_count": null,
      "outputs": []
    },
    {
      "cell_type": "code",
      "metadata": {
        "id": "B1e6YyllRn07"
      },
      "source": [
        ""
      ],
      "execution_count": null,
      "outputs": []
    },
    {
      "cell_type": "code",
      "metadata": {
        "id": "In1fNqJLRny0"
      },
      "source": [
        ""
      ],
      "execution_count": null,
      "outputs": []
    },
    {
      "cell_type": "code",
      "metadata": {
        "id": "xGUmr-o-Rnvj"
      },
      "source": [
        ""
      ],
      "execution_count": null,
      "outputs": []
    },
    {
      "cell_type": "code",
      "metadata": {
        "id": "jdLPKfF8Rnro"
      },
      "source": [
        ""
      ],
      "execution_count": null,
      "outputs": []
    },
    {
      "cell_type": "code",
      "metadata": {
        "id": "XlfEcfrzRnmZ"
      },
      "source": [
        ""
      ],
      "execution_count": null,
      "outputs": []
    },
    {
      "cell_type": "code",
      "metadata": {
        "id": "EOkpp6FnRniz"
      },
      "source": [
        ""
      ],
      "execution_count": null,
      "outputs": []
    },
    {
      "cell_type": "code",
      "metadata": {
        "id": "npSOoY0qRnH9"
      },
      "source": [
        ""
      ],
      "execution_count": null,
      "outputs": []
    }
  ]
}