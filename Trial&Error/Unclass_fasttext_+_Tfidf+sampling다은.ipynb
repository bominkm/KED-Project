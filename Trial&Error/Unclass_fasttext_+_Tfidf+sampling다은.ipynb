{
  "nbformat": 4,
  "nbformat_minor": 0,
  "metadata": {
    "colab": {
      "name": "Unclass_fasttext_+ Tfidf+sampling다은.ipynb",
      "provenance": [],
      "collapsed_sections": [],
      "machine_shape": "hm"
    },
    "kernelspec": {
      "name": "python3",
      "display_name": "Python 3"
    },
    "language_info": {
      "name": "python"
    },
    "accelerator": "GPU",
    "widgets": {
      "application/vnd.jupyter.widget-state+json": {
        "07f18b4095b7435abceb2e896d8d7309": {
          "model_module": "@jupyter-widgets/controls",
          "model_name": "HBoxModel",
          "state": {
            "_view_name": "HBoxView",
            "_dom_classes": [],
            "_model_name": "HBoxModel",
            "_view_module": "@jupyter-widgets/controls",
            "_model_module_version": "1.5.0",
            "_view_count": null,
            "_view_module_version": "1.5.0",
            "box_style": "",
            "layout": "IPY_MODEL_8828de7f10b047ac9ce2623a05e0f279",
            "_model_module": "@jupyter-widgets/controls",
            "children": [
              "IPY_MODEL_ef5d6634f47e476caaf2f30a0b5bab1c",
              "IPY_MODEL_85e7b0e649394d3e8ca9238bf200f92c"
            ]
          }
        },
        "8828de7f10b047ac9ce2623a05e0f279": {
          "model_module": "@jupyter-widgets/base",
          "model_name": "LayoutModel",
          "state": {
            "_view_name": "LayoutView",
            "grid_template_rows": null,
            "right": null,
            "justify_content": null,
            "_view_module": "@jupyter-widgets/base",
            "overflow": null,
            "_model_module_version": "1.2.0",
            "_view_count": null,
            "flex_flow": null,
            "width": null,
            "min_width": null,
            "border": null,
            "align_items": null,
            "bottom": null,
            "_model_module": "@jupyter-widgets/base",
            "top": null,
            "grid_column": null,
            "overflow_y": null,
            "overflow_x": null,
            "grid_auto_flow": null,
            "grid_area": null,
            "grid_template_columns": null,
            "flex": null,
            "_model_name": "LayoutModel",
            "justify_items": null,
            "grid_row": null,
            "max_height": null,
            "align_content": null,
            "visibility": null,
            "align_self": null,
            "height": null,
            "min_height": null,
            "padding": null,
            "grid_auto_rows": null,
            "grid_gap": null,
            "max_width": null,
            "order": null,
            "_view_module_version": "1.2.0",
            "grid_template_areas": null,
            "object_position": null,
            "object_fit": null,
            "grid_auto_columns": null,
            "margin": null,
            "display": null,
            "left": null
          }
        },
        "ef5d6634f47e476caaf2f30a0b5bab1c": {
          "model_module": "@jupyter-widgets/controls",
          "model_name": "FloatProgressModel",
          "state": {
            "_view_name": "ProgressView",
            "style": "IPY_MODEL_e448163e3aaa4e0db847cbdc0f2d09ff",
            "_dom_classes": [],
            "description": " 28%",
            "_model_name": "FloatProgressModel",
            "bar_style": "",
            "max": 15788,
            "_view_module": "@jupyter-widgets/controls",
            "_model_module_version": "1.5.0",
            "value": 4347,
            "_view_count": null,
            "_view_module_version": "1.5.0",
            "orientation": "horizontal",
            "min": 0,
            "description_tooltip": null,
            "_model_module": "@jupyter-widgets/controls",
            "layout": "IPY_MODEL_65ce3ca09fd34b419b98e33975760ea3"
          }
        },
        "85e7b0e649394d3e8ca9238bf200f92c": {
          "model_module": "@jupyter-widgets/controls",
          "model_name": "HTMLModel",
          "state": {
            "_view_name": "HTMLView",
            "style": "IPY_MODEL_0434838ffb514e1d8190b7592cdcd982",
            "_dom_classes": [],
            "description": "",
            "_model_name": "HTMLModel",
            "placeholder": "​",
            "_view_module": "@jupyter-widgets/controls",
            "_model_module_version": "1.5.0",
            "value": " 4347/15788 [01:04&lt;04:17, 44.51it/s]",
            "_view_count": null,
            "_view_module_version": "1.5.0",
            "description_tooltip": null,
            "_model_module": "@jupyter-widgets/controls",
            "layout": "IPY_MODEL_ee456a6422c84a9a95a0937caa515937"
          }
        },
        "e448163e3aaa4e0db847cbdc0f2d09ff": {
          "model_module": "@jupyter-widgets/controls",
          "model_name": "ProgressStyleModel",
          "state": {
            "_view_name": "StyleView",
            "_model_name": "ProgressStyleModel",
            "description_width": "initial",
            "_view_module": "@jupyter-widgets/base",
            "_model_module_version": "1.5.0",
            "_view_count": null,
            "_view_module_version": "1.2.0",
            "bar_color": null,
            "_model_module": "@jupyter-widgets/controls"
          }
        },
        "65ce3ca09fd34b419b98e33975760ea3": {
          "model_module": "@jupyter-widgets/base",
          "model_name": "LayoutModel",
          "state": {
            "_view_name": "LayoutView",
            "grid_template_rows": null,
            "right": null,
            "justify_content": null,
            "_view_module": "@jupyter-widgets/base",
            "overflow": null,
            "_model_module_version": "1.2.0",
            "_view_count": null,
            "flex_flow": null,
            "width": null,
            "min_width": null,
            "border": null,
            "align_items": null,
            "bottom": null,
            "_model_module": "@jupyter-widgets/base",
            "top": null,
            "grid_column": null,
            "overflow_y": null,
            "overflow_x": null,
            "grid_auto_flow": null,
            "grid_area": null,
            "grid_template_columns": null,
            "flex": null,
            "_model_name": "LayoutModel",
            "justify_items": null,
            "grid_row": null,
            "max_height": null,
            "align_content": null,
            "visibility": null,
            "align_self": null,
            "height": null,
            "min_height": null,
            "padding": null,
            "grid_auto_rows": null,
            "grid_gap": null,
            "max_width": null,
            "order": null,
            "_view_module_version": "1.2.0",
            "grid_template_areas": null,
            "object_position": null,
            "object_fit": null,
            "grid_auto_columns": null,
            "margin": null,
            "display": null,
            "left": null
          }
        },
        "0434838ffb514e1d8190b7592cdcd982": {
          "model_module": "@jupyter-widgets/controls",
          "model_name": "DescriptionStyleModel",
          "state": {
            "_view_name": "StyleView",
            "_model_name": "DescriptionStyleModel",
            "description_width": "",
            "_view_module": "@jupyter-widgets/base",
            "_model_module_version": "1.5.0",
            "_view_count": null,
            "_view_module_version": "1.2.0",
            "_model_module": "@jupyter-widgets/controls"
          }
        },
        "ee456a6422c84a9a95a0937caa515937": {
          "model_module": "@jupyter-widgets/base",
          "model_name": "LayoutModel",
          "state": {
            "_view_name": "LayoutView",
            "grid_template_rows": null,
            "right": null,
            "justify_content": null,
            "_view_module": "@jupyter-widgets/base",
            "overflow": null,
            "_model_module_version": "1.2.0",
            "_view_count": null,
            "flex_flow": null,
            "width": null,
            "min_width": null,
            "border": null,
            "align_items": null,
            "bottom": null,
            "_model_module": "@jupyter-widgets/base",
            "top": null,
            "grid_column": null,
            "overflow_y": null,
            "overflow_x": null,
            "grid_auto_flow": null,
            "grid_area": null,
            "grid_template_columns": null,
            "flex": null,
            "_model_name": "LayoutModel",
            "justify_items": null,
            "grid_row": null,
            "max_height": null,
            "align_content": null,
            "visibility": null,
            "align_self": null,
            "height": null,
            "min_height": null,
            "padding": null,
            "grid_auto_rows": null,
            "grid_gap": null,
            "max_width": null,
            "order": null,
            "_view_module_version": "1.2.0",
            "grid_template_areas": null,
            "object_position": null,
            "object_fit": null,
            "grid_auto_columns": null,
            "margin": null,
            "display": null,
            "left": null
          }
        }
      }
    }
  },
  "cells": [
    {
      "cell_type": "markdown",
      "metadata": {
        "id": "ykSbrnPjmnvd"
      },
      "source": [
        "# **< Needs for unclassing >**\n",
        "1. dataset이 class형태라서 y_test 반환이 안됨\n",
        "2. classification matrix 파악이 어려움(오분류)\n",
        "3. Stratified K-fold 적용이 어려움 \n",
        "4. 단순 아래 레이어 변형만으로는 아무리 모델링을 해도 성능, 오버피팅이 제자리임       \n",
        "\n",
        " (train acc는 오르는데 val acc는 제자리임)\n",
        "\n",
        "> 더 나은 모델링을 위해서는 Unclass 작업이 필요할 것 같음\n",
        "\n"
      ]
    },
    {
      "cell_type": "code",
      "metadata": {
        "colab": {
          "base_uri": "https://localhost:8080/"
        },
        "id": "feMlYKvBmOH9",
        "outputId": "1387112f-ce63-4ce9-9e54-74556c0b4127"
      },
      "source": [
        "!pip install fasttext"
      ],
      "execution_count": null,
      "outputs": [
        {
          "output_type": "stream",
          "text": [
            "Requirement already satisfied: fasttext in /usr/local/lib/python3.7/dist-packages (0.9.2)\n",
            "Requirement already satisfied: numpy in /usr/local/lib/python3.7/dist-packages (from fasttext) (1.19.5)\n",
            "Requirement already satisfied: setuptools>=0.7.0 in /usr/local/lib/python3.7/dist-packages (from fasttext) (56.1.0)\n",
            "Requirement already satisfied: pybind11>=2.2 in /usr/local/lib/python3.7/dist-packages (from fasttext) (2.6.2)\n"
          ],
          "name": "stdout"
        }
      ]
    },
    {
      "cell_type": "code",
      "metadata": {
        "id": "zV-cnDJymR45"
      },
      "source": [
        "# library \n",
        "import tensorflow as tf\n",
        "import pandas as pd\n",
        "import numpy as np\n",
        "from tqdm import tqdm, tqdm_notebook\n",
        "from sklearn.model_selection import train_test_split\n",
        "import sys \n",
        "import math\n",
        "\n",
        "import fasttext\n",
        "\n",
        "import matplotlib.pyplot as plt\n",
        "import seaborn as sns\n",
        "sns.set_style('whitegrid')\n",
        "plt.style.use(\"fivethirtyeight\")\n",
        "%matplotlib inline"
      ],
      "execution_count": 2,
      "outputs": []
    },
    {
      "cell_type": "markdown",
      "metadata": {
        "id": "y4vEfjwZp04V"
      },
      "source": [
        "# 1. Data preprocessing \n",
        "- Remove stopwords\n",
        "- Tr, val, te split\n",
        "- Sampling\n",
        "- Padding (for Lstm)"
      ]
    },
    {
      "cell_type": "code",
      "metadata": {
        "id": "8IOp3pQ1mR2j"
      },
      "source": [
        "# # preprocessing \n",
        "# def drop_token(x):\n",
        "#     sw = ['부대사업','사업','부대','각호','판매업', '한다', '거나', '에게']   # stopwords\n",
        "#     x = [word for word in x if not word in sw]\n",
        "\n",
        "#     if len(x)>50:         # drop \n",
        "#       return x[:50]\n",
        "#     else:\n",
        "#       return x  \n",
        "\n",
        "# data['token'] = data['token'].apply(drop_token)   # 미리 토큰 전처리 \n",
        "# data_big = data[['company', 'big', 'token']]\n",
        "# data_big.to_pickle('/content/drive/MyDrive/Colab Notebooks/Competition/KED 대상팀/data/final_data/대분류용data.pkl')"
      ],
      "execution_count": 1,
      "outputs": []
    },
    {
      "cell_type": "code",
      "metadata": {
        "id": "OFjAR5UtmR0L"
      },
      "source": [
        "# train data\n",
        "data = pd.read_pickle('/content/drive/MyDrive/Colab Notebooks/Competition/KED 대상팀/data/final_data/대분류용data.pkl')"
      ],
      "execution_count": 4,
      "outputs": []
    },
    {
      "cell_type": "code",
      "metadata": {
        "colab": {
          "base_uri": "https://localhost:8080/",
          "height": 299
        },
        "id": "UtUF1N67mRvP",
        "outputId": "866f5d3e-4eff-4342-e822-54a82b4a966a"
      },
      "source": [
        "sns.countplot(data=data, x='big', order = data['big'].value_counts().index)"
      ],
      "execution_count": null,
      "outputs": [
        {
          "output_type": "execute_result",
          "data": {
            "text/plain": [
              "<matplotlib.axes._subplots.AxesSubplot at 0x7f446c0d8f90>"
            ]
          },
          "metadata": {
            "tags": []
          },
          "execution_count": 10
        },
        {
          "output_type": "display_data",
          "data": {
            "image/png": "[encoded data removed]",
            "text/plain": [
              "<Figure size 432x288 with 1 Axes>"
            ]
          },
          "metadata": {
            "tags": [],
            "needs_background": "light"
          }
        }
      ]
    },
    {
      "cell_type": "markdown",
      "metadata": {
        "id": "TaHRmeYZraXw"
      },
      "source": [
        "class가 너무 imbalanced 하므로 <u>Sampling</u>이 필요해보임   \n",
        "  (P, I, D, R, E, Q 얘네들이라도 오버샘플링.... ) "
      ]
    },
    {
      "cell_type": "code",
      "metadata": {
        "id": "Dr4cQCft_RiG"
      },
      "source": [
        "from imblearn.over_sampling import RandomOverSampler\n",
        "from imblearn.under_sampling import RandomUnderSampler \n",
        "\n",
        "import warnings\n",
        "warnings.filterwarnings('ignore')\n",
        "\n",
        "## 각각 대분류별 10만개정도로 맞추자"
      ],
      "execution_count": 9,
      "outputs": []
    },
    {
      "cell_type": "code",
      "metadata": {
        "colab": {
          "base_uri": "https://localhost:8080/",
          "height": 77
        },
        "id": "CfPi85hR_lIn",
        "outputId": "4897f2f7-0b77-4a1a-acdb-1d7d74d86553"
      },
      "source": [
        "data_under = data.query('big in [\"G\",\"C\",\"F\", \"L\", \"J\", \"M\"]')\n",
        "data_under.head(1)"
      ],
      "execution_count": 14,
      "outputs": [
        {
          "output_type": "execute_result",
          "data": {
            "text/html": [
              "<div>\n",
              "<style scoped>\n",
              "    .dataframe tbody tr th:only-of-type {\n",
              "        vertical-align: middle;\n",
              "    }\n",
              "\n",
              "    .dataframe tbody tr th {\n",
              "        vertical-align: top;\n",
              "    }\n",
              "\n",
              "    .dataframe thead th {\n",
              "        text-align: right;\n",
              "    }\n",
              "</style>\n",
              "<table border=\"1\" class=\"dataframe\">\n",
              "  <thead>\n",
              "    <tr style=\"text-align: right;\">\n",
              "      <th></th>\n",
              "      <th>company</th>\n",
              "      <th>big</th>\n",
              "      <th>token</th>\n",
              "    </tr>\n",
              "  </thead>\n",
              "  <tbody>\n",
              "    <tr>\n",
              "      <th>0</th>\n",
              "      <td>1000000</td>\n",
              "      <td>F</td>\n",
              "      <td>[토목, 건축, 주택, 분양, 임대업, 경공, 산업, 설비, 시설물, 유지관리, 골...</td>\n",
              "    </tr>\n",
              "  </tbody>\n",
              "</table>\n",
              "</div>"
            ],
            "text/plain": [
              "   company big                                              token\n",
              "0  1000000   F  [토목, 건축, 주택, 분양, 임대업, 경공, 산업, 설비, 시설물, 유지관리, 골..."
            ]
          },
          "metadata": {
            "tags": []
          },
          "execution_count": 14
        }
      ]
    },
    {
      "cell_type": "code",
      "metadata": {
        "id": "5qHh5gRGA59U"
      },
      "source": [
        "X = data_under[['company', 'token']]\n",
        "y = data_under['big']\n",
        "\n",
        "us = RandomUnderSampler(random_state=0)\n",
        "X_under, y_under = us.fit_resample(X, y)"
      ],
      "execution_count": 52,
      "outputs": []
    },
    {
      "cell_type": "code",
      "metadata": {
        "colab": {
          "base_uri": "https://localhost:8080/"
        },
        "id": "0U715v7nAIR6",
        "outputId": "f86beaa0-2866-4373-9468-d44e8d0b7216"
      },
      "source": [
        "pd.Series(y_under).value_counts()"
      ],
      "execution_count": 54,
      "outputs": [
        {
          "output_type": "execute_result",
          "data": {
            "text/plain": [
              "F    106443\n",
              "J    106443\n",
              "L    106443\n",
              "C    106443\n",
              "M    106443\n",
              "G    106443\n",
              "dtype: int64"
            ]
          },
          "metadata": {
            "tags": []
          },
          "execution_count": 54
        }
      ]
    },
    {
      "cell_type": "code",
      "metadata": {
        "id": "Sp6_9wMKDnNi"
      },
      "source": [
        "undered = pd.DataFrame(X_under, columns=['company', 'token'])\n",
        "undered['big'] = y_under"
      ],
      "execution_count": 60,
      "outputs": []
    },
    {
      "cell_type": "code",
      "metadata": {
        "colab": {
          "base_uri": "https://localhost:8080/",
          "height": 77
        },
        "id": "DKSJ_v-dBzdR",
        "outputId": "8f9113a4-e4a2-4d6c-b34b-e48856c39da0"
      },
      "source": [
        "data_over = data.query('big not in [\"G\",\"C\",\"F\", \"L\", \"J\", \"M\"]')\n",
        "data_over.head(1)"
      ],
      "execution_count": 67,
      "outputs": [
        {
          "output_type": "execute_result",
          "data": {
            "text/html": [
              "<div>\n",
              "<style scoped>\n",
              "    .dataframe tbody tr th:only-of-type {\n",
              "        vertical-align: middle;\n",
              "    }\n",
              "\n",
              "    .dataframe tbody tr th {\n",
              "        vertical-align: top;\n",
              "    }\n",
              "\n",
              "    .dataframe thead th {\n",
              "        text-align: right;\n",
              "    }\n",
              "</style>\n",
              "<table border=\"1\" class=\"dataframe\">\n",
              "  <thead>\n",
              "    <tr style=\"text-align: right;\">\n",
              "      <th></th>\n",
              "      <th>company</th>\n",
              "      <th>big</th>\n",
              "      <th>token</th>\n",
              "    </tr>\n",
              "  </thead>\n",
              "  <tbody>\n",
              "    <tr>\n",
              "      <th>26</th>\n",
              "      <td>1000107</td>\n",
              "      <td>S</td>\n",
              "      <td>[자동차, 정비, 자동차, 부속품, 자동차, 견인, 운수업, 철도, 차량, 정비, ...</td>\n",
              "    </tr>\n",
              "  </tbody>\n",
              "</table>\n",
              "</div>"
            ],
            "text/plain": [
              "    company big                                              token\n",
              "26  1000107   S  [자동차, 정비, 자동차, 부속품, 자동차, 견인, 운수업, 철도, 차량, 정비, ..."
            ]
          },
          "metadata": {
            "tags": []
          },
          "execution_count": 67
        }
      ]
    },
    {
      "cell_type": "code",
      "metadata": {
        "id": "cIhEAxGjCLIR"
      },
      "source": [
        "X = data_over[['company', 'token']]\n",
        "y = data_over['big']\n",
        "\n",
        "us = RandomOverSampler(random_state=0)\n",
        "X_over, y_over = us.fit_resample(X, y)"
      ],
      "execution_count": 68,
      "outputs": []
    },
    {
      "cell_type": "code",
      "metadata": {
        "id": "QYmpc4zICK_9"
      },
      "source": [
        "overed = pd.DataFrame(X_over, columns=['company', 'token'])\n",
        "overed['big'] = y_over"
      ],
      "execution_count": 69,
      "outputs": []
    },
    {
      "cell_type": "code",
      "metadata": {
        "colab": {
          "base_uri": "https://localhost:8080/"
        },
        "id": "dyWqjmgQEcew",
        "outputId": "c25091fd-891e-4c4a-ac5d-efc12b6089e0"
      },
      "source": [
        "overed.big.value_counts()"
      ],
      "execution_count": 71,
      "outputs": [
        {
          "output_type": "execute_result",
          "data": {
            "text/plain": [
              "E    75069\n",
              "Q    75069\n",
              "R    75069\n",
              "S    75069\n",
              "P    75069\n",
              "N    75069\n",
              "K    75069\n",
              "D    75069\n",
              "I    75069\n",
              "H    75069\n",
              "A    75069\n",
              "Name: big, dtype: int64"
            ]
          },
          "metadata": {
            "tags": []
          },
          "execution_count": 71
        }
      ]
    },
    {
      "cell_type": "code",
      "metadata": {
        "id": "YeqSTgl2EP-C"
      },
      "source": [
        "sample_data =pd.concat([overed, undered]).reset_index(drop=True)"
      ],
      "execution_count": 79,
      "outputs": []
    },
    {
      "cell_type": "code",
      "metadata": {
        "colab": {
          "base_uri": "https://localhost:8080/",
          "height": 297
        },
        "id": "5XWw5ubSFEyH",
        "outputId": "980a500a-e42a-4597-df26-f9f72aad0c3c"
      },
      "source": [
        "sns.countplot(data=sample_data, x='big', order = sample_data['big'].value_counts().index)"
      ],
      "execution_count": 80,
      "outputs": [
        {
          "output_type": "execute_result",
          "data": {
            "text/plain": [
              "<matplotlib.axes._subplots.AxesSubplot at 0x7f67037d2b90>"
            ]
          },
          "metadata": {
            "tags": []
          },
          "execution_count": 80
        },
        {
          "output_type": "display_data",
          "data": {
            "image/png": "[encoded data removed]",
            "text/plain": [
              "<Figure size 432x288 with 1 Axes>"
            ]
          },
          "metadata": {
            "tags": [],
            "needs_background": "light"
          }
        }
      ]
    },
    {
      "cell_type": "markdown",
      "metadata": {
        "id": "_z0Ix42IFkZm"
      },
      "source": [
        "split "
      ]
    },
    {
      "cell_type": "code",
      "metadata": {
        "colab": {
          "base_uri": "https://localhost:8080/",
          "height": 77
        },
        "id": "HbpOM8wxFl0U",
        "outputId": "212680e9-e4e7-417b-b3cd-69b49ab05592"
      },
      "source": [
        "sample_data.head(1)"
      ],
      "execution_count": 81,
      "outputs": [
        {
          "output_type": "execute_result",
          "data": {
            "text/html": [
              "<div>\n",
              "<style scoped>\n",
              "    .dataframe tbody tr th:only-of-type {\n",
              "        vertical-align: middle;\n",
              "    }\n",
              "\n",
              "    .dataframe tbody tr th {\n",
              "        vertical-align: top;\n",
              "    }\n",
              "\n",
              "    .dataframe thead th {\n",
              "        text-align: right;\n",
              "    }\n",
              "</style>\n",
              "<table border=\"1\" class=\"dataframe\">\n",
              "  <thead>\n",
              "    <tr style=\"text-align: right;\">\n",
              "      <th></th>\n",
              "      <th>company</th>\n",
              "      <th>token</th>\n",
              "      <th>big</th>\n",
              "    </tr>\n",
              "  </thead>\n",
              "  <tbody>\n",
              "    <tr>\n",
              "      <th>0</th>\n",
              "      <td>1000107</td>\n",
              "      <td>[자동차, 정비, 자동차, 부속품, 자동차, 견인, 운수업, 철도, 차량, 정비, ...</td>\n",
              "      <td>S</td>\n",
              "    </tr>\n",
              "  </tbody>\n",
              "</table>\n",
              "</div>"
            ],
            "text/plain": [
              "   company                                              token big\n",
              "0  1000107  [자동차, 정비, 자동차, 부속품, 자동차, 견인, 운수업, 철도, 차량, 정비, ...   S"
            ]
          },
          "metadata": {
            "tags": []
          },
          "execution_count": 81
        }
      ]
    },
    {
      "cell_type": "code",
      "metadata": {
        "colab": {
          "base_uri": "https://localhost:8080/"
        },
        "id": "fqtfdLrcFuTU",
        "outputId": "9e39557b-9f39-434b-a173-d75e74a06f5f"
      },
      "source": [
        "sample_data.shape"
      ],
      "execution_count": 82,
      "outputs": [
        {
          "output_type": "execute_result",
          "data": {
            "text/plain": [
              "(1464417, 3)"
            ]
          },
          "metadata": {
            "tags": []
          },
          "execution_count": 82
        }
      ]
    },
    {
      "cell_type": "code",
      "metadata": {
        "id": "Ipx1QuNvGBBo"
      },
      "source": [
        "# sample_data.to_pickle('/content/drive/MyDrive/Colab Notebooks/Competition/KED 대상팀/data/final_data/대분류sample.pkl')"
      ],
      "execution_count": 86,
      "outputs": []
    },
    {
      "cell_type": "code",
      "metadata": {
        "colab": {
          "base_uri": "https://localhost:8080/"
        },
        "id": "uoHu06UtFjh3",
        "outputId": "d0892d07-dffb-4355-be7a-a1d37562a98d"
      },
      "source": [
        "X =  [x for x in sample_data.iloc[:,-2]]\n",
        "Y = pd.get_dummies(sample_data['big']).values   # 대분류 get dummy로 펼치기 \n",
        "\n",
        "# split\n",
        "Xtrain, Xtest, Ytrain, Ytest = train_test_split(X, Y, test_size=0.2, random_state=1214)\n",
        "tr_x, val_x, tr_y, val_y = train_test_split(Xtrain, Ytrain, test_size=0.2, random_state=1214)  # valid set 추가\n",
        "print(len(tr_x), len(val_x), len(Xtest))  # 100만개, 20만개, 30만개"
      ],
      "execution_count": 84,
      "outputs": [
        {
          "output_type": "stream",
          "text": [
            "937226 234307 292884\n"
          ],
          "name": "stdout"
        }
      ]
    },
    {
      "cell_type": "code",
      "metadata": {
        "id": "8gA97fIOsBbm"
      },
      "source": [
        "# Max_len 정해서 패딩함 \n",
        "def pad(data, max_len=50):    \n",
        "    result = []\n",
        "    for tokens in tqdm(data, desc='Padding'):\n",
        "        if len(tokens) >= max_len:          # max_len보다 크면 그냥 max_len까지만 자르기 \n",
        "            result.append(tokens[:max_len])\n",
        "        else:                                          # 패딩이 필요한 개수 \n",
        "            n_to_pad = max_len - len(tokens)  \n",
        "            result.append(tokens + [''] * n_to_pad)\n",
        "\n",
        "    return max_len, result\n",
        "\n",
        "def padding_text(tokenized_sentences):\n",
        "    max_tokens, padded_sentences = pad(tokenized_sentences)\n",
        "    return padded_sentences"
      ],
      "execution_count": null,
      "outputs": []
    },
    {
      "cell_type": "code",
      "metadata": {
        "colab": {
          "base_uri": "https://localhost:8080/"
        },
        "id": "n-rt0kXpsBZq",
        "outputId": "b0ecf256-9bd1-4b5d-8025-fe04ae465b7a"
      },
      "source": [
        "# 패딩 시행 \n",
        "tr_pad_x = padding_text(tr_x)\n",
        "# val_pad_x = padding_text(val_x)\n",
        "# te_pad_x = padding_text(Xtest)"
      ],
      "execution_count": null,
      "outputs": [
        {
          "output_type": "stream",
          "text": [
            "Padding: 100%|██████████| 1010375/1010375 [00:09<00:00, 109502.83it/s]\n"
          ],
          "name": "stderr"
        }
      ]
    },
    {
      "cell_type": "code",
      "metadata": {
        "colab": {
          "base_uri": "https://localhost:8080/"
        },
        "id": "85PQKntr03vX",
        "outputId": "071e5762-f774-4fcd-be28-c7206ef69e79"
      },
      "source": [
        "tr_pad_x[0]    # padding은 이런식으로 됨"
      ],
      "execution_count": null,
      "outputs": [
        {
          "output_type": "execute_result",
          "data": {
            "text/plain": [
              "['비철',\n",
              " '수출입',\n",
              " '비철',\n",
              " '무역업',\n",
              " '비철',\n",
              " '유통',\n",
              " '',\n",
              " '',\n",
              " '',\n",
              " '',\n",
              " '',\n",
              " '',\n",
              " '',\n",
              " '',\n",
              " '',\n",
              " '',\n",
              " '',\n",
              " '',\n",
              " '',\n",
              " '',\n",
              " '',\n",
              " '',\n",
              " '',\n",
              " '',\n",
              " '',\n",
              " '',\n",
              " '',\n",
              " '',\n",
              " '',\n",
              " '',\n",
              " '',\n",
              " '',\n",
              " '',\n",
              " '',\n",
              " '',\n",
              " '',\n",
              " '',\n",
              " '',\n",
              " '',\n",
              " '',\n",
              " '',\n",
              " '',\n",
              " '',\n",
              " '',\n",
              " '',\n",
              " '',\n",
              " '',\n",
              " '',\n",
              " '',\n",
              " '']"
            ]
          },
          "metadata": {
            "tags": []
          },
          "execution_count": 27
        }
      ]
    },
    {
      "cell_type": "markdown",
      "metadata": {
        "id": "9H6sNJo6s5fX"
      },
      "source": [
        "#2. Embedding\n",
        "- Fast text"
      ]
    },
    {
      "cell_type": "code",
      "metadata": {
        "id": "zMLEoOonsBXU"
      },
      "source": [
        "EMBEDDING_DIM = 300   # 300개의 임베딩차원으로 이루어진 pretrained fast text \n",
        "\n",
        "fasttext_model_path = '/content/drive/MyDrive/Colab Notebooks/Competition/KED 대상팀/cc.ko.300.bin'"
      ],
      "execution_count": null,
      "outputs": []
    },
    {
      "cell_type": "code",
      "metadata": {
        "colab": {
          "base_uri": "https://localhost:8080/"
        },
        "id": "Zu6JS3R9sBTq",
        "outputId": "57d2886e-7039-4352-e418-e431a992f2c1"
      },
      "source": [
        "# fasttext model load \n",
        "# fasttext_model_cache = {}\n",
        "\n",
        "# if fasttext_model_path not in fasttext_model_cache:\n",
        "#   fasttext_model_cache[fasttext_model_path] = fasttext.load_model(fasttext_model_path)  \n",
        "\n",
        "# fasttext_model = fasttext_model_cache[fasttext_model_path]   \n",
        "\n",
        "fasttext_model = fasttext.load_model(fasttext_model_path)  "
      ],
      "execution_count": null,
      "outputs": [
        {
          "output_type": "stream",
          "text": [
            "Warning : `load_model` does not return WordVectorModel or SupervisedModel any more, but a `FastText` object which is very similar.\n"
          ],
          "name": "stderr"
        }
      ]
    },
    {
      "cell_type": "code",
      "metadata": {
        "id": "DGwS1tLN5M0M"
      },
      "source": [
        "# fast text에서 word vector 얻기 \n",
        "def get_word_vectors(words):\n",
        "    result = []\n",
        "    for word in words:  # 단어별로 \n",
        "        if not word: \n",
        "            result.append(np.zeros((EMBEDDING_DIM,)))   # 단어가 없으면 0으로 채운다\n",
        "        else:\n",
        "            result.append(fasttext_model.get_word_vector(word))\n",
        "    return np.array(result)  # 여기 array아니라 list로 해야하나"
      ],
      "execution_count": null,
      "outputs": []
    },
    {
      "cell_type": "code",
      "metadata": {
        "id": "CX-CTtC92e98"
      },
      "source": [
        "# 배치단위로 가져오기 \n",
        "def bring_words_per_batch(x_data, batch_size=64):\n",
        "  batch_len = math.ceil(len(x_data)/batch_size)   # 해당 배치 size의 반복 횟수 (batch_size*batch_len=len(origin_data)) \n",
        "  word_vectors = []\n",
        "\n",
        "  # 배치단위로 반복하며 word를 가져온다\n",
        "  for idx in tqdm_notebook(range(batch_len)):   # idx는 배치 인덱스 \n",
        "    batch_x = x_data[idx * batch_size :(idx + 1) * batch_size] \n",
        "    word_vectors.append([get_word_vectors(ps) for ps in batch_x])    # 해당 word 가져와서 리스트에 추가\n",
        "\n",
        "  return word_vectors   # x_data에 해당하는 fasttext 임베딩 단어\n",
        "\n",
        "    # batch_y = y_data[idx * batch_size :(idx + 1) * batch_size]    # 배치에 해당하는 y데이터 "
      ],
      "execution_count": null,
      "outputs": []
    },
    {
      "cell_type": "code",
      "metadata": {
        "colab": {
          "base_uri": "https://localhost:8080/",
          "height": 122,
          "referenced_widgets": [
            "07f18b4095b7435abceb2e896d8d7309",
            "8828de7f10b047ac9ce2623a05e0f279",
            "ef5d6634f47e476caaf2f30a0b5bab1c",
            "85e7b0e649394d3e8ca9238bf200f92c",
            "e448163e3aaa4e0db847cbdc0f2d09ff",
            "65ce3ca09fd34b419b98e33975760ea3",
            "0434838ffb514e1d8190b7592cdcd982",
            "ee456a6422c84a9a95a0937caa515937"
          ]
        },
        "id": "rTLTEOPwmRn9",
        "outputId": "9ff65af6-8e00-4eb1-e680-416ac97c989d"
      },
      "source": [
        "bring_words_per_batch(tr_x)   # 근데 이거 램이 터져버림,,,,"
      ],
      "execution_count": null,
      "outputs": [
        {
          "output_type": "stream",
          "text": [
            "/usr/local/lib/python3.7/dist-packages/ipykernel_launcher.py:7: TqdmDeprecationWarning: This function will be removed in tqdm==5.0.0\n",
            "Please use `tqdm.notebook.tqdm` instead of `tqdm.tqdm_notebook`\n",
            "  import sys\n"
          ],
          "name": "stderr"
        },
        {
          "output_type": "display_data",
          "data": {
            "application/vnd.jupyter.widget-view+json": {
              "model_id": "07f18b4095b7435abceb2e896d8d7309",
              "version_minor": 0,
              "version_major": 2
            },
            "text/plain": [
              "HBox(children=(FloatProgress(value=0.0, max=15788.0), HTML(value='')))"
            ]
          },
          "metadata": {
            "tags": []
          }
        }
      ]
    },
    {
      "cell_type": "code",
      "metadata": {
        "id": "V63ru0LkmRlk"
      },
      "source": [
        ""
      ],
      "execution_count": null,
      "outputs": []
    },
    {
      "cell_type": "markdown",
      "metadata": {
        "id": "BM9zHlv5gktz"
      },
      "source": [
        "# TF-IDF + Modeling"
      ]
    },
    {
      "cell_type": "code",
      "metadata": {
        "id": "SZQZuJ2ZmRj7"
      },
      "source": [
        "from collections import Counter\n",
        "from pprint import pprint\n",
        "from sklearn.feature_extraction.text import TfidfVectorizer\n",
        "\n",
        "import tensorflow as tf\n",
        "import pandas as pd\n",
        "import numpy as np\n",
        "from tqdm import tqdm, tqdm_notebook\n",
        "from sklearn.model_selection import train_test_split\n",
        "import sys \n",
        "import math\n",
        "\n",
        "import matplotlib.pyplot as plt\n",
        "import seaborn as sns\n",
        "sns.set_style('whitegrid')\n",
        "plt.style.use(\"fivethirtyeight\")\n",
        "%matplotlib inline"
      ],
      "execution_count": 92,
      "outputs": []
    },
    {
      "cell_type": "code",
      "metadata": {
        "id": "7cQYKN47mRem"
      },
      "source": [
        "# preprocessing \n",
        "def drop_token(x):\n",
        "    sw = ['부대사업','사업','부대','각호','판매업', '한다', '거나', '에게', '따른']   # stopwords\n",
        "    x = [word for word in x if not word in sw]\n",
        "\n",
        "    if len(x)>50:         # drop \n",
        "      return x[:50]\n",
        "    else:\n",
        "      return x     # 중복 제거 안함 "
      ],
      "execution_count": 2,
      "outputs": []
    },
    {
      "cell_type": "code",
      "metadata": {
        "id": "-RCQkhyTmRcL"
      },
      "source": [
        "data = pd.read_pickle('/content/drive/MyDrive/Colab Notebooks/Competition/KED 대상팀/data/final_data/0504_alltoken.pkl')\n",
        "data = data.query('big not in [\"O\",\"U\",\"T\"]')   # o,u,t 제외 "
      ],
      "execution_count": 3,
      "outputs": []
    },
    {
      "cell_type": "code",
      "metadata": {
        "colab": {
          "base_uri": "https://localhost:8080/",
          "height": 197
        },
        "id": "vhNENMwgJWcf",
        "outputId": "9924166b-b440-41c8-d0e0-08f92e335c64"
      },
      "source": [
        "sample_data.head()"
      ],
      "execution_count": 87,
      "outputs": [
        {
          "output_type": "execute_result",
          "data": {
            "text/html": [
              "<div>\n",
              "<style scoped>\n",
              "    .dataframe tbody tr th:only-of-type {\n",
              "        vertical-align: middle;\n",
              "    }\n",
              "\n",
              "    .dataframe tbody tr th {\n",
              "        vertical-align: top;\n",
              "    }\n",
              "\n",
              "    .dataframe thead th {\n",
              "        text-align: right;\n",
              "    }\n",
              "</style>\n",
              "<table border=\"1\" class=\"dataframe\">\n",
              "  <thead>\n",
              "    <tr style=\"text-align: right;\">\n",
              "      <th></th>\n",
              "      <th>company</th>\n",
              "      <th>token</th>\n",
              "      <th>big</th>\n",
              "    </tr>\n",
              "  </thead>\n",
              "  <tbody>\n",
              "    <tr>\n",
              "      <th>0</th>\n",
              "      <td>1000107</td>\n",
              "      <td>[자동차, 정비, 자동차, 부속품, 자동차, 견인, 운수업, 철도, 차량, 정비, ...</td>\n",
              "      <td>S</td>\n",
              "    </tr>\n",
              "    <tr>\n",
              "      <th>1</th>\n",
              "      <td>1000206</td>\n",
              "      <td>[산업, 용품, 세탁업, 가정용품, 세탁업, 세탁물, 공급, 섬유, 염색, 표백, ...</td>\n",
              "      <td>S</td>\n",
              "    </tr>\n",
              "    <tr>\n",
              "      <th>2</th>\n",
              "      <td>1000294</td>\n",
              "      <td>[타이어, 공업, 발전, 조사, 연구, 회원, 공동, 이익, 증진, 타이어, 공업,...</td>\n",
              "      <td>S</td>\n",
              "    </tr>\n",
              "    <tr>\n",
              "      <th>3</th>\n",
              "      <td>1000305</td>\n",
              "      <td>[조합, 피복, 공업, 건전, 발전, 조합원, 상호, 복리, 증진, 도모, 협동, ...</td>\n",
              "      <td>S</td>\n",
              "    </tr>\n",
              "    <tr>\n",
              "      <th>4</th>\n",
              "      <td>1000330</td>\n",
              "      <td>[이미용, 서비스업, 이미용, 기기, 제조, 소매업, 이미용, 차이, 화장품, 제조...</td>\n",
              "      <td>S</td>\n",
              "    </tr>\n",
              "  </tbody>\n",
              "</table>\n",
              "</div>"
            ],
            "text/plain": [
              "   company                                              token big\n",
              "0  1000107  [자동차, 정비, 자동차, 부속품, 자동차, 견인, 운수업, 철도, 차량, 정비, ...   S\n",
              "1  1000206  [산업, 용품, 세탁업, 가정용품, 세탁업, 세탁물, 공급, 섬유, 염색, 표백, ...   S\n",
              "2  1000294  [타이어, 공업, 발전, 조사, 연구, 회원, 공동, 이익, 증진, 타이어, 공업,...   S\n",
              "3  1000305  [조합, 피복, 공업, 건전, 발전, 조합원, 상호, 복리, 증진, 도모, 협동, ...   S\n",
              "4  1000330  [이미용, 서비스업, 이미용, 기기, 제조, 소매업, 이미용, 차이, 화장품, 제조...   S"
            ]
          },
          "metadata": {
            "tags": []
          },
          "execution_count": 87
        }
      ]
    },
    {
      "cell_type": "code",
      "metadata": {
        "id": "oBXdvZeImRZr"
      },
      "source": [
        "X = [' '.join(x) for x in sample_data.iloc[:,-2]] \n",
        "Y = pd.get_dummies(sample_data['big']).values   # 대분류 get dummy로 펼치기 \n",
        "\n",
        "Xtrain, te_x, Ytrain, te_y = train_test_split(X, Y, test_size=0.2, random_state=1214)\n",
        "tr_x, val_x, tr_y, val_y = train_test_split(Xtrain, Ytrain, test_size=0.2, random_state=1214)  # valid set 추가"
      ],
      "execution_count": 89,
      "outputs": []
    },
    {
      "cell_type": "code",
      "metadata": {
        "colab": {
          "base_uri": "https://localhost:8080/",
          "height": 34
        },
        "id": "a4QXmiqWhz--",
        "outputId": "9dd20fa3-4473-4e71-8e63-5e5d8f1cb9fb"
      },
      "source": [
        "tr_x[0]"
      ],
      "execution_count": 90,
      "outputs": [
        {
          "output_type": "execute_result",
          "data": {
            "application/vnd.google.colaboratory.intrinsic+json": {
              "type": "string"
            },
            "text/plain": [
              "'악세사리 디자인 의류 디자인 신발 디자인'"
            ]
          },
          "metadata": {
            "tags": []
          },
          "execution_count": 90
        }
      ]
    },
    {
      "cell_type": "code",
      "metadata": {
        "colab": {
          "base_uri": "https://localhost:8080/"
        },
        "id": "FAk3gG8dg_7v",
        "outputId": "665ca9e3-07ec-4407-ab82-d97cc2778ead"
      },
      "source": [
        "%%time\n",
        "# preprocessor = TfidfVectorizer(max_features=500)   # tf-idf\n",
        "preprocessor = TfidfVectorizer(min_df=1, ngram_range=(1,1), lowercase=True, max_features=500)   \n",
        "## 유니그램, frequency가 1이상인 것만 추출 \n",
        "X_train_p = preprocessor.fit_transform(tr_x, tr_y).toarray()\n",
        "X_valid_p = preprocessor.transform(val_x).toarray()    \n",
        "X_test_p = preprocessor.transform(te_x).toarray()    "
      ],
      "execution_count": 93,
      "outputs": [
        {
          "output_type": "stream",
          "text": [
            "CPU times: user 31.6 s, sys: 1.56 s, total: 33.2 s\n",
            "Wall time: 33.1 s\n"
          ],
          "name": "stdout"
        }
      ]
    },
    {
      "cell_type": "code",
      "metadata": {
        "colab": {
          "base_uri": "https://localhost:8080/"
        },
        "id": "vKgNs3rIimUC",
        "outputId": "1ece98aa-eb12-486e-e7c2-b91e089e2aed"
      },
      "source": [
        "print(X_train_p.shape, X_valid_p.shape, X_test_p.shape)  # 패딩 안해도될듯? "
      ],
      "execution_count": 94,
      "outputs": [
        {
          "output_type": "stream",
          "text": [
            "(937226, 500) (234307, 500) (292884, 500)\n"
          ],
          "name": "stdout"
        }
      ]
    },
    {
      "cell_type": "code",
      "metadata": {
        "colab": {
          "base_uri": "https://localhost:8080/"
        },
        "id": "v3ctyeuKg_2M",
        "outputId": "3490ade5-4561-40a7-edc2-599a9d0f1f5c"
      },
      "source": [
        "# 단어별 idf 출력 + 정렬해봄\n",
        "from operator import itemgetter\n",
        "words = []\n",
        "for i, j in zip(preprocessor.vocabulary_, preprocessor.idf_):\n",
        "  words.append((i, j))\n",
        "words.sort(key=itemgetter(1))\n",
        "pprint(words[490:])   # 클수록 자주 등장하는 애들임"
      ],
      "execution_count": 95,
      "outputs": [
        {
          "output_type": "stream",
          "text": [
            "[('생산', 5.9686648246978145),\n",
            " ('경영', 5.969125335873349),\n",
            " ('중개', 5.98678378728029),\n",
            " ('조합', 5.987096384969613),\n",
            " ('방지', 6.008106556749111),\n",
            " ('조경', 6.023550879176585),\n",
            " ('거래', 6.047506085378071),\n",
            " ('문업', 6.059534295880074),\n",
            " ('기반', 6.090080139708784),\n",
            " ('비디오', 6.451892399970549)]\n"
          ],
          "name": "stdout"
        }
      ]
    },
    {
      "cell_type": "markdown",
      "metadata": {
        "id": "qnGjFwAUixpA"
      },
      "source": [
        "# Modeling "
      ]
    },
    {
      "cell_type": "code",
      "metadata": {
        "id": "Pe7_BZgenXXD"
      },
      "source": [
        "from keras.models import Model\n",
        "from keras.layers import Input, Dense, Embedding, SpatialDropout1D, concatenate\n",
        "from keras.layers import GRU, Bidirectional, GlobalAveragePooling1D, GlobalMaxPooling1D\n",
        "from keras.preprocessing import text, sequence\n",
        "from keras.callbacks import Callback"
      ],
      "execution_count": 96,
      "outputs": []
    },
    {
      "cell_type": "code",
      "metadata": {
        "colab": {
          "base_uri": "https://localhost:8080/"
        },
        "id": "pVx1Jsjvg_xS",
        "outputId": "dc9be34c-23b9-4d93-c413-d5bfdf1d3624"
      },
      "source": [
        "print(tr_y.shape, val_y.shape, te_y.shape)  # class 별로 있음 "
      ],
      "execution_count": 97,
      "outputs": [
        {
          "output_type": "stream",
          "text": [
            "(937226, 17) (234307, 17) (292884, 17)\n"
          ],
          "name": "stdout"
        }
      ]
    },
    {
      "cell_type": "code",
      "metadata": {
        "id": "N_yp52axi25T"
      },
      "source": [
        "n_features = 500      # tf-idf 차원\n",
        "n_classes = 17        # out 제외"
      ],
      "execution_count": 98,
      "outputs": []
    },
    {
      "cell_type": "code",
      "metadata": {
        "colab": {
          "base_uri": "https://localhost:8080/"
        },
        "id": "UZ9uyVkukU37",
        "outputId": "e05fad2b-fdb7-4e86-9f53-d37bb37e18d2"
      },
      "source": [
        "# 원래 모델 \n",
        "def build_model():\n",
        "    model = tf.keras.Sequential()\n",
        "    model.add(tf.keras.layers.Bidirectional(tf.keras.layers.LSTM(128, return_sequences=True), \n",
        "                                            input_shape=(None, n_features)))\n",
        "    model.add(tf.keras.layers.Bidirectional(tf.keras.layers.LSTM(128)))\n",
        "    model.add(tf.keras.layers.Dense(64))\n",
        "    model.add(tf.keras.layers.Dense(17, activation='softmax'))    ## 17개의 대분류 분류\n",
        "    model.summary() \n",
        "    return model\n",
        "\n",
        "model = build_model()    "
      ],
      "execution_count": 99,
      "outputs": [
        {
          "output_type": "stream",
          "text": [
            "Model: \"sequential\"\n",
            "_________________________________________________________________\n",
            "Layer (type)                 Output Shape              Param #   \n",
            "=================================================================\n",
            "bidirectional (Bidirectional (None, None, 256)         644096    \n",
            "_________________________________________________________________\n",
            "bidirectional_1 (Bidirection (None, 256)               394240    \n",
            "_________________________________________________________________\n",
            "dense (Dense)                (None, 64)                16448     \n",
            "_________________________________________________________________\n",
            "dense_1 (Dense)              (None, 17)                1105      \n",
            "=================================================================\n",
            "Total params: 1,055,889\n",
            "Trainable params: 1,055,889\n",
            "Non-trainable params: 0\n",
            "_________________________________________________________________\n"
          ],
          "name": "stdout"
        }
      ]
    },
    {
      "cell_type": "code",
      "metadata": {
        "colab": {
          "base_uri": "https://localhost:8080/"
        },
        "id": "HnGAqL1WlV7S",
        "outputId": "d85d8394-002b-4566-b0f0-8f1eec2f5aaf"
      },
      "source": [
        "# ## input 2d에서 3d로 바꿔야함!!\n",
        "# def build_model():\n",
        "#     inp = Input(shape=(None,n_features))\n",
        "#     x = Bidirectional(GRU(256, return_sequences=True))(inp)\n",
        "#     avg_pool = GlobalAveragePooling1D()(x)\n",
        "#     max_pool = GlobalMaxPooling1D()(x)\n",
        "#     conc = concatenate([avg_pool, max_pool])\n",
        "#     outp = Dense(17, activation=\"softmax\")(conc)\n",
        "    \n",
        "#     model = Model(inputs=inp, outputs=outp)\n",
        "#     model.summary()\n",
        "\n",
        "#     return model\n",
        "\n",
        "# model = build_model()    "
      ],
      "execution_count": 14,
      "outputs": [
        {
          "output_type": "stream",
          "text": [
            "Model: \"model\"\n",
            "__________________________________________________________________________________________________\n",
            "Layer (type)                    Output Shape         Param #     Connected to                     \n",
            "==================================================================================================\n",
            "input_1 (InputLayer)            [(None, None, 500)]  0                                            \n",
            "__________________________________________________________________________________________________\n",
            "bidirectional (Bidirectional)   (None, None, 512)    1164288     input_1[0][0]                    \n",
            "__________________________________________________________________________________________________\n",
            "global_average_pooling1d (Globa (None, 512)          0           bidirectional[0][0]              \n",
            "__________________________________________________________________________________________________\n",
            "global_max_pooling1d (GlobalMax (None, 512)          0           bidirectional[0][0]              \n",
            "__________________________________________________________________________________________________\n",
            "concatenate (Concatenate)       (None, 1024)         0           global_average_pooling1d[0][0]   \n",
            "                                                                 global_max_pooling1d[0][0]       \n",
            "__________________________________________________________________________________________________\n",
            "dense (Dense)                   (None, 17)           17425       concatenate[0][0]                \n",
            "==================================================================================================\n",
            "Total params: 1,181,713\n",
            "Trainable params: 1,181,713\n",
            "Non-trainable params: 0\n",
            "__________________________________________________________________________________________________\n"
          ],
          "name": "stdout"
        }
      ]
    },
    {
      "cell_type": "code",
      "metadata": {
        "colab": {
          "base_uri": "https://localhost:8080/"
        },
        "id": "2gwh_FRslHWI",
        "outputId": "ebda514f-6888-4ff7-8f6f-e5de3a1033e9"
      },
      "source": [
        "X_train_p.shape"
      ],
      "execution_count": 33,
      "outputs": [
        {
          "output_type": "execute_result",
          "data": {
            "text/plain": [
              "(1010375, 500)"
            ]
          },
          "metadata": {
            "tags": []
          },
          "execution_count": 33
        }
      ]
    },
    {
      "cell_type": "code",
      "metadata": {
        "colab": {
          "base_uri": "https://localhost:8080/"
        },
        "id": "NZmBtupdlpqM",
        "outputId": "4e417453-3723-4656-8913-a3c343a57acb"
      },
      "source": [
        "X_train_p.reshape(-1, 1, 500).shape"
      ],
      "execution_count": 46,
      "outputs": [
        {
          "output_type": "execute_result",
          "data": {
            "text/plain": [
              "(1010375, 1, 500)"
            ]
          },
          "metadata": {
            "tags": []
          },
          "execution_count": 46
        }
      ]
    },
    {
      "cell_type": "code",
      "metadata": {
        "colab": {
          "base_uri": "https://localhost:8080/"
        },
        "id": "c8MDSwKpkUwz",
        "outputId": "443e03ff-7702-40b0-eea9-a3599777d3a7"
      },
      "source": [
        "batch_size =  512\n",
        "epoch = 10\n",
        "\n",
        "X_train_p_re = X_train_p.reshape(-1, 1, 500)\n",
        "X_valid_p_re = X_valid_p.reshape(-1, 1, 500)\n",
        "\n",
        "model.compile(loss='categorical_crossentropy', optimizer='adam', metrics=['accuracy'])    \n",
        "history = model.fit(X_train_p_re, tr_y, epochs=epoch, validation_data=(X_valid_p_re, val_y), batch_size=512) "
      ],
      "execution_count": 100,
      "outputs": [
        {
          "output_type": "stream",
          "text": [
            "Epoch 1/10\n",
            "1831/1831 [==============================] - 32s 7ms/step - loss: 1.2108 - accuracy: 0.6423 - val_loss: 0.8664 - val_accuracy: 0.7244\n",
            "Epoch 2/10\n",
            "1831/1831 [==============================] - 12s 6ms/step - loss: 0.8468 - accuracy: 0.7296 - val_loss: 0.8391 - val_accuracy: 0.7301\n",
            "Epoch 3/10\n",
            "1831/1831 [==============================] - 12s 6ms/step - loss: 0.8261 - accuracy: 0.7335 - val_loss: 0.8198 - val_accuracy: 0.7359\n",
            "Epoch 4/10\n",
            "1831/1831 [==============================] - 12s 6ms/step - loss: 0.8003 - accuracy: 0.7400 - val_loss: 0.8086 - val_accuracy: 0.7384\n",
            "Epoch 5/10\n",
            "1831/1831 [==============================] - 12s 6ms/step - loss: 0.7852 - accuracy: 0.7434 - val_loss: 0.7974 - val_accuracy: 0.7405\n",
            "Epoch 6/10\n",
            "1831/1831 [==============================] - 12s 6ms/step - loss: 0.7680 - accuracy: 0.7479 - val_loss: 0.7811 - val_accuracy: 0.7456\n",
            "Epoch 7/10\n",
            "1831/1831 [==============================] - 12s 7ms/step - loss: 0.7487 - accuracy: 0.7540 - val_loss: 0.7727 - val_accuracy: 0.7484\n",
            "Epoch 8/10\n",
            "1831/1831 [==============================] - 12s 7ms/step - loss: 0.7290 - accuracy: 0.7600 - val_loss: 0.7608 - val_accuracy: 0.7513\n",
            "Epoch 9/10\n",
            "1831/1831 [==============================] - 12s 7ms/step - loss: 0.7141 - accuracy: 0.7634 - val_loss: 0.7510 - val_accuracy: 0.7559\n",
            "Epoch 10/10\n",
            "1831/1831 [==============================] - 12s 7ms/step - loss: 0.6968 - accuracy: 0.7692 - val_loss: 0.7430 - val_accuracy: 0.7583\n"
          ],
          "name": "stdout"
        }
      ]
    },
    {
      "cell_type": "markdown",
      "metadata": {
        "id": "aEqI4W-hKdpF"
      },
      "source": [
        "더 학습시켜볼만함 "
      ]
    },
    {
      "cell_type": "code",
      "metadata": {
        "colab": {
          "base_uri": "https://localhost:8080/",
          "height": 541
        },
        "id": "TdZ6kzL4Kal9",
        "outputId": "2a169e66-bcc2-4711-e801-6d08bd8d99a7"
      },
      "source": [
        "import matplotlib.pyplot as plt\n",
        "acc=history.history['accuracy']\n",
        "val_acc=history.history['val_accuracy']\n",
        "loss=history.history['loss']\n",
        "val_loss=history.history['val_loss']\n",
        "epochs=range(1,len(acc)+1)\n",
        "\n",
        "plt.plot(epochs,acc,'g',label='training acc')\n",
        "plt.plot(epochs,val_acc,'ro',label='validation acc')\n",
        "plt.title('training and validation accuracy')\n",
        "plt.legend()\n",
        "plt.figure()\n",
        "plt.plot(epochs,loss,'g',label='training loss')\n",
        "plt.plot(epochs,val_loss,'ro',label='validation loss')\n",
        "plt.title('training and validation loss')\n",
        "plt.legend()\n",
        "plt.show()"
      ],
      "execution_count": 101,
      "outputs": [
        {
          "output_type": "display_data",
          "data": {
            "image/png": "[encoded data removed]",
            "text/plain": [
              "<Figure size 432x288 with 1 Axes>"
            ]
          },
          "metadata": {
            "tags": [],
            "needs_background": "light"
          }
        },
        {
          "output_type": "display_data",
          "data": {
            "image/png": "[encoded data removed]",
            "text/plain": [
              "<Figure size 432x288 with 1 Axes>"
            ]
          },
          "metadata": {
            "tags": [],
            "needs_background": "light"
          }
        }
      ]
    },
    {
      "cell_type": "markdown",
      "metadata": {
        "id": "6uYYlNoWkexg"
      },
      "source": [
        "## 단순 Dense"
      ]
    },
    {
      "cell_type": "code",
      "metadata": {
        "colab": {
          "base_uri": "https://localhost:8080/"
        },
        "id": "ChovWS26i22-",
        "outputId": "7ca37c3c-0ec3-4aaa-f4fe-8228d50c06b5"
      },
      "source": [
        "from tensorflow.keras.models import Sequential\n",
        "from tensorflow.keras.layers import Embedding, Bidirectional, Dense, LSTM, SimpleRNN, Dropout\n",
        "\n",
        "model = Sequential()\n",
        "model.add(Dense(3000, kernel_initializer= 'he_normal', activation='relu', input_dim=500))\n",
        "model.add(Dropout(0.5))\n",
        "model.add(Dense(1000, kernel_initializer= 'he_normal', activation='relu'))\n",
        "\n",
        "model.add(Dense(300, kernel_initializer= 'he_normal', activation='relu'))   # 원래 50\n",
        "model.add(Dropout(0.5))\n",
        "\n",
        "model.add(Dense(17, activation='softmax'))\n",
        "model.summary()"
      ],
      "execution_count": 118,
      "outputs": [
        {
          "output_type": "stream",
          "text": [
            "Model: \"sequential_5\"\n",
            "_________________________________________________________________\n",
            "Layer (type)                 Output Shape              Param #   \n",
            "=================================================================\n",
            "dense_17 (Dense)             (None, 3000)              1503000   \n",
            "_________________________________________________________________\n",
            "dropout_6 (Dropout)          (None, 3000)              0         \n",
            "_________________________________________________________________\n",
            "dense_18 (Dense)             (None, 1000)              3001000   \n",
            "_________________________________________________________________\n",
            "dense_19 (Dense)             (None, 300)               300300    \n",
            "_________________________________________________________________\n",
            "dropout_7 (Dropout)          (None, 300)               0         \n",
            "_________________________________________________________________\n",
            "dense_20 (Dense)             (None, 17)                5117      \n",
            "=================================================================\n",
            "Total params: 4,809,417\n",
            "Trainable params: 4,809,417\n",
            "Non-trainable params: 0\n",
            "_________________________________________________________________\n"
          ],
          "name": "stdout"
        }
      ]
    },
    {
      "cell_type": "code",
      "metadata": {
        "id": "0g0P8rm2i20j"
      },
      "source": [
        "model.compile(optimizer='adam',\n",
        "              loss='categorical_crossentropy',\n",
        "              metrics=['accuracy'])"
      ],
      "execution_count": 119,
      "outputs": []
    },
    {
      "cell_type": "code",
      "metadata": {
        "colab": {
          "base_uri": "https://localhost:8080/"
        },
        "id": "7fSTBxUgLMue",
        "outputId": "5026733c-003c-44b9-bc90-188731b614dc"
      },
      "source": [
        "history = model.fit(X_train_p, tr_y, epochs=20, batch_size=512, validation_split=0.2)"
      ],
      "execution_count": 120,
      "outputs": [
        {
          "output_type": "stream",
          "text": [
            "Epoch 1/20\n",
            "1465/1465 [==============================] - 9s 6ms/step - loss: 1.0584 - accuracy: 0.6848 - val_loss: 0.8225 - val_accuracy: 0.7375\n",
            "Epoch 2/20\n",
            "1465/1465 [==============================] - 8s 5ms/step - loss: 0.8347 - accuracy: 0.7386 - val_loss: 0.7732 - val_accuracy: 0.7518\n",
            "Epoch 3/20\n",
            "1465/1465 [==============================] - 8s 5ms/step - loss: 0.7677 - accuracy: 0.7551 - val_loss: 0.7365 - val_accuracy: 0.7627\n",
            "Epoch 4/20\n",
            "1465/1465 [==============================] - 8s 5ms/step - loss: 0.7096 - accuracy: 0.7706 - val_loss: 0.7129 - val_accuracy: 0.7713\n",
            "Epoch 5/20\n",
            "1465/1465 [==============================] - 8s 6ms/step - loss: 0.6664 - accuracy: 0.7820 - val_loss: 0.6898 - val_accuracy: 0.7786\n",
            "Epoch 6/20\n",
            "1465/1465 [==============================] - 8s 5ms/step - loss: 0.6274 - accuracy: 0.7926 - val_loss: 0.6816 - val_accuracy: 0.7834\n",
            "Epoch 7/20\n",
            "1465/1465 [==============================] - 8s 5ms/step - loss: 0.5973 - accuracy: 0.8006 - val_loss: 0.6752 - val_accuracy: 0.7882\n",
            "Epoch 8/20\n",
            "1465/1465 [==============================] - 8s 5ms/step - loss: 0.5724 - accuracy: 0.8085 - val_loss: 0.6746 - val_accuracy: 0.7900\n",
            "Epoch 9/20\n",
            "1465/1465 [==============================] - 8s 5ms/step - loss: 0.5518 - accuracy: 0.8139 - val_loss: 0.6684 - val_accuracy: 0.7934\n",
            "Epoch 10/20\n",
            "1465/1465 [==============================] - 8s 6ms/step - loss: 0.5289 - accuracy: 0.8210 - val_loss: 0.6698 - val_accuracy: 0.7952\n",
            "Epoch 11/20\n",
            "1465/1465 [==============================] - 8s 5ms/step - loss: 0.5132 - accuracy: 0.8248 - val_loss: 0.6697 - val_accuracy: 0.7966\n",
            "Epoch 12/20\n",
            "1465/1465 [==============================] - 8s 5ms/step - loss: 0.4983 - accuracy: 0.8286 - val_loss: 0.6749 - val_accuracy: 0.7974\n",
            "Epoch 13/20\n",
            "1465/1465 [==============================] - 8s 5ms/step - loss: 0.4863 - accuracy: 0.8315 - val_loss: 0.6758 - val_accuracy: 0.7986\n",
            "Epoch 14/20\n",
            "1465/1465 [==============================] - 8s 6ms/step - loss: 0.4735 - accuracy: 0.8361 - val_loss: 0.6835 - val_accuracy: 0.7993\n",
            "Epoch 15/20\n",
            "1465/1465 [==============================] - 8s 5ms/step - loss: 0.4572 - accuracy: 0.8406 - val_loss: 0.6823 - val_accuracy: 0.8006\n",
            "Epoch 16/20\n",
            "1465/1465 [==============================] - 8s 5ms/step - loss: 0.4469 - accuracy: 0.8436 - val_loss: 0.6928 - val_accuracy: 0.8011\n",
            "Epoch 17/20\n",
            "1465/1465 [==============================] - 8s 5ms/step - loss: 0.4369 - accuracy: 0.8469 - val_loss: 0.6971 - val_accuracy: 0.7999\n",
            "Epoch 18/20\n",
            "1465/1465 [==============================] - 8s 5ms/step - loss: 0.4311 - accuracy: 0.8484 - val_loss: 0.6964 - val_accuracy: 0.8016\n",
            "Epoch 19/20\n",
            "1465/1465 [==============================] - 8s 5ms/step - loss: 0.4204 - accuracy: 0.8519 - val_loss: 0.7003 - val_accuracy: 0.8028\n",
            "Epoch 20/20\n",
            "1465/1465 [==============================] - 8s 5ms/step - loss: 0.4107 - accuracy: 0.8549 - val_loss: 0.7005 - val_accuracy: 0.8032\n"
          ],
          "name": "stdout"
        }
      ]
    },
    {
      "cell_type": "code",
      "metadata": {
        "colab": {
          "base_uri": "https://localhost:8080/"
        },
        "id": "btROoitCK5g8",
        "outputId": "828b616a-8d1a-4a4a-872f-89480f7635f1"
      },
      "source": [
        "model.evaluate(X_test_p,te_y)  # 많이 오르긴함... 샘플링한게 "
      ],
      "execution_count": 116,
      "outputs": [
        {
          "output_type": "stream",
          "text": [
            "9153/9153 [==============================] - 16s 2ms/step - loss: 0.7175 - accuracy: 0.7981\n"
          ],
          "name": "stdout"
        },
        {
          "output_type": "execute_result",
          "data": {
            "text/plain": [
              "[0.7175302505493164, 0.7980667948722839]"
            ]
          },
          "metadata": {
            "tags": []
          },
          "execution_count": 116
        }
      ]
    },
    {
      "cell_type": "code",
      "metadata": {
        "colab": {
          "base_uri": "https://localhost:8080/"
        },
        "id": "qSlYskH8j5gm",
        "outputId": "ce0c7d4d-b373-447a-c97c-edbfce5b700c"
      },
      "source": [
        "model.evaluate(X_test_p,te_y)  # 그냥 dense일 때 "
      ],
      "execution_count": 27,
      "outputs": [
        {
          "output_type": "stream",
          "text": [
            "9867/9867 [==============================] - 20s 2ms/step - loss: 0.9252 - accuracy: 0.7172\n"
          ],
          "name": "stdout"
        },
        {
          "output_type": "execute_result",
          "data": {
            "text/plain": [
              "[0.9251856803894043, 0.7172320485115051]"
            ]
          },
          "metadata": {
            "tags": []
          },
          "execution_count": 27
        }
      ]
    },
    {
      "cell_type": "code",
      "metadata": {
        "id": "Cbdrp_vsM3Zf"
      },
      "source": [
        "from sklearn.model_selection import StratifiedKFold\n",
        "n_fold = 5  \n",
        "seed = 42\n",
        "\n",
        "cv = StratifiedKFold(n_splits = n_fold, shuffle=True, random_state=seed)\n",
        "\n",
        "for i, (i_trn, i_val) in enumerate(cv.split(train_x, Y_train), 1):\n",
        "    print(f'training model for CV #{i}')\n",
        "\n",
        "    model3.fit(train_x[i_trn], \n",
        "            to_categorical(Y_train[i_trn]),\n",
        "            validation_data=(train_x[i_val], to_categorical(Y_train[i_val])),\n",
        "            epochs=10,\n",
        "            batch_size=512)"
      ],
      "execution_count": null,
      "outputs": []
    },
    {
      "cell_type": "markdown",
      "metadata": {
        "id": "5aH6wevaLBJv"
      },
      "source": [
        "샘플링 한게 훨씬 좋음"
      ]
    },
    {
      "cell_type": "code",
      "metadata": {
        "colab": {
          "base_uri": "https://localhost:8080/",
          "height": 541
        },
        "id": "OQ_iE-ryK_jZ",
        "outputId": "634645d7-2420-401d-d814-f1d059aa08fd"
      },
      "source": [
        "import matplotlib.pyplot as plt\n",
        "acc=history.history['accuracy']\n",
        "val_acc=history.history['val_accuracy']\n",
        "loss=history.history['loss']\n",
        "val_loss=history.history['val_loss']\n",
        "epochs=range(1,len(acc)+1)\n",
        "\n",
        "plt.plot(epochs,acc,'g',label='training acc')\n",
        "plt.plot(epochs,val_acc,'ro',label='validation acc')\n",
        "plt.title('training and validation accuracy')\n",
        "plt.legend()\n",
        "plt.figure()\n",
        "plt.plot(epochs,loss,'g',label='training loss')\n",
        "plt.plot(epochs,val_loss,'ro',label='validation loss')\n",
        "plt.title('training and validation loss')\n",
        "plt.legend()\n",
        "plt.show()"
      ],
      "execution_count": 117,
      "outputs": [
        {
          "output_type": "display_data",
          "data": {
            "image/png": "[encoded data removed]",
            "text/plain": [
              "<Figure size 432x288 with 1 Axes>"
            ]
          },
          "metadata": {
            "tags": [],
            "needs_background": "light"
          }
        },
        {
          "output_type": "display_data",
          "data": {
            "image/png": "[encoded data removed]",
            "text/plain": [
              "<Figure size 432x288 with 1 Axes>"
            ]
          },
          "metadata": {
            "tags": [],
            "needs_background": "light"
          }
        }
      ]
    },
    {
      "cell_type": "markdown",
      "metadata": {
        "id": "jFS5fLT2Mo9G"
      },
      "source": [
        "이건 하기 전 "
      ]
    },
    {
      "cell_type": "code",
      "metadata": {
        "colab": {
          "base_uri": "https://localhost:8080/",
          "height": 541
        },
        "id": "_oABYR2mi2vB",
        "outputId": "f0f771b6-c499-44a6-fde5-c16029d00e77"
      },
      "source": [
        "import matplotlib.pyplot as plt\n",
        "acc=history.history['accuracy']\n",
        "val_acc=history.history['val_accuracy']\n",
        "loss=history.history['loss']\n",
        "val_loss=history.history['val_loss']\n",
        "epochs=range(1,len(acc)+1)\n",
        "\n",
        "plt.plot(epochs,acc,'g',label='training acc')\n",
        "plt.plot(epochs,val_acc,'ro',label='validation acc')\n",
        "plt.title('training and validation accuracy')\n",
        "plt.legend()\n",
        "plt.figure()\n",
        "plt.plot(epochs,loss,'g',label='training loss')\n",
        "plt.plot(epochs,val_loss,'ro',label='validation loss')\n",
        "plt.title('training and validation loss')\n",
        "plt.legend()\n",
        "plt.show()"
      ],
      "execution_count": 26,
      "outputs": [
        {
          "output_type": "display_data",
          "data": {
            "image/png": "[encoded data removed]",
            "text/plain": [
              "<Figure size 432x288 with 1 Axes>"
            ]
          },
          "metadata": {
            "tags": [],
            "needs_background": "light"
          }
        },
        {
          "output_type": "display_data",
          "data": {
            "image/png": "[encoded data removed]",
            "text/plain": [
              "<Figure size 432x288 with 1 Axes>"
            ]
          },
          "metadata": {
            "tags": [],
            "needs_background": "light"
          }
        }
      ]
    },
    {
      "cell_type": "code",
      "metadata": {
        "id": "IcTn2o7qg_ut"
      },
      "source": [
        ""
      ],
      "execution_count": null,
      "outputs": []
    },
    {
      "cell_type": "code",
      "metadata": {
        "id": "A0D11OjPg_ru"
      },
      "source": [
        ""
      ],
      "execution_count": null,
      "outputs": []
    },
    {
      "cell_type": "code",
      "metadata": {
        "id": "T18iDFuEg_o7"
      },
      "source": [
        ""
      ],
      "execution_count": null,
      "outputs": []
    }
  ]
}