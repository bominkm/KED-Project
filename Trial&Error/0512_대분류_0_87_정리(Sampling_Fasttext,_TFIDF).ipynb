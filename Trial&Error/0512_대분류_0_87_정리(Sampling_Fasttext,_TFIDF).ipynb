{
  "nbformat": 4,
  "nbformat_minor": 0,
  "metadata": {
    "colab": {
      "name": "0512 대분류 0.87 정리(Sampling Fasttext, TFIDF).ipynb",
      "provenance": [],
      "collapsed_sections": [],
      "machine_shape": "hm"
    },
    "kernelspec": {
      "name": "python3",
      "display_name": "Python 3"
    },
    "language_info": {
      "name": "python"
    },
    "accelerator": "GPU"
  },
  "cells": [
    {
      "cell_type": "markdown",
      "metadata": {
        "id": "xfTlulQuLmZZ"
      },
      "source": [
        "# **현재 대분류 분류 모델 최고성능** \n",
        "- 현재 최고성능 train 0.92, test 0.87 (Gru + pooling, Bilstm)\n",
        "- **Random over + under sampling** "
      ]
    },
    {
      "cell_type": "code",
      "metadata": {
        "colab": {
          "base_uri": "https://localhost:8080/"
        },
        "id": "FTBkCRdbLhaN",
        "outputId": "b531a3d0-8e68-48ce-aace-993c66f21d5e"
      },
      "source": [
        "# library \n",
        "import tensorflow as tf\n",
        "import pandas as pd\n",
        "import numpy as np\n",
        "from tqdm import tqdm, tqdm_notebook\n",
        "from sklearn.model_selection import train_test_split\n",
        "import sys \n",
        "import math\n",
        "\n",
        "# !pip install fasttext\n",
        "import fasttext\n",
        "\n",
        "import matplotlib.pyplot as plt\n",
        "import seaborn as sns\n",
        "sns.set_style('whitegrid')\n",
        "plt.style.use(\"fivethirtyeight\")\n",
        "%matplotlib inline\n",
        "\n",
        "# sampler\n",
        "from imblearn.over_sampling import RandomOverSampler\n",
        "from imblearn.under_sampling import RandomUnderSampler \n",
        "\n",
        "import warnings\n",
        "warnings.filterwarnings('ignore')"
      ],
      "execution_count": null,
      "outputs": [
        {
          "output_type": "stream",
          "text": [
            "Requirement already satisfied: fasttext in /usr/local/lib/python3.7/dist-packages (0.9.2)\n",
            "Requirement already satisfied: setuptools>=0.7.0 in /usr/local/lib/python3.7/dist-packages (from fasttext) (56.1.0)\n",
            "Requirement already satisfied: numpy in /usr/local/lib/python3.7/dist-packages (from fasttext) (1.19.5)\n",
            "Requirement already satisfied: pybind11>=2.2 in /usr/local/lib/python3.7/dist-packages (from fasttext) (2.6.2)\n"
          ],
          "name": "stdout"
        },
        {
          "output_type": "stream",
          "text": [
            "/usr/local/lib/python3.7/dist-packages/sklearn/externals/six.py:31: FutureWarning: The module is deprecated in version 0.21 and will be removed in version 0.23 since we've dropped support for Python 2.7. Please rely on the official version of six (https://pypi.org/project/six/).\n",
            "  \"(https://pypi.org/project/six/).\", FutureWarning)\n",
            "/usr/local/lib/python3.7/dist-packages/sklearn/utils/deprecation.py:144: FutureWarning: The sklearn.neighbors.base module is  deprecated in version 0.22 and will be removed in version 0.24. The corresponding classes / functions should instead be imported from sklearn.neighbors. Anything that cannot be imported from sklearn.neighbors is now part of the private API.\n",
            "  warnings.warn(message, FutureWarning)\n"
          ],
          "name": "stderr"
        }
      ]
    },
    {
      "cell_type": "code",
      "metadata": {
        "id": "OVyJF4XkLjYl"
      },
      "source": [
        "# # preprocessing \n",
        "# def drop_token(x):\n",
        "#     sw = ['부대사업','사업','부대','각호','판매업', '한다', '거나', '에게']   # stopwords\n",
        "#     x = [word for word in x if not word in sw]\n",
        "#     if len(x)>50:         # drop \n",
        "#       return x[:50]\n",
        "#     else:\n",
        "#       return x  \n",
        "# data['token'] = data['token'].apply(drop_token)   # 미리 토큰 전처리 \n",
        "# data_big = data[['company', 'big', 'token']]\n",
        "# data_big.to_pickle('/content/drive/MyDrive/Colab Notebooks/Competition/KED 대상팀/data/final_data/대분류용data.pkl')\n",
        "\n",
        "## 위와 같이 전처리 후 pkl로 저장함 (용량 감소를 위해 big과 company, 사업목적토큰만 저장)\n",
        "data = pd.read_pickle('/content/drive/MyDrive/Colab Notebooks/Competition/KED 대상팀/data/final_data/대분류용data.pkl')"
      ],
      "execution_count": null,
      "outputs": []
    },
    {
      "cell_type": "markdown",
      "metadata": {
        "id": "dDxvYkMrOF4B"
      },
      "source": [
        "# 1. Sampling "
      ]
    },
    {
      "cell_type": "code",
      "metadata": {
        "colab": {
          "base_uri": "https://localhost:8080/",
          "height": 296
        },
        "id": "qhTh_ktILjWR",
        "outputId": "afa61ff8-f70d-4c5c-cb47-f1e863a35907"
      },
      "source": [
        "sns.countplot(data=data, x='big', order = data['big'].value_counts().index)\n",
        "plt.title('Big-category distribution')\n",
        "plt.show()"
      ],
      "execution_count": null,
      "outputs": [
        {
          "output_type": "display_data",
          "data": {
            "image/png": "[encoded data removed]",
            "text/plain": [
              "<Figure size 432x288 with 1 Axes>"
            ]
          },
          "metadata": {
            "tags": [],
            "needs_background": "light"
          }
        }
      ]
    },
    {
      "cell_type": "markdown",
      "metadata": {
        "id": "iH6YzNsRM8t9"
      },
      "source": [
        "대분류의 분포가 unbalanced한 것을 확인\n",
        "> 매우 많은 G,C,F는 L,J,M에 맞춰서 Random undersampling   \n",
        "\n",
        "> 매우 적은 P,I,D,R,E,Q는 N,A에 맞춰서 Random oversampling"
      ]
    },
    {
      "cell_type": "code",
      "metadata": {
        "colab": {
          "base_uri": "https://localhost:8080/"
        },
        "id": "mXol6WoLLjTv",
        "outputId": "6666e89b-b205-48a3-f83b-c5eb5f600a15"
      },
      "source": [
        "# undersampling \n",
        "data_under = data.query('big in [\"G\",\"C\",\"F\", \"L\", \"J\", \"M\"]')\n",
        "X = data_under[['company', 'token']]\n",
        "y = data_under['big']\n",
        "\n",
        "us = RandomUnderSampler(random_state=0)   # 다른 파라미터는 조정 안함 \n",
        "X_under, y_under = us.fit_resample(X, y)\n",
        "\n",
        "undered = pd.DataFrame(X_under, columns=['company', 'token'])\n",
        "undered['big'] = y_under\n",
        "pd.Series(y_under).value_counts()"
      ],
      "execution_count": null,
      "outputs": [
        {
          "output_type": "execute_result",
          "data": {
            "text/plain": [
              "G    106443\n",
              "F    106443\n",
              "M    106443\n",
              "L    106443\n",
              "C    106443\n",
              "J    106443\n",
              "dtype: int64"
            ]
          },
          "metadata": {
            "tags": []
          },
          "execution_count": 8
        }
      ]
    },
    {
      "cell_type": "code",
      "metadata": {
        "colab": {
          "base_uri": "https://localhost:8080/"
        },
        "id": "qiX6rwh_LjO5",
        "outputId": "7938606a-2775-47e0-bef8-d6338f80fa59"
      },
      "source": [
        "# oversampling \n",
        "data_over = data.query('big not in [\"G\",\"C\",\"F\", \"L\", \"J\", \"M\"]')\n",
        "X = data_over[['company', 'token']]\n",
        "y = data_over['big']\n",
        "\n",
        "us = RandomOverSampler(random_state=0)\n",
        "X_over, y_over = us.fit_resample(X, y)\n",
        "\n",
        "overed = pd.DataFrame(X_over, columns=['company', 'token'])\n",
        "overed['big'] = y_over\n",
        "overed.big.value_counts()"
      ],
      "execution_count": null,
      "outputs": [
        {
          "output_type": "execute_result",
          "data": {
            "text/plain": [
              "I    75069\n",
              "P    75069\n",
              "R    75069\n",
              "E    75069\n",
              "N    75069\n",
              "K    75069\n",
              "S    75069\n",
              "Q    75069\n",
              "H    75069\n",
              "D    75069\n",
              "A    75069\n",
              "Name: big, dtype: int64"
            ]
          },
          "metadata": {
            "tags": []
          },
          "execution_count": 9
        }
      ]
    },
    {
      "cell_type": "code",
      "metadata": {
        "id": "0CAqIkRCLjMB"
      },
      "source": [
        "sample_data =pd.concat([overed, undered]).reset_index(drop=True)   # concat"
      ],
      "execution_count": null,
      "outputs": []
    },
    {
      "cell_type": "code",
      "metadata": {
        "colab": {
          "base_uri": "https://localhost:8080/",
          "height": 296
        },
        "id": "Xe2tp0INLjJd",
        "outputId": "b6e11290-42e9-4545-ff22-6e846611a385"
      },
      "source": [
        "sns.countplot(data=sample_data, x='big', order = sample_data['big'].value_counts().index)\n",
        "plt.title('Big-category distribution after ROS/RUS')\n",
        "plt.show()"
      ],
      "execution_count": null,
      "outputs": [
        {
          "output_type": "display_data",
          "data": {
            "image/png": "[encoded data removed]",
            "text/plain": [
              "<Figure size 432x288 with 1 Axes>"
            ]
          },
          "metadata": {
            "tags": [],
            "needs_background": "light"
          }
        }
      ]
    },
    {
      "cell_type": "markdown",
      "metadata": {
        "id": "zDZsL1FEO4Ur"
      },
      "source": [
        "-----------------------------------------------\n",
        "# 2. Fasttext + Recurrent Modeling \n"
      ]
    },
    {
      "cell_type": "markdown",
      "metadata": {
        "id": "dDannRhaPV7x"
      },
      "source": [
        "### 1) Preprocessing "
      ]
    },
    {
      "cell_type": "code",
      "metadata": {
        "id": "sKvYj2KiO0lA"
      },
      "source": [
        "EMBEDDING_DIM = 300   # fasttext 임베딩 차원 \n",
        "\n",
        "def drop_token(x):\n",
        "    sw = ['부대사업','사업','부대','각호','판매업', '한다', '거나', '에게']   # 불용어 제거 \n",
        "    x = [word for word in x if not word in sw]\n",
        "\n",
        "    if len(x)>50:   \n",
        "      return x[:50]\n",
        "    else:\n",
        "      return x  # 중복 제거해봄 >> 이게 되게 안좋은가봐\n",
        "\n",
        "\n",
        "# X, y train data 만들기 \n",
        "def read_corpus(path):\n",
        "    data = pd.read_pickle(path)\n",
        "    data = data.query('big not in [\"O\",\"U\",\"T\"]')  # 나중에 out 얘네들 rule base로 쳐내야함 \n",
        "\n",
        "    ## 이걸로 수정함 \n",
        "    X = [x for x in data.iloc[:,-2].apply(drop_token)] \n",
        "    Y = pd.get_dummies(data['big']).values   # 대분류 get dummy로 펼치기 \n",
        "\n",
        "    Xtrain, Xtest, Ytrain, Ytest = train_test_split(X, Y, test_size=0.2,\n",
        "                                                    random_state=1214,\n",
        "                                                    stratify=Y)\n",
        "  \n",
        "    # valid set 추가\n",
        "    tr_x, val_x, tr_y, val_y = train_test_split(Xtrain, Ytrain, test_size=0.2,\n",
        "                                                    random_state=1230,\n",
        "                                                    stratify=Ytrain)\n",
        "    \n",
        "    return np.array(tr_x), np.array(Xtest), np.array(tr_y), np.array(Ytest), np.array(val_x), np.array(val_y)  # array 로 반환 \n",
        "\n",
        "\n",
        "## max_len 제한 둔 패딩 \n",
        "def pad(data, max_len=50):    \n",
        "    if max_len == 0:\n",
        "        max_len = max(len(tokens) for tokens in data)\n",
        "\n",
        "    result = []\n",
        "    for tokens in tqdm(data, desc='Padding'):\n",
        "        if len(tokens) >= max_len:  ## max_len보다 크면 그냥 max_len까지만 자르기 \n",
        "            result.append(tokens[:max_len])\n",
        "\n",
        "        else:\n",
        "            n_to_pad = max_len - len(tokens) \n",
        "            result.append(tokens + [''] * n_to_pad)\n",
        "\n",
        "    return max_len, result\n",
        "\n",
        "\n",
        "## 패딩하기 \n",
        "def preprocess(tokenized_sentences):\n",
        "    max_tokens, padded_sentences = pad(tokenized_sentences)\n",
        "    return padded_sentences\n",
        "\n",
        "### Sequence dataset 맞춤형 딥러닝 \n",
        "class Dataset(tf.keras.utils.Sequence):\n",
        "    fasttext_model_cache = {}\n",
        "    \n",
        "    def __init__(self, x_set, y_set, batch_size):\n",
        "        self.x_set = x_set\n",
        "        self.y_set = y_set\n",
        "        self.batch_size = batch_size\n",
        "\n",
        "        fasttext_model_path = '/content/drive/MyDrive/Colab Notebooks/Competition/KED 대상팀/cc.ko.300.bin' # 나중에 추가학습 시도하기 \n",
        "\n",
        "        if fasttext_model_path not in Dataset.fasttext_model_cache:\n",
        "            Dataset.fasttext_model_cache[fasttext_model_path] = fasttext.load_model(fasttext_model_path)  \n",
        "\n",
        "        self.fasttext_model = Dataset.fasttext_model_cache[fasttext_model_path]\n",
        "\n",
        "    def __len__(self):\n",
        "        return math.ceil(len(self.x_set) / self.batch_size)   \n",
        "\n",
        "    def __getitem__(self, idx):\n",
        "        padded_sentences = self.x_set[idx * self.batch_size:(idx + 1) * self.batch_size]  \n",
        "              \n",
        "        word_vectors = [self.get_word_vectors(padded_sentence) for padded_sentence in padded_sentences]        \n",
        "        batch_y = self.y_set[idx * self.batch_size:(idx + 1) * self.batch_size]\n",
        "        \n",
        "        return np.array(word_vectors), np.array(batch_y)\n",
        "    \n",
        "    ## word_vectors를 얻기 \n",
        "    def get_word_vectors(self, words):\n",
        "        result = []\n",
        "        for word in words:\n",
        "            if not word: \n",
        "                result.append(np.zeros((EMBEDDING_DIM,)))   # LSTM을 위한 zero padding \n",
        "            else:\n",
        "                result.append(self.fasttext_model.get_word_vector(word))\n",
        "\n",
        "        return np.array(result)"
      ],
      "execution_count": null,
      "outputs": []
    },
    {
      "cell_type": "code",
      "metadata": {
        "id": "RmmykZ-YO0ic"
      },
      "source": [
        "# path = '/content/drive/MyDrive/Colab Notebooks/Competition/KED 대상팀/data/final_data/0504_alltoken.pkl'\n",
        "path = '/content/drive/MyDrive/Colab Notebooks/Competition/KED 대상팀/data/final_data/대분류sample.pkl'   # sample data\n",
        "batch_size =  128\n",
        "\n",
        "\n",
        "#### X, y data 만들기 (train 내에서 split 한거임) + valid split까지 \n",
        "train_sentences, test_sentences, train_labels, test_labels, valid_sentences, valid_labels = read_corpus(path)\n",
        "\n",
        "\n",
        "#### train \n",
        "train_padded_sentences = preprocess(train_sentences)   # 패딩하기 \n",
        "train_dataset = Dataset(train_padded_sentences, train_labels, batch_size)    # Dataset 제작 \n",
        "\n",
        "### valid \n",
        "valid_padded_sentences = preprocess(valid_sentences)   # 패딩하기 \n",
        "valid_dataset = Dataset(valid_padded_sentences, valid_labels, batch_size)    # Dataset 제작\n",
        "\n",
        "### test \n",
        "test_padded_sentences = preprocess(test_sentences)       \n",
        "test_batch_size = batch_size   # train과 동일하게 설정 \n",
        "test_dataset = Dataset(test_padded_sentences, test_labels, test_batch_size)     "
      ],
      "execution_count": null,
      "outputs": []
    },
    {
      "cell_type": "code",
      "metadata": {
        "id": "mqXRPoYnO0fi"
      },
      "source": [
        "print(train_dataset, valid_dataset, test_dataset)"
      ],
      "execution_count": null,
      "outputs": []
    },
    {
      "cell_type": "markdown",
      "metadata": {
        "id": "2czKaVtpPZmq"
      },
      "source": [
        "### 2) Modeling\n",
        "- Gru + Pooling concat"
      ]
    },
    {
      "cell_type": "code",
      "metadata": {
        "id": "P_TAFE-UO0cs"
      },
      "source": [
        "from keras.models import Model\n",
        "from keras.layers import Input, Dense, Embedding, SpatialDropout1D, concatenate\n",
        "from keras.layers import GRU, Bidirectional, GlobalAveragePooling1D, GlobalMaxPooling1D\n",
        "from keras.preprocessing import text, sequence\n",
        "from keras.callbacks import Callback\n",
        "from tensorflow.keras.callbacks import EarlyStopping, ReduceLROnPlateau   "
      ],
      "execution_count": null,
      "outputs": []
    },
    {
      "cell_type": "code",
      "metadata": {
        "colab": {
          "base_uri": "https://localhost:8080/"
        },
        "id": "eL5tjM0jO0aN",
        "outputId": "9301b5b3-b21d-47a6-f5cf-51b9b2fe926a"
      },
      "source": [
        "def build_model():\n",
        "    inp = Input(shape=(None,EMBEDDING_DIM))\n",
        "    x = Bidirectional(GRU(256, return_sequences=True))(inp)\n",
        "    avg_pool = GlobalAveragePooling1D()(x)\n",
        "    max_pool = GlobalMaxPooling1D()(x)\n",
        "    conc = concatenate([avg_pool, max_pool])\n",
        "    outp = Dense(17, activation=\"softmax\")(conc)\n",
        "    \n",
        "    model = Model(inputs=inp, outputs=outp)\n",
        "    model.summary()\n",
        "\n",
        "    return model\n",
        "\n",
        "model = build_model()  "
      ],
      "execution_count": null,
      "outputs": [
        {
          "output_type": "stream",
          "text": [
            "Model: \"model\"\n",
            "__________________________________________________________________________________________________\n",
            "Layer (type)                    Output Shape         Param #     Connected to                     \n",
            "==================================================================================================\n",
            "input_1 (InputLayer)            [(None, None, 300)]  0                                            \n",
            "__________________________________________________________________________________________________\n",
            "bidirectional (Bidirectional)   (None, None, 512)    857088      input_1[0][0]                    \n",
            "__________________________________________________________________________________________________\n",
            "global_average_pooling1d (Globa (None, 512)          0           bidirectional[0][0]              \n",
            "__________________________________________________________________________________________________\n",
            "global_max_pooling1d (GlobalMax (None, 512)          0           bidirectional[0][0]              \n",
            "__________________________________________________________________________________________________\n",
            "concatenate (Concatenate)       (None, 1024)         0           global_average_pooling1d[0][0]   \n",
            "                                                                 global_max_pooling1d[0][0]       \n",
            "__________________________________________________________________________________________________\n",
            "dense (Dense)                   (None, 17)           17425       concatenate[0][0]                \n",
            "==================================================================================================\n",
            "Total params: 874,513\n",
            "Trainable params: 874,513\n",
            "Non-trainable params: 0\n",
            "__________________________________________________________________________________________________\n"
          ],
          "name": "stdout"
        }
      ]
    },
    {
      "cell_type": "code",
      "metadata": {
        "id": "Mw2NIuRzO0Xx"
      },
      "source": [
        "batch_size =  128\n",
        "epoch = 10\n",
        "\n",
        "model.compile(loss='categorical_crossentropy', optimizer='adam', metrics=['accuracy'])    \n",
        "history = model.fit(train_dataset, epochs=epoch, validation_data=valid_dataset)  \n",
        "\n",
        "## 1 epoch에 5분정도  # ram도 12기가정도 먹음    "
      ],
      "execution_count": null,
      "outputs": []
    },
    {
      "cell_type": "code",
      "metadata": {
        "id": "xY8Smjt1P0bT"
      },
      "source": [
        "test_loss, test_accuracy = model.evaluate(test_dataset)    \n",
        "print('test_loss', test_loss)\n",
        "print('test_accuracy', test_accuracy)   "
      ],
      "execution_count": null,
      "outputs": []
    },
    {
      "cell_type": "markdown",
      "metadata": {
        "id": "Lyi3IKn0Pyvk"
      },
      "source": [
        "loss: 0.2486 - accuracy: 0.9237 - val_loss: 0.4533 - val_accuracy: 0.8760 (21.05.12 기준)"
      ]
    },
    {
      "cell_type": "code",
      "metadata": {
        "id": "zW007S_6QMwW"
      },
      "source": [
        "# plot \n",
        "import matplotlib.pyplot as plt\n",
        "acc=history.history['accuracy']\n",
        "val_acc=history.history['val_accuracy']\n",
        "loss=history.history['loss']\n",
        "val_loss=history.history['val_loss']\n",
        "epochs=range(1,len(acc)+1)\n",
        "\n",
        "plt.plot(epochs,acc,'g',label='training acc')\n",
        "plt.plot(epochs,val_acc,'ro',label='validation acc')\n",
        "plt.title('training and validation accuracy')\n",
        "plt.legend()\n",
        "plt.figure()\n",
        "plt.plot(epochs,loss,'g',label='training loss')\n",
        "plt.plot(epochs,val_loss,'ro',label='validation loss')\n",
        "plt.title('training and validation loss')\n",
        "plt.legend()    # lstmwltjd\n",
        "plt.show()"
      ],
      "execution_count": null,
      "outputs": []
    },
    {
      "cell_type": "code",
      "metadata": {
        "id": "iJ6BUdmHQGvB"
      },
      "source": [
        "# model.save('/content/drive/MyDrive/Colab Notebooks/Competition/KED 대상팀/model/classfier.fasttext.model/dense+bigru_tok50_sam')"
      ],
      "execution_count": null,
      "outputs": []
    },
    {
      "cell_type": "markdown",
      "metadata": {
        "id": "QcwHRrNVQJte"
      },
      "source": [
        "- Bilstm "
      ]
    },
    {
      "cell_type": "code",
      "metadata": {
        "colab": {
          "base_uri": "https://localhost:8080/"
        },
        "id": "RmVLW-uAO0Vk",
        "outputId": "0cd62ad2-0faf-4e4b-98cd-c22236159146"
      },
      "source": [
        "def build_model():\n",
        "    model = tf.keras.Sequential()\n",
        "    model.add(tf.keras.layers.Bidirectional(tf.keras.layers.LSTM(128, return_sequences=True), \n",
        "                                            input_shape=(None, EMBEDDING_DIM)))\n",
        "    model.add(tf.keras.layers.Bidirectional(tf.keras.layers.LSTM(128)))\n",
        "    model.add(tf.keras.layers.Dense(64))\n",
        "    model.add(tf.keras.layers.Dense(17, activation='softmax'))    ## 17개의 대분류 분류\n",
        "    model.summary() \n",
        "\n",
        "    return model\n",
        "\n",
        "model = build_model()    # 원래모델 "
      ],
      "execution_count": null,
      "outputs": [
        {
          "output_type": "stream",
          "text": [
            "Model: \"sequential\"\n",
            "_________________________________________________________________\n",
            "Layer (type)                 Output Shape              Param #   \n",
            "=================================================================\n",
            "bidirectional_1 (Bidirection (None, None, 256)         439296    \n",
            "_________________________________________________________________\n",
            "bidirectional_2 (Bidirection (None, 256)               394240    \n",
            "_________________________________________________________________\n",
            "dense_1 (Dense)              (None, 64)                16448     \n",
            "_________________________________________________________________\n",
            "dense_2 (Dense)              (None, 17)                1105      \n",
            "=================================================================\n",
            "Total params: 851,089\n",
            "Trainable params: 851,089\n",
            "Non-trainable params: 0\n",
            "_________________________________________________________________\n"
          ],
          "name": "stdout"
        }
      ]
    },
    {
      "cell_type": "code",
      "metadata": {
        "id": "SP_Cd9R2O0TH"
      },
      "source": [
        "batch_size =  128\n",
        "epoch = 10\n",
        "\n",
        "model.compile(loss='categorical_crossentropy', optimizer='adam', metrics=['accuracy'])    \n",
        "history = model.fit(train_dataset, epochs=epoch, validation_data=valid_dataset)  # 1 epoch에 13분 걸림 "
      ],
      "execution_count": null,
      "outputs": []
    },
    {
      "cell_type": "markdown",
      "metadata": {
        "id": "-IHDaGkpQdN5"
      },
      "source": [
        "loss: 0.2533 - accuracy: 0.9205 - val_loss: 0.4584 - val_accuracy: 0.8782   (21.05.12 기준)\n"
      ]
    },
    {
      "cell_type": "code",
      "metadata": {
        "id": "yRXei14_O3wU"
      },
      "source": [
        "# model.save('/content/drive/MyDrive/Colab Notebooks/Competition/KED 대상팀/model/classfier.fasttext.model/bilstm_tok50_sam') "
      ],
      "execution_count": null,
      "outputs": []
    },
    {
      "cell_type": "code",
      "metadata": {
        "id": "0PNsQi8jO3t1"
      },
      "source": [
        "test_loss, test_accuracy = model.evaluate(test_dataset)    \n",
        "print('test_loss', test_loss)\n",
        "print('test_accuracy', test_accuracy)  "
      ],
      "execution_count": null,
      "outputs": []
    },
    {
      "cell_type": "code",
      "metadata": {
        "id": "UrZVhokuQpzj"
      },
      "source": [
        "# plot \n",
        "import matplotlib.pyplot as plt\n",
        "acc=history.history['accuracy']\n",
        "val_acc=history.history['val_accuracy']\n",
        "loss=history.history['loss']\n",
        "val_loss=history.history['val_loss']\n",
        "epochs=range(1,len(acc)+1)\n",
        "\n",
        "plt.plot(epochs,acc,'g',label='training acc')\n",
        "plt.plot(epochs,val_acc,'ro',label='validation acc')\n",
        "plt.title('training and validation accuracy')\n",
        "plt.legend()\n",
        "plt.figure()\n",
        "plt.plot(epochs,loss,'g',label='training loss')\n",
        "plt.plot(epochs,val_loss,'ro',label='validation loss')\n",
        "plt.title('training and validation loss')\n",
        "plt.legend()    # lstmwltjd\n",
        "plt.show()"
      ],
      "execution_count": null,
      "outputs": []
    },
    {
      "cell_type": "code",
      "metadata": {
        "id": "Ygfuv1JAO3rk"
      },
      "source": [
        "# pred 반환 \n",
        "y_pred = model.predict(test_dataset)\n",
        "Y_pred_classes = np.argmax(y_pred,axis = 1) \n",
        "pd.Series(Y_pred_classes).value_counts()    # 예측값 분포 "
      ],
      "execution_count": null,
      "outputs": []
    },
    {
      "cell_type": "markdown",
      "metadata": {
        "id": "YhEmXntfOHtd"
      },
      "source": [
        "---------------------\n",
        "\n",
        "\n",
        "# 3. TF/IDF Modeling  "
      ]
    },
    {
      "cell_type": "code",
      "metadata": {
        "colab": {
          "base_uri": "https://localhost:8080/",
          "height": 137
        },
        "id": "s6FDzKPALjG4",
        "outputId": "f8f50c5d-be95-419a-dad4-d5de555da11c"
      },
      "source": [
        "sample_data.head(3)"
      ],
      "execution_count": null,
      "outputs": [
        {
          "output_type": "execute_result",
          "data": {
            "text/html": [
              "<div>\n",
              "<style scoped>\n",
              "    .dataframe tbody tr th:only-of-type {\n",
              "        vertical-align: middle;\n",
              "    }\n",
              "\n",
              "    .dataframe tbody tr th {\n",
              "        vertical-align: top;\n",
              "    }\n",
              "\n",
              "    .dataframe thead th {\n",
              "        text-align: right;\n",
              "    }\n",
              "</style>\n",
              "<table border=\"1\" class=\"dataframe\">\n",
              "  <thead>\n",
              "    <tr style=\"text-align: right;\">\n",
              "      <th></th>\n",
              "      <th>company</th>\n",
              "      <th>token</th>\n",
              "      <th>big</th>\n",
              "    </tr>\n",
              "  </thead>\n",
              "  <tbody>\n",
              "    <tr>\n",
              "      <th>0</th>\n",
              "      <td>1000107</td>\n",
              "      <td>[자동차, 정비, 자동차, 부속품, 자동차, 견인, 운수업, 철도, 차량, 정비, ...</td>\n",
              "      <td>S</td>\n",
              "    </tr>\n",
              "    <tr>\n",
              "      <th>1</th>\n",
              "      <td>1000206</td>\n",
              "      <td>[산업, 용품, 세탁업, 가정용품, 세탁업, 세탁물, 공급, 섬유, 염색, 표백, ...</td>\n",
              "      <td>S</td>\n",
              "    </tr>\n",
              "    <tr>\n",
              "      <th>2</th>\n",
              "      <td>1000294</td>\n",
              "      <td>[타이어, 공업, 발전, 조사, 연구, 회원, 공동, 이익, 증진, 타이어, 공업,...</td>\n",
              "      <td>S</td>\n",
              "    </tr>\n",
              "  </tbody>\n",
              "</table>\n",
              "</div>"
            ],
            "text/plain": [
              "   company                                              token big\n",
              "0  1000107  [자동차, 정비, 자동차, 부속품, 자동차, 견인, 운수업, 철도, 차량, 정비, ...   S\n",
              "1  1000206  [산업, 용품, 세탁업, 가정용품, 세탁업, 세탁물, 공급, 섬유, 염색, 표백, ...   S\n",
              "2  1000294  [타이어, 공업, 발전, 조사, 연구, 회원, 공동, 이익, 증진, 타이어, 공업,...   S"
            ]
          },
          "metadata": {
            "tags": []
          },
          "execution_count": 13
        }
      ]
    },
    {
      "cell_type": "code",
      "metadata": {
        "colab": {
          "base_uri": "https://localhost:8080/"
        },
        "id": "xTNScKk-Njyt",
        "outputId": "bad4f07e-0e4e-49d6-8c8d-abab8511cb0b"
      },
      "source": [
        "print('샘플링 후 data shape : ', sample_data.shape)\n",
        "print('샘플링 전 원래 data shape : ', data.shape)"
      ],
      "execution_count": null,
      "outputs": [
        {
          "output_type": "stream",
          "text": [
            "샘플링 후 data shape :  (1464417, 3)\n",
            "샘플링 전 원래 data shape :  (1578712, 3)\n"
          ],
          "name": "stdout"
        }
      ]
    },
    {
      "cell_type": "markdown",
      "metadata": {
        "id": "NNdpMdv7OWB_"
      },
      "source": [
        "전, 후 전체적인 데이터 양은 10만개정도 차이나는 수준(거의 비슷함) "
      ]
    },
    {
      "cell_type": "code",
      "metadata": {
        "colab": {
          "base_uri": "https://localhost:8080/"
        },
        "id": "pPx35teJNjus",
        "outputId": "9f219851-32ad-4b53-b159-0a90d7da23f6"
      },
      "source": [
        "X =  [x for x in sample_data.iloc[:,-2]]\n",
        "Y = pd.get_dummies(sample_data['big']).values   # 대분류 get dummy로 펼쳐서 split\n",
        "\n",
        "# split\n",
        "Xtrain, Xtest, Ytrain, Ytest = train_test_split(X, Y, test_size=0.2, random_state=1214)\n",
        "tr_x, val_x, tr_y, val_y = train_test_split(Xtrain, Ytrain, test_size=0.2, random_state=1214)  # valid set 추가\n",
        "print(len(tr_x), len(val_x), len(Xtest))  # 100만개, 20만개, 30만개"
      ],
      "execution_count": null,
      "outputs": [
        {
          "output_type": "stream",
          "text": [
            "937226 234307 292884\n"
          ],
          "name": "stdout"
        }
      ]
    },
    {
      "cell_type": "code",
      "metadata": {
        "colab": {
          "base_uri": "https://localhost:8080/"
        },
        "id": "ktiEJ__gOoC5",
        "outputId": "8dc416bf-b607-4d66-8692-2e48c397bdfb"
      },
      "source": [
        "tr_x[0]"
      ],
      "execution_count": null,
      "outputs": [
        {
          "output_type": "execute_result",
          "data": {
            "text/plain": [
              "['악세사리', '디자인', '의류', '디자인', '신발', '디자인']"
            ]
          },
          "metadata": {
            "tags": []
          },
          "execution_count": 19
        }
      ]
    },
    {
      "cell_type": "markdown",
      "metadata": {
        "id": "KDKoNrMMRB3t"
      },
      "source": [
        "### 1) TFIDF \n"
      ]
    },
    {
      "cell_type": "code",
      "metadata": {
        "id": "r2L3xaQ5Njpe"
      },
      "source": [
        "%%time\n",
        "# preprocessor = TfidfVectorizer(max_features=500)   # tf-idf\n",
        "preprocessor = TfidfVectorizer(min_df=1, ngram_range=(1,1), lowercase=True, max_features=500)   \n",
        "## 유니그램, frequency가 1이상인 것만 추출 \n",
        "X_train_p = preprocessor.fit_transform(tr_x, tr_y).toarray()\n",
        "X_valid_p = preprocessor.transform(val_x).toarray()    \n",
        "X_test_p = preprocessor.transform(te_x).toarray()    "
      ],
      "execution_count": null,
      "outputs": []
    },
    {
      "cell_type": "code",
      "metadata": {
        "id": "1kfRAqvQNjih"
      },
      "source": [
        "print(X_train_p.shape, X_valid_p.shape, X_test_p.shape)  # 패딩 안해도될듯? "
      ],
      "execution_count": null,
      "outputs": []
    },
    {
      "cell_type": "code",
      "metadata": {
        "id": "b_V6rfUGNjfz"
      },
      "source": [
        "# 단어별 idf 출력 + 정렬해봄\n",
        "from operator import itemgetter\n",
        "words = []\n",
        "for i, j in zip(preprocessor.vocabulary_, preprocessor.idf_):\n",
        "  words.append((i, j))\n",
        "words.sort(key=itemgetter(1))\n",
        "pprint(words[490:])   # 클수록 자주 등장하는 애들임"
      ],
      "execution_count": null,
      "outputs": []
    },
    {
      "cell_type": "markdown",
      "metadata": {
        "id": "ZB7H5Zr3REU6"
      },
      "source": [
        "### 2) Modeling \n",
        "- 단순 dense  (빠름)\n"
      ]
    },
    {
      "cell_type": "code",
      "metadata": {
        "id": "CMXHw7KMNjc8"
      },
      "source": [
        "from keras.models import Model\n",
        "from keras.layers import Input, Dense, Embedding, SpatialDropout1D, concatenate\n",
        "from keras.layers import GRU, Bidirectional, GlobalAveragePooling1D, GlobalMaxPooling1D\n",
        "from keras.preprocessing import text, sequence\n",
        "from keras.callbacks import Callback"
      ],
      "execution_count": null,
      "outputs": []
    },
    {
      "cell_type": "code",
      "metadata": {
        "id": "huWtFDSXNjar"
      },
      "source": [
        "n_features = 500      # tf-idf 차원\n",
        "n_classes = 17        # out 제외"
      ],
      "execution_count": null,
      "outputs": []
    },
    {
      "cell_type": "code",
      "metadata": {
        "colab": {
          "base_uri": "https://localhost:8080/"
        },
        "id": "qrxkelvoNjYK",
        "outputId": "b5bcc1c9-f22e-4f08-ba98-06a104119059"
      },
      "source": [
        "from tensorflow.keras.models import Sequential\n",
        "from tensorflow.keras.layers import Embedding, Bidirectional, Dense, LSTM, SimpleRNN, Dropout\n",
        "\n",
        "model = Sequential()\n",
        "model.add(Dense(3000, kernel_initializer= 'he_normal', activation='relu', input_dim=500))\n",
        "model.add(Dropout(0.5))\n",
        "model.add(Dense(1000, kernel_initializer= 'he_normal', activation='relu'))\n",
        "\n",
        "model.add(Dense(300, kernel_initializer= 'he_normal', activation='relu'))   # 원래 50\n",
        "model.add(Dropout(0.5))\n",
        "\n",
        "model.add(Dense(17, activation='softmax'))\n",
        "model.summary()"
      ],
      "execution_count": null,
      "outputs": [
        {
          "output_type": "stream",
          "text": [
            "Model: \"sequential_1\"\n",
            "_________________________________________________________________\n",
            "Layer (type)                 Output Shape              Param #   \n",
            "=================================================================\n",
            "dense_3 (Dense)              (None, 3000)              1503000   \n",
            "_________________________________________________________________\n",
            "dropout (Dropout)            (None, 3000)              0         \n",
            "_________________________________________________________________\n",
            "dense_4 (Dense)              (None, 1000)              3001000   \n",
            "_________________________________________________________________\n",
            "dense_5 (Dense)              (None, 300)               300300    \n",
            "_________________________________________________________________\n",
            "dropout_1 (Dropout)          (None, 300)               0         \n",
            "_________________________________________________________________\n",
            "dense_6 (Dense)              (None, 17)                5117      \n",
            "=================================================================\n",
            "Total params: 4,809,417\n",
            "Trainable params: 4,809,417\n",
            "Non-trainable params: 0\n",
            "_________________________________________________________________\n"
          ],
          "name": "stdout"
        }
      ]
    },
    {
      "cell_type": "code",
      "metadata": {
        "id": "Ux2E4lChNjVw"
      },
      "source": [
        "model.compile(optimizer='adam',\n",
        "              loss='categorical_crossentropy',\n",
        "              metrics=['accuracy'])"
      ],
      "execution_count": null,
      "outputs": []
    },
    {
      "cell_type": "code",
      "metadata": {
        "id": "JZarPbDVOf4r"
      },
      "source": [
        "history = model.fit(X_train_p, tr_y, epochs=20, batch_size=512, validation_split=0.2)"
      ],
      "execution_count": null,
      "outputs": []
    },
    {
      "cell_type": "code",
      "metadata": {
        "id": "8uiu2A4LOf19"
      },
      "source": [
        "model.evaluate(X_test_p,te_y)  # 많이 오르긴함... 샘플링한게 "
      ],
      "execution_count": null,
      "outputs": []
    },
    {
      "cell_type": "markdown",
      "metadata": {
        "id": "IVdk-iGURenJ"
      },
      "source": [
        "loss: 0.4107 - accuracy: 0.8549 - val_loss: 0.7005 - val_accuracy: 0.8032 (21.05.12 기준)"
      ]
    },
    {
      "cell_type": "code",
      "metadata": {
        "id": "c3200H8YRQgJ"
      },
      "source": [
        "import matplotlib.pyplot as plt\n",
        "acc=history.history['accuracy']\n",
        "val_acc=history.history['val_accuracy']\n",
        "loss=history.history['loss']\n",
        "val_loss=history.history['val_loss']\n",
        "epochs=range(1,len(acc)+1)\n",
        "\n",
        "plt.plot(epochs,acc,'g',label='training acc')\n",
        "plt.plot(epochs,val_acc,'ro',label='validation acc')\n",
        "plt.title('training and validation accuracy')\n",
        "plt.legend()\n",
        "plt.figure()\n",
        "plt.plot(epochs,loss,'g',label='training loss')\n",
        "plt.plot(epochs,val_loss,'ro',label='validation loss')\n",
        "plt.title('training and validation loss')\n",
        "plt.legend()\n",
        "plt.show()"
      ],
      "execution_count": null,
      "outputs": []
    },
    {
      "cell_type": "code",
      "metadata": {
        "id": "2qoaiq14OfzD"
      },
      "source": [
        "# from sklearn.model_selection import StratifiedKFold   ## 층화추출도 해볼만함\n",
        "# n_fold = 5  \n",
        "# seed = 42\n",
        "\n",
        "# cv = StratifiedKFold(n_splits = n_fold, shuffle=True, random_state=seed)\n",
        "\n",
        "# for (i_trn, i_val) in enumerate(cv.split(Xtrain, Ytrain)):   # 초기 valid split\n",
        "#     # print(f'training model for CV #{i}')\n",
        "\n",
        "#     model.fit(Xtrain[i_trn], Ytrain[i_trn],\n",
        "#             validation_data=(Xtrain[i_val], Ytrain[i_val]),\n",
        "#             epochs=20,\n",
        "#             batch_size=512)"
      ],
      "execution_count": null,
      "outputs": []
    },
    {
      "cell_type": "markdown",
      "metadata": {
        "id": "wfoMWxM6RSAH"
      },
      "source": [
        "- K-fold 모델링\n",
        "- callback \n",
        "- Lstm 내 dropout (cell dropout 등)"
      ]
    }
  ]
}